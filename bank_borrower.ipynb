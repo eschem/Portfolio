{
 "cells": [
  {
   "cell_type": "markdown",
   "id": "645e7ffb",
   "metadata": {
    "deletable": false,
    "editable": false,
    "id": "c81daeeb"
   },
   "source": [
    "# Исследование надежности заемщиков\n"
   ]
  },
  {
   "cell_type": "markdown",
   "id": "22845455",
   "metadata": {
    "deletable": false,
    "editable": false,
    "id": "827c20bf"
   },
   "source": [
    "Во второй части проекта вы выполните шаги 3 и 4. Их вручную проверит ревьюер.\n",
    "Чтобы вам не пришлось писать код заново для шагов 1 и 2, мы добавили авторские решения в ячейки с кодом. \n",
    "\n"
   ]
  },
  {
   "cell_type": "markdown",
   "id": "3f2054d1",
   "metadata": {},
   "source": [
    "**Заказчик**: кредитный отдел банка. \n",
    "\n",
    "**Данные**: статистика о платёжеспособности клиентов. \n",
    "\n",
    "**Цель работы**: выявить факторы, которые влияют на факт погашения кредита.\n",
    "\n",
    "**Основные задачи**:\n",
    "1. Изучить таблицу с данными;\n",
    "2. Подготовить данные(проверить на наличие дубликатов, добавить новые столбцы, преобразовать данные в нужные типы и провести категоризацию, там где это необходимо); \n",
    "3. Определить:\n",
    "* есть ли зависимость между количеством детей и возвратом кредита в срок;\n",
    "* есть ли зависимость между семейным положением и возвратом кредита в срок;\n",
    "* есть ли зависимость между уровнем дохода и возвратом кредита в срок;\n",
    "* как разные цели кредита влияют на его возврат в срок.\n",
    "\n",
    "**Описание данных**:\n",
    "\n",
    "* **children** — количество детей в семье\n",
    "* **days_employed** — общий трудовой стаж в днях\n",
    "* **dob_years** — возраст клиента в годах\n",
    "* **education** —  уровень образования клиента\n",
    "* **education_id** — идентификатор уровня образования\n",
    "* **family_status** — семейное положение\n",
    "* **family_status_id** — идентификатор семейного положения\n",
    "* **gender** — пол клиента\n",
    "* **income_type** — тип занятости\n",
    "* **debt** — имел ли задолженность по возврату кредитов\n",
    "* **total_income** —  ежемесячный доход\n",
    "* **purpose** —  цель получения кредита"
   ]
  },
  {
   "cell_type": "markdown",
   "id": "e5b7abd7",
   "metadata": {
    "deletable": false,
    "editable": false,
    "id": "744d7639"
   },
   "source": [
    "## Откройте таблицу и изучите общую информацию о данных"
   ]
  },
  {
   "cell_type": "markdown",
   "id": "33de7c64",
   "metadata": {
    "deletable": false,
    "editable": false,
    "id": "e7a14c31"
   },
   "source": [
    "**Задание 1. Импортируйте библиотеку pandas. Считайте данные из csv-файла в датафрейм и сохраните в переменную `data`. Путь к файлу:**\n",
    "\n",
    "`/datasets/data.csv`"
   ]
  },
  {
   "cell_type": "code",
   "execution_count": 1,
   "id": "f183405a",
   "metadata": {
    "deletable": false,
    "id": "7bcf75c9"
   },
   "outputs": [],
   "source": [
    "import pandas as pd\n",
    "\n",
    "try:\n",
    "    data = pd.read_csv('/datasets/data.csv')\n",
    "except:\n",
    "    data = pd.read_csv('https://code.s3.yandex.net/datasets/data.csv')"
   ]
  },
  {
   "cell_type": "markdown",
   "id": "db9b12cb",
   "metadata": {
    "deletable": false,
    "editable": false,
    "id": "b8038fe3"
   },
   "source": [
    "**Задание 2. Выведите первые 20 строчек датафрейма `data` на экран.**"
   ]
  },
  {
   "cell_type": "code",
   "execution_count": 2,
   "id": "78be6612",
   "metadata": {
    "deletable": false,
    "id": "2a7cab99",
    "outputId": "1a8f3ef2-d323-4ec2-ddf7-89670b5944c4"
   },
   "outputs": [
    {
     "data": {
      "text/html": [
       "<div>\n",
       "<style scoped>\n",
       "    .dataframe tbody tr th:only-of-type {\n",
       "        vertical-align: middle;\n",
       "    }\n",
       "\n",
       "    .dataframe tbody tr th {\n",
       "        vertical-align: top;\n",
       "    }\n",
       "\n",
       "    .dataframe thead th {\n",
       "        text-align: right;\n",
       "    }\n",
       "</style>\n",
       "<table border=\"1\" class=\"dataframe\">\n",
       "  <thead>\n",
       "    <tr style=\"text-align: right;\">\n",
       "      <th></th>\n",
       "      <th>children</th>\n",
       "      <th>days_employed</th>\n",
       "      <th>dob_years</th>\n",
       "      <th>education</th>\n",
       "      <th>education_id</th>\n",
       "      <th>family_status</th>\n",
       "      <th>family_status_id</th>\n",
       "      <th>gender</th>\n",
       "      <th>income_type</th>\n",
       "      <th>debt</th>\n",
       "      <th>total_income</th>\n",
       "      <th>purpose</th>\n",
       "    </tr>\n",
       "  </thead>\n",
       "  <tbody>\n",
       "    <tr>\n",
       "      <th>0</th>\n",
       "      <td>1</td>\n",
       "      <td>-8437.673028</td>\n",
       "      <td>42</td>\n",
       "      <td>высшее</td>\n",
       "      <td>0</td>\n",
       "      <td>женат / замужем</td>\n",
       "      <td>0</td>\n",
       "      <td>F</td>\n",
       "      <td>сотрудник</td>\n",
       "      <td>0</td>\n",
       "      <td>253875.639453</td>\n",
       "      <td>покупка жилья</td>\n",
       "    </tr>\n",
       "    <tr>\n",
       "      <th>1</th>\n",
       "      <td>1</td>\n",
       "      <td>-4024.803754</td>\n",
       "      <td>36</td>\n",
       "      <td>среднее</td>\n",
       "      <td>1</td>\n",
       "      <td>женат / замужем</td>\n",
       "      <td>0</td>\n",
       "      <td>F</td>\n",
       "      <td>сотрудник</td>\n",
       "      <td>0</td>\n",
       "      <td>112080.014102</td>\n",
       "      <td>приобретение автомобиля</td>\n",
       "    </tr>\n",
       "    <tr>\n",
       "      <th>2</th>\n",
       "      <td>0</td>\n",
       "      <td>-5623.422610</td>\n",
       "      <td>33</td>\n",
       "      <td>Среднее</td>\n",
       "      <td>1</td>\n",
       "      <td>женат / замужем</td>\n",
       "      <td>0</td>\n",
       "      <td>M</td>\n",
       "      <td>сотрудник</td>\n",
       "      <td>0</td>\n",
       "      <td>145885.952297</td>\n",
       "      <td>покупка жилья</td>\n",
       "    </tr>\n",
       "    <tr>\n",
       "      <th>3</th>\n",
       "      <td>3</td>\n",
       "      <td>-4124.747207</td>\n",
       "      <td>32</td>\n",
       "      <td>среднее</td>\n",
       "      <td>1</td>\n",
       "      <td>женат / замужем</td>\n",
       "      <td>0</td>\n",
       "      <td>M</td>\n",
       "      <td>сотрудник</td>\n",
       "      <td>0</td>\n",
       "      <td>267628.550329</td>\n",
       "      <td>дополнительное образование</td>\n",
       "    </tr>\n",
       "    <tr>\n",
       "      <th>4</th>\n",
       "      <td>0</td>\n",
       "      <td>340266.072047</td>\n",
       "      <td>53</td>\n",
       "      <td>среднее</td>\n",
       "      <td>1</td>\n",
       "      <td>гражданский брак</td>\n",
       "      <td>1</td>\n",
       "      <td>F</td>\n",
       "      <td>пенсионер</td>\n",
       "      <td>0</td>\n",
       "      <td>158616.077870</td>\n",
       "      <td>сыграть свадьбу</td>\n",
       "    </tr>\n",
       "    <tr>\n",
       "      <th>5</th>\n",
       "      <td>0</td>\n",
       "      <td>-926.185831</td>\n",
       "      <td>27</td>\n",
       "      <td>высшее</td>\n",
       "      <td>0</td>\n",
       "      <td>гражданский брак</td>\n",
       "      <td>1</td>\n",
       "      <td>M</td>\n",
       "      <td>компаньон</td>\n",
       "      <td>0</td>\n",
       "      <td>255763.565419</td>\n",
       "      <td>покупка жилья</td>\n",
       "    </tr>\n",
       "    <tr>\n",
       "      <th>6</th>\n",
       "      <td>0</td>\n",
       "      <td>-2879.202052</td>\n",
       "      <td>43</td>\n",
       "      <td>высшее</td>\n",
       "      <td>0</td>\n",
       "      <td>женат / замужем</td>\n",
       "      <td>0</td>\n",
       "      <td>F</td>\n",
       "      <td>компаньон</td>\n",
       "      <td>0</td>\n",
       "      <td>240525.971920</td>\n",
       "      <td>операции с жильем</td>\n",
       "    </tr>\n",
       "    <tr>\n",
       "      <th>7</th>\n",
       "      <td>0</td>\n",
       "      <td>-152.779569</td>\n",
       "      <td>50</td>\n",
       "      <td>СРЕДНЕЕ</td>\n",
       "      <td>1</td>\n",
       "      <td>женат / замужем</td>\n",
       "      <td>0</td>\n",
       "      <td>M</td>\n",
       "      <td>сотрудник</td>\n",
       "      <td>0</td>\n",
       "      <td>135823.934197</td>\n",
       "      <td>образование</td>\n",
       "    </tr>\n",
       "    <tr>\n",
       "      <th>8</th>\n",
       "      <td>2</td>\n",
       "      <td>-6929.865299</td>\n",
       "      <td>35</td>\n",
       "      <td>ВЫСШЕЕ</td>\n",
       "      <td>0</td>\n",
       "      <td>гражданский брак</td>\n",
       "      <td>1</td>\n",
       "      <td>F</td>\n",
       "      <td>сотрудник</td>\n",
       "      <td>0</td>\n",
       "      <td>95856.832424</td>\n",
       "      <td>на проведение свадьбы</td>\n",
       "    </tr>\n",
       "    <tr>\n",
       "      <th>9</th>\n",
       "      <td>0</td>\n",
       "      <td>-2188.756445</td>\n",
       "      <td>41</td>\n",
       "      <td>среднее</td>\n",
       "      <td>1</td>\n",
       "      <td>женат / замужем</td>\n",
       "      <td>0</td>\n",
       "      <td>M</td>\n",
       "      <td>сотрудник</td>\n",
       "      <td>0</td>\n",
       "      <td>144425.938277</td>\n",
       "      <td>покупка жилья для семьи</td>\n",
       "    </tr>\n",
       "    <tr>\n",
       "      <th>10</th>\n",
       "      <td>2</td>\n",
       "      <td>-4171.483647</td>\n",
       "      <td>36</td>\n",
       "      <td>высшее</td>\n",
       "      <td>0</td>\n",
       "      <td>женат / замужем</td>\n",
       "      <td>0</td>\n",
       "      <td>M</td>\n",
       "      <td>компаньон</td>\n",
       "      <td>0</td>\n",
       "      <td>113943.491460</td>\n",
       "      <td>покупка недвижимости</td>\n",
       "    </tr>\n",
       "    <tr>\n",
       "      <th>11</th>\n",
       "      <td>0</td>\n",
       "      <td>-792.701887</td>\n",
       "      <td>40</td>\n",
       "      <td>среднее</td>\n",
       "      <td>1</td>\n",
       "      <td>женат / замужем</td>\n",
       "      <td>0</td>\n",
       "      <td>F</td>\n",
       "      <td>сотрудник</td>\n",
       "      <td>0</td>\n",
       "      <td>77069.234271</td>\n",
       "      <td>покупка коммерческой недвижимости</td>\n",
       "    </tr>\n",
       "    <tr>\n",
       "      <th>12</th>\n",
       "      <td>0</td>\n",
       "      <td>NaN</td>\n",
       "      <td>65</td>\n",
       "      <td>среднее</td>\n",
       "      <td>1</td>\n",
       "      <td>гражданский брак</td>\n",
       "      <td>1</td>\n",
       "      <td>M</td>\n",
       "      <td>пенсионер</td>\n",
       "      <td>0</td>\n",
       "      <td>NaN</td>\n",
       "      <td>сыграть свадьбу</td>\n",
       "    </tr>\n",
       "    <tr>\n",
       "      <th>13</th>\n",
       "      <td>0</td>\n",
       "      <td>-1846.641941</td>\n",
       "      <td>54</td>\n",
       "      <td>неоконченное высшее</td>\n",
       "      <td>2</td>\n",
       "      <td>женат / замужем</td>\n",
       "      <td>0</td>\n",
       "      <td>F</td>\n",
       "      <td>сотрудник</td>\n",
       "      <td>0</td>\n",
       "      <td>130458.228857</td>\n",
       "      <td>приобретение автомобиля</td>\n",
       "    </tr>\n",
       "    <tr>\n",
       "      <th>14</th>\n",
       "      <td>0</td>\n",
       "      <td>-1844.956182</td>\n",
       "      <td>56</td>\n",
       "      <td>высшее</td>\n",
       "      <td>0</td>\n",
       "      <td>гражданский брак</td>\n",
       "      <td>1</td>\n",
       "      <td>F</td>\n",
       "      <td>компаньон</td>\n",
       "      <td>1</td>\n",
       "      <td>165127.911772</td>\n",
       "      <td>покупка жилой недвижимости</td>\n",
       "    </tr>\n",
       "    <tr>\n",
       "      <th>15</th>\n",
       "      <td>1</td>\n",
       "      <td>-972.364419</td>\n",
       "      <td>26</td>\n",
       "      <td>среднее</td>\n",
       "      <td>1</td>\n",
       "      <td>женат / замужем</td>\n",
       "      <td>0</td>\n",
       "      <td>F</td>\n",
       "      <td>сотрудник</td>\n",
       "      <td>0</td>\n",
       "      <td>116820.904450</td>\n",
       "      <td>строительство собственной недвижимости</td>\n",
       "    </tr>\n",
       "    <tr>\n",
       "      <th>16</th>\n",
       "      <td>0</td>\n",
       "      <td>-1719.934226</td>\n",
       "      <td>35</td>\n",
       "      <td>среднее</td>\n",
       "      <td>1</td>\n",
       "      <td>женат / замужем</td>\n",
       "      <td>0</td>\n",
       "      <td>F</td>\n",
       "      <td>сотрудник</td>\n",
       "      <td>0</td>\n",
       "      <td>289202.704229</td>\n",
       "      <td>недвижимость</td>\n",
       "    </tr>\n",
       "    <tr>\n",
       "      <th>17</th>\n",
       "      <td>0</td>\n",
       "      <td>-2369.999720</td>\n",
       "      <td>33</td>\n",
       "      <td>высшее</td>\n",
       "      <td>0</td>\n",
       "      <td>гражданский брак</td>\n",
       "      <td>1</td>\n",
       "      <td>M</td>\n",
       "      <td>сотрудник</td>\n",
       "      <td>0</td>\n",
       "      <td>90410.586745</td>\n",
       "      <td>строительство недвижимости</td>\n",
       "    </tr>\n",
       "    <tr>\n",
       "      <th>18</th>\n",
       "      <td>0</td>\n",
       "      <td>400281.136913</td>\n",
       "      <td>53</td>\n",
       "      <td>среднее</td>\n",
       "      <td>1</td>\n",
       "      <td>вдовец / вдова</td>\n",
       "      <td>2</td>\n",
       "      <td>F</td>\n",
       "      <td>пенсионер</td>\n",
       "      <td>0</td>\n",
       "      <td>56823.777243</td>\n",
       "      <td>на покупку подержанного автомобиля</td>\n",
       "    </tr>\n",
       "    <tr>\n",
       "      <th>19</th>\n",
       "      <td>0</td>\n",
       "      <td>-10038.818549</td>\n",
       "      <td>48</td>\n",
       "      <td>СРЕДНЕЕ</td>\n",
       "      <td>1</td>\n",
       "      <td>в разводе</td>\n",
       "      <td>3</td>\n",
       "      <td>F</td>\n",
       "      <td>сотрудник</td>\n",
       "      <td>0</td>\n",
       "      <td>242831.107982</td>\n",
       "      <td>на покупку своего автомобиля</td>\n",
       "    </tr>\n",
       "  </tbody>\n",
       "</table>\n",
       "</div>"
      ],
      "text/plain": [
       "    children  days_employed  dob_years            education  education_id  \\\n",
       "0          1   -8437.673028         42               высшее             0   \n",
       "1          1   -4024.803754         36              среднее             1   \n",
       "2          0   -5623.422610         33              Среднее             1   \n",
       "3          3   -4124.747207         32              среднее             1   \n",
       "4          0  340266.072047         53              среднее             1   \n",
       "5          0    -926.185831         27               высшее             0   \n",
       "6          0   -2879.202052         43               высшее             0   \n",
       "7          0    -152.779569         50              СРЕДНЕЕ             1   \n",
       "8          2   -6929.865299         35               ВЫСШЕЕ             0   \n",
       "9          0   -2188.756445         41              среднее             1   \n",
       "10         2   -4171.483647         36               высшее             0   \n",
       "11         0    -792.701887         40              среднее             1   \n",
       "12         0            NaN         65              среднее             1   \n",
       "13         0   -1846.641941         54  неоконченное высшее             2   \n",
       "14         0   -1844.956182         56               высшее             0   \n",
       "15         1    -972.364419         26              среднее             1   \n",
       "16         0   -1719.934226         35              среднее             1   \n",
       "17         0   -2369.999720         33               высшее             0   \n",
       "18         0  400281.136913         53              среднее             1   \n",
       "19         0  -10038.818549         48              СРЕДНЕЕ             1   \n",
       "\n",
       "       family_status  family_status_id gender income_type  debt  \\\n",
       "0    женат / замужем                 0      F   сотрудник     0   \n",
       "1    женат / замужем                 0      F   сотрудник     0   \n",
       "2    женат / замужем                 0      M   сотрудник     0   \n",
       "3    женат / замужем                 0      M   сотрудник     0   \n",
       "4   гражданский брак                 1      F   пенсионер     0   \n",
       "5   гражданский брак                 1      M   компаньон     0   \n",
       "6    женат / замужем                 0      F   компаньон     0   \n",
       "7    женат / замужем                 0      M   сотрудник     0   \n",
       "8   гражданский брак                 1      F   сотрудник     0   \n",
       "9    женат / замужем                 0      M   сотрудник     0   \n",
       "10   женат / замужем                 0      M   компаньон     0   \n",
       "11   женат / замужем                 0      F   сотрудник     0   \n",
       "12  гражданский брак                 1      M   пенсионер     0   \n",
       "13   женат / замужем                 0      F   сотрудник     0   \n",
       "14  гражданский брак                 1      F   компаньон     1   \n",
       "15   женат / замужем                 0      F   сотрудник     0   \n",
       "16   женат / замужем                 0      F   сотрудник     0   \n",
       "17  гражданский брак                 1      M   сотрудник     0   \n",
       "18    вдовец / вдова                 2      F   пенсионер     0   \n",
       "19         в разводе                 3      F   сотрудник     0   \n",
       "\n",
       "     total_income                                 purpose  \n",
       "0   253875.639453                           покупка жилья  \n",
       "1   112080.014102                 приобретение автомобиля  \n",
       "2   145885.952297                           покупка жилья  \n",
       "3   267628.550329              дополнительное образование  \n",
       "4   158616.077870                         сыграть свадьбу  \n",
       "5   255763.565419                           покупка жилья  \n",
       "6   240525.971920                       операции с жильем  \n",
       "7   135823.934197                             образование  \n",
       "8    95856.832424                   на проведение свадьбы  \n",
       "9   144425.938277                 покупка жилья для семьи  \n",
       "10  113943.491460                    покупка недвижимости  \n",
       "11   77069.234271       покупка коммерческой недвижимости  \n",
       "12            NaN                         сыграть свадьбу  \n",
       "13  130458.228857                 приобретение автомобиля  \n",
       "14  165127.911772              покупка жилой недвижимости  \n",
       "15  116820.904450  строительство собственной недвижимости  \n",
       "16  289202.704229                            недвижимость  \n",
       "17   90410.586745              строительство недвижимости  \n",
       "18   56823.777243      на покупку подержанного автомобиля  \n",
       "19  242831.107982            на покупку своего автомобиля  "
      ]
     },
     "execution_count": 2,
     "metadata": {},
     "output_type": "execute_result"
    }
   ],
   "source": [
    "data.head(20)"
   ]
  },
  {
   "cell_type": "markdown",
   "id": "485b9f5c",
   "metadata": {
    "deletable": false,
    "editable": false,
    "id": "1c12e233"
   },
   "source": [
    "**Задание 3. Выведите основную информацию о датафрейме с помощью метода `info()`.**"
   ]
  },
  {
   "cell_type": "code",
   "execution_count": 3,
   "id": "185f867e",
   "metadata": {
    "deletable": false,
    "id": "2b757bca",
    "outputId": "15376089-8dad-46c9-b520-c05248d43158"
   },
   "outputs": [
    {
     "name": "stdout",
     "output_type": "stream",
     "text": [
      "<class 'pandas.core.frame.DataFrame'>\n",
      "RangeIndex: 21525 entries, 0 to 21524\n",
      "Data columns (total 12 columns):\n",
      " #   Column            Non-Null Count  Dtype  \n",
      "---  ------            --------------  -----  \n",
      " 0   children          21525 non-null  int64  \n",
      " 1   days_employed     19351 non-null  float64\n",
      " 2   dob_years         21525 non-null  int64  \n",
      " 3   education         21525 non-null  object \n",
      " 4   education_id      21525 non-null  int64  \n",
      " 5   family_status     21525 non-null  object \n",
      " 6   family_status_id  21525 non-null  int64  \n",
      " 7   gender            21525 non-null  object \n",
      " 8   income_type       21525 non-null  object \n",
      " 9   debt              21525 non-null  int64  \n",
      " 10  total_income      19351 non-null  float64\n",
      " 11  purpose           21525 non-null  object \n",
      "dtypes: float64(2), int64(5), object(5)\n",
      "memory usage: 2.0+ MB\n"
     ]
    }
   ],
   "source": [
    "data.info()"
   ]
  },
  {
   "cell_type": "markdown",
   "id": "b72500f7",
   "metadata": {
    "deletable": false,
    "editable": false,
    "id": "333ec665"
   },
   "source": [
    "## Предобработка данных"
   ]
  },
  {
   "cell_type": "markdown",
   "id": "d852b954",
   "metadata": {
    "deletable": false,
    "editable": false,
    "id": "02d92d53"
   },
   "source": [
    "### Удаление пропусков"
   ]
  },
  {
   "cell_type": "markdown",
   "id": "6cd8170d",
   "metadata": {
    "deletable": false,
    "editable": false,
    "id": "cd84967c"
   },
   "source": [
    "**Задание 4. Выведите количество пропущенных значений для каждого столбца. Используйте комбинацию двух методов.**"
   ]
  },
  {
   "cell_type": "code",
   "execution_count": 4,
   "id": "7b61966f",
   "metadata": {
    "deletable": false,
    "id": "7f9b2309",
    "outputId": "81f4d817-781c-465c-ed15-91ce4446810d"
   },
   "outputs": [
    {
     "data": {
      "text/plain": [
       "children               0\n",
       "days_employed       2174\n",
       "dob_years              0\n",
       "education              0\n",
       "education_id           0\n",
       "family_status          0\n",
       "family_status_id       0\n",
       "gender                 0\n",
       "income_type            0\n",
       "debt                   0\n",
       "total_income        2174\n",
       "purpose                0\n",
       "dtype: int64"
      ]
     },
     "execution_count": 4,
     "metadata": {},
     "output_type": "execute_result"
    }
   ],
   "source": [
    "data.isna().sum()"
   ]
  },
  {
   "cell_type": "markdown",
   "id": "c31310dc",
   "metadata": {
    "deletable": false,
    "editable": false,
    "id": "db86e27b"
   },
   "source": [
    "**Задание 5. В двух столбцах есть пропущенные значения. Один из них — `days_employed`. Пропуски в этом столбце вы обработаете на следующем этапе. Другой столбец с пропущенными значениями — `total_income` — хранит данные о доходах. На сумму дохода сильнее всего влияет тип занятости, поэтому заполнить пропуски в этом столбце нужно медианным значением по каждому типу из столбца `income_type`. Например, у человека с типом занятости `сотрудник` пропуск в столбце `total_income` должен быть заполнен медианным доходом среди всех записей с тем же типом.**"
   ]
  },
  {
   "cell_type": "code",
   "execution_count": 5,
   "id": "e82ef769",
   "metadata": {
    "deletable": false,
    "id": "42006a93"
   },
   "outputs": [],
   "source": [
    "for t in data['income_type'].unique():\n",
    "    data.loc[(data['income_type'] == t) & (data['total_income'].isna()), 'total_income'] = \\\n",
    "    data.loc[(data['income_type'] == t), 'total_income'].median()"
   ]
  },
  {
   "cell_type": "markdown",
   "id": "66f19d9e",
   "metadata": {
    "deletable": false,
    "editable": false,
    "id": "89da5ece"
   },
   "source": [
    "### Обработка аномальных значений"
   ]
  },
  {
   "cell_type": "markdown",
   "id": "b6ae9a8d",
   "metadata": {
    "deletable": false,
    "editable": false,
    "id": "57964554"
   },
   "source": [
    "**Задание 6. В данных могут встречаться артефакты (аномалии) — значения, которые не отражают действительность и появились по какой-то ошибке. таким артефактом будет отрицательное количество дней трудового стажа в столбце `days_employed`. Для реальных данных это нормально. Обработайте значения в этом столбце: замените все отрицательные значения положительными с помощью метода `abs()`.**"
   ]
  },
  {
   "cell_type": "code",
   "execution_count": 6,
   "id": "1f81a263",
   "metadata": {
    "deletable": false,
    "id": "f6f055bf"
   },
   "outputs": [],
   "source": [
    "data['days_employed'] = data['days_employed'].abs()"
   ]
  },
  {
   "cell_type": "markdown",
   "id": "99558356",
   "metadata": {
    "deletable": false,
    "editable": false,
    "id": "6107dd2f"
   },
   "source": [
    "**Задание 7. Для каждого типа занятости выведите медианное значение трудового стажа `days_employed` в днях.**"
   ]
  },
  {
   "cell_type": "code",
   "execution_count": 7,
   "id": "3ba905e1",
   "metadata": {
    "deletable": false,
    "id": "85a5faf6",
    "outputId": "801ef80e-522b-4668-f34e-565af7432bcf"
   },
   "outputs": [
    {
     "data": {
      "text/plain": [
       "income_type\n",
       "безработный        366413.652744\n",
       "в декрете            3296.759962\n",
       "госслужащий          2689.368353\n",
       "компаньон            1547.382223\n",
       "пенсионер          365213.306266\n",
       "предприниматель       520.848083\n",
       "сотрудник            1574.202821\n",
       "студент               578.751554\n",
       "Name: days_employed, dtype: float64"
      ]
     },
     "execution_count": 7,
     "metadata": {},
     "output_type": "execute_result"
    }
   ],
   "source": [
    "data.groupby('income_type')['days_employed'].agg('median')"
   ]
  },
  {
   "cell_type": "markdown",
   "id": "4d6ea298",
   "metadata": {
    "deletable": false,
    "editable": false,
    "id": "38d1a030"
   },
   "source": [
    "У двух типов (безработные и пенсионеры) получатся аномально большие значения. Исправить такие значения сложно, поэтому оставьте их как есть. Тем более этот столбец не понадобится вам для исследования."
   ]
  },
  {
   "cell_type": "markdown",
   "id": "49c39387",
   "metadata": {
    "deletable": false,
    "editable": false,
    "id": "d8a9f147"
   },
   "source": [
    "**Задание 8. Выведите перечень уникальных значений столбца `children`.**"
   ]
  },
  {
   "cell_type": "code",
   "execution_count": 8,
   "id": "28d631dd",
   "metadata": {
    "deletable": false,
    "id": "ef5056eb",
    "outputId": "6975b15c-7f95-4697-d16d-a0c79b657b03"
   },
   "outputs": [
    {
     "data": {
      "text/plain": [
       "array([ 1,  0,  3,  2, -1,  4, 20,  5])"
      ]
     },
     "execution_count": 8,
     "metadata": {},
     "output_type": "execute_result"
    }
   ],
   "source": [
    "data['children'].unique()"
   ]
  },
  {
   "cell_type": "markdown",
   "id": "645f6b6d",
   "metadata": {
    "deletable": false,
    "editable": false,
    "id": "40b9ebf2"
   },
   "source": [
    "**Задание 9. В столбце `children` есть два аномальных значения. Удалите строки, в которых встречаются такие аномальные значения из датафрейма `data`.**"
   ]
  },
  {
   "cell_type": "code",
   "execution_count": 9,
   "id": "f111a4cf",
   "metadata": {
    "deletable": false,
    "id": "3ff9801d"
   },
   "outputs": [],
   "source": [
    "data = data[(data['children'] != -1) & (data['children'] != 20)]"
   ]
  },
  {
   "cell_type": "markdown",
   "id": "6c0120d9",
   "metadata": {
    "deletable": false,
    "editable": false,
    "id": "bbc4d0ce"
   },
   "source": [
    "**Задание 10. Ещё раз выведите перечень уникальных значений столбца `children`, чтобы убедиться, что артефакты удалены.**"
   ]
  },
  {
   "cell_type": "code",
   "execution_count": 10,
   "id": "63159a0b",
   "metadata": {
    "deletable": false,
    "id": "ad4fa8b7",
    "outputId": "b2097101-d49d-44d9-901b-32a65c9463d1"
   },
   "outputs": [
    {
     "data": {
      "text/plain": [
       "array([1, 0, 3, 2, 4, 5])"
      ]
     },
     "execution_count": 10,
     "metadata": {},
     "output_type": "execute_result"
    }
   ],
   "source": [
    "data['children'].unique()"
   ]
  },
  {
   "cell_type": "markdown",
   "id": "ff5db241",
   "metadata": {
    "deletable": false,
    "editable": false,
    "id": "75440b63"
   },
   "source": [
    "### Удаление пропусков (продолжение)"
   ]
  },
  {
   "cell_type": "markdown",
   "id": "423645db",
   "metadata": {
    "deletable": false,
    "editable": false,
    "id": "f4ea573f"
   },
   "source": [
    "**Задание 11. Заполните пропуски в столбце `days_employed` медианными значениями по каждого типа занятости `income_type`.**"
   ]
  },
  {
   "cell_type": "code",
   "execution_count": 11,
   "id": "1d07041d",
   "metadata": {
    "deletable": false,
    "id": "af6b1a7e"
   },
   "outputs": [],
   "source": [
    "for t in data['income_type'].unique():\n",
    "    data.loc[(data['income_type'] == t) & (data['days_employed'].isna()), 'days_employed'] = \\\n",
    "    data.loc[(data['income_type'] == t), 'days_employed'].median()"
   ]
  },
  {
   "cell_type": "markdown",
   "id": "49fb27e3",
   "metadata": {
    "deletable": false,
    "editable": false,
    "id": "2753f40d"
   },
   "source": [
    "**Задание 12. Убедитесь, что все пропуски заполнены. Проверьте себя и ещё раз выведите количество пропущенных значений для каждого столбца с помощью двух методов.**"
   ]
  },
  {
   "cell_type": "code",
   "execution_count": 12,
   "id": "512cb719",
   "metadata": {
    "deletable": false,
    "id": "55f78bc2",
    "outputId": "8da1e4e1-358e-4e87-98c9-f261bce0a7b2"
   },
   "outputs": [
    {
     "data": {
      "text/plain": [
       "children            0\n",
       "days_employed       0\n",
       "dob_years           0\n",
       "education           0\n",
       "education_id        0\n",
       "family_status       0\n",
       "family_status_id    0\n",
       "gender              0\n",
       "income_type         0\n",
       "debt                0\n",
       "total_income        0\n",
       "purpose             0\n",
       "dtype: int64"
      ]
     },
     "execution_count": 12,
     "metadata": {},
     "output_type": "execute_result"
    }
   ],
   "source": [
    "data.isna().sum()"
   ]
  },
  {
   "cell_type": "markdown",
   "id": "70221c38",
   "metadata": {
    "deletable": false,
    "editable": false,
    "id": "ddc81e43"
   },
   "source": [
    "### Изменение типов данных"
   ]
  },
  {
   "cell_type": "markdown",
   "id": "c3503978",
   "metadata": {
    "deletable": false,
    "editable": false,
    "id": "42d19d24"
   },
   "source": [
    "**Задание 13. Замените вещественный тип данных в столбце `total_income` на целочисленный с помощью метода `astype()`.**"
   ]
  },
  {
   "cell_type": "code",
   "execution_count": 13,
   "id": "3f928434",
   "metadata": {
    "deletable": false,
    "id": "920b65ad"
   },
   "outputs": [],
   "source": [
    "data['total_income'] = data['total_income'].astype(int)"
   ]
  },
  {
   "cell_type": "markdown",
   "id": "473eb7d3",
   "metadata": {
    "deletable": false,
    "editable": false,
    "id": "80c420ba"
   },
   "source": [
    "### Обработка дубликатов"
   ]
  },
  {
   "cell_type": "markdown",
   "id": "8d82570a",
   "metadata": {
    "deletable": false,
    "editable": false
   },
   "source": [
    "**Задание 14. Обработайте неявные дубликаты в столбце `education`. В этом столбце есть одни и те же значения, но записанные по-разному: с использованием заглавных и строчных букв. Приведите их к нижнему регистру.**"
   ]
  },
  {
   "cell_type": "code",
   "execution_count": 14,
   "id": "30f1f42d",
   "metadata": {
    "deletable": false
   },
   "outputs": [],
   "source": [
    "data['education'] = data['education'].str.lower()"
   ]
  },
  {
   "cell_type": "markdown",
   "id": "4df85963",
   "metadata": {
    "deletable": false,
    "editable": false,
    "id": "dc587695"
   },
   "source": [
    "**Задание 15. Выведите на экран количество строк-дубликатов в данных. Если такие строки присутствуют, удалите их.**"
   ]
  },
  {
   "cell_type": "code",
   "execution_count": 15,
   "id": "7955e34c",
   "metadata": {
    "deletable": false,
    "id": "3ee445e4",
    "outputId": "9684deba-1934-42d1-99e1-cda61740f822"
   },
   "outputs": [
    {
     "data": {
      "text/plain": [
       "71"
      ]
     },
     "execution_count": 15,
     "metadata": {},
     "output_type": "execute_result"
    }
   ],
   "source": [
    "data.duplicated().sum()"
   ]
  },
  {
   "cell_type": "code",
   "execution_count": 16,
   "id": "137dbe12",
   "metadata": {
    "deletable": false,
    "id": "8575fe05"
   },
   "outputs": [],
   "source": [
    "data = data.drop_duplicates()"
   ]
  },
  {
   "cell_type": "markdown",
   "id": "e9b85e4c",
   "metadata": {
    "deletable": false,
    "editable": false,
    "id": "9904cf55"
   },
   "source": [
    "### Категоризация данных"
   ]
  },
  {
   "cell_type": "markdown",
   "id": "2924f91d",
   "metadata": {
    "deletable": false,
    "editable": false,
    "id": "72fcc8a2"
   },
   "source": [
    "**Задание 16. На основании диапазонов, указанных ниже, создайте в датафрейме `data` столбец `total_income_category` с категориями:**\n",
    "\n",
    "- 0–30000 — `'E'`;\n",
    "- 30001–50000 — `'D'`;\n",
    "- 50001–200000 — `'C'`;\n",
    "- 200001–1000000 — `'B'`;\n",
    "- 1000001 и выше — `'A'`.\n",
    "\n",
    "\n",
    "**Например, кредитополучателю с доходом 25000 нужно назначить категорию `'E'`, а клиенту, получающему 235000, — `'B'`. Используйте собственную функцию с именем `categorize_income()` и метод `apply()`.**"
   ]
  },
  {
   "cell_type": "code",
   "execution_count": 17,
   "id": "91b92c41",
   "metadata": {
    "deletable": false,
    "id": "e1771346"
   },
   "outputs": [],
   "source": [
    "def categorize_income(income):\n",
    "    try:\n",
    "        if 0 <= income <= 30000:\n",
    "            return 'E'\n",
    "        elif 30001 <= income <= 50000:\n",
    "            return 'D'\n",
    "        elif 50001 <= income <= 200000:\n",
    "            return 'C'\n",
    "        elif 200001 <= income <= 1000000:\n",
    "            return 'B'\n",
    "        elif income >= 1000001:\n",
    "            return 'A'\n",
    "    except:\n",
    "        pass"
   ]
  },
  {
   "cell_type": "code",
   "execution_count": 18,
   "id": "e256fafb",
   "metadata": {
    "deletable": false,
    "id": "d5f3586d"
   },
   "outputs": [],
   "source": [
    "data['total_income_category'] = data['total_income'].apply(categorize_income)"
   ]
  },
  {
   "cell_type": "markdown",
   "id": "b2b1428e",
   "metadata": {
    "deletable": false,
    "editable": false,
    "id": "dde49b5c"
   },
   "source": [
    "**Задание 17. Выведите на экран перечень уникальных целей взятия кредита из столбца `purpose`.**"
   ]
  },
  {
   "cell_type": "code",
   "execution_count": 19,
   "id": "f852de87",
   "metadata": {
    "deletable": false,
    "id": "f67ce9b3",
    "outputId": "673c12d9-7d7e-4ae0-9812-c622c89dd244"
   },
   "outputs": [
    {
     "data": {
      "text/plain": [
       "array(['покупка жилья', 'приобретение автомобиля',\n",
       "       'дополнительное образование', 'сыграть свадьбу',\n",
       "       'операции с жильем', 'образование', 'на проведение свадьбы',\n",
       "       'покупка жилья для семьи', 'покупка недвижимости',\n",
       "       'покупка коммерческой недвижимости', 'покупка жилой недвижимости',\n",
       "       'строительство собственной недвижимости', 'недвижимость',\n",
       "       'строительство недвижимости', 'на покупку подержанного автомобиля',\n",
       "       'на покупку своего автомобиля',\n",
       "       'операции с коммерческой недвижимостью',\n",
       "       'строительство жилой недвижимости', 'жилье',\n",
       "       'операции со своей недвижимостью', 'автомобили',\n",
       "       'заняться образованием', 'сделка с подержанным автомобилем',\n",
       "       'получение образования', 'автомобиль', 'свадьба',\n",
       "       'получение дополнительного образования', 'покупка своего жилья',\n",
       "       'операции с недвижимостью', 'получение высшего образования',\n",
       "       'свой автомобиль', 'сделка с автомобилем',\n",
       "       'профильное образование', 'высшее образование',\n",
       "       'покупка жилья для сдачи', 'на покупку автомобиля', 'ремонт жилью',\n",
       "       'заняться высшим образованием'], dtype=object)"
      ]
     },
     "execution_count": 19,
     "metadata": {},
     "output_type": "execute_result"
    }
   ],
   "source": [
    "data['purpose'].unique()"
   ]
  },
  {
   "cell_type": "markdown",
   "id": "17ac85cc",
   "metadata": {
    "deletable": false,
    "editable": false,
    "id": "85d0aef0"
   },
   "source": [
    "**Задание 18. Создайте функцию, которая на основании данных из столбца `purpose` сформирует новый столбец `purpose_category`, в который войдут следующие категории:**\n",
    "\n",
    "- `'операции с автомобилем'`,\n",
    "- `'операции с недвижимостью'`,\n",
    "- `'проведение свадьбы'`,\n",
    "- `'получение образования'`.\n",
    "\n",
    "**Например, если в столбце `purpose` находится подстрока `'на покупку автомобиля'`, то в столбце `purpose_category` должна появиться строка `'операции с автомобилем'`.**\n",
    "\n",
    "**Используйте собственную функцию с именем `categorize_purpose()` и метод `apply()`. Изучите данные в столбце `purpose` и определите, какие подстроки помогут вам правильно определить категорию.**"
   ]
  },
  {
   "cell_type": "code",
   "execution_count": 20,
   "id": "7967544e",
   "metadata": {
    "deletable": false,
    "id": "e149fab4"
   },
   "outputs": [],
   "source": [
    "def categorize_purpose(row):\n",
    "    try:\n",
    "        if 'автом' in row:\n",
    "            return 'операции с автомобилем'\n",
    "        elif 'жил' in row or 'недвиж' in row:\n",
    "            return 'операции с недвижимостью'\n",
    "        elif 'свад' in row:\n",
    "            return 'проведение свадьбы'\n",
    "        elif 'образов' in row:\n",
    "            return 'получение образования'\n",
    "    except:\n",
    "        return 'нет категории'"
   ]
  },
  {
   "cell_type": "code",
   "execution_count": 21,
   "id": "2dc4ea53",
   "metadata": {
    "deletable": false,
    "id": "bf36e69b"
   },
   "outputs": [],
   "source": [
    "data['purpose_category'] = data['purpose'].apply(categorize_purpose)"
   ]
  },
  {
   "cell_type": "markdown",
   "id": "a326035d",
   "metadata": {
    "deletable": false,
    "editable": false,
    "id": "09b242bf"
   },
   "source": [
    "### Шаг 3. Исследуйте данные и ответьте на вопросы"
   ]
  },
  {
   "cell_type": "markdown",
   "id": "47573d8e",
   "metadata": {
    "deletable": false,
    "editable": false,
    "id": "c5d66278"
   },
   "source": [
    "#### 3.1 Есть ли зависимость между количеством детей и возвратом кредита в срок?"
   ]
  },
  {
   "cell_type": "code",
   "execution_count": 22,
   "id": "53fafc82",
   "metadata": {
    "deletable": false,
    "id": "2cacfc4a",
    "scrolled": true
   },
   "outputs": [],
   "source": [
    "# Делаем по датафрейму data сводную таблицу data_children методом pivot_table(): группируем данные по столбцу 'children',\n",
    "# по значениям из столбца 'debt' находим общее количество кредитополучателей функцией len(), количество должников функцией sum()\n",
    "# и долю должников от общего количества кредитополучатей функцией mean(). \n",
    "\n",
    "data_children = data.pivot_table(index=['children'], values='debt', aggfunc=[len,sum,'mean'])"
   ]
  },
  {
   "cell_type": "code",
   "execution_count": 23,
   "id": "3df14fd7",
   "metadata": {},
   "outputs": [],
   "source": [
    "# Переименовываем столбцы в таблице data_children\n",
    "data_children.columns = ['Всего кредитополучателей', 'Всего должников', 'Доля должников']"
   ]
  },
  {
   "cell_type": "code",
   "execution_count": 24,
   "id": "3cfcf726",
   "metadata": {},
   "outputs": [
    {
     "data": {
      "text/html": [
       "<div>\n",
       "<style scoped>\n",
       "    .dataframe tbody tr th:only-of-type {\n",
       "        vertical-align: middle;\n",
       "    }\n",
       "\n",
       "    .dataframe tbody tr th {\n",
       "        vertical-align: top;\n",
       "    }\n",
       "\n",
       "    .dataframe thead th {\n",
       "        text-align: right;\n",
       "    }\n",
       "</style>\n",
       "<table border=\"1\" class=\"dataframe\">\n",
       "  <thead>\n",
       "    <tr style=\"text-align: right;\">\n",
       "      <th></th>\n",
       "      <th>Всего кредитополучателей</th>\n",
       "      <th>Всего должников</th>\n",
       "      <th>Доля должников</th>\n",
       "    </tr>\n",
       "    <tr>\n",
       "      <th>children</th>\n",
       "      <th></th>\n",
       "      <th></th>\n",
       "      <th></th>\n",
       "    </tr>\n",
       "  </thead>\n",
       "  <tbody>\n",
       "    <tr>\n",
       "      <th>0</th>\n",
       "      <td>14091</td>\n",
       "      <td>1063</td>\n",
       "      <td>0.075438</td>\n",
       "    </tr>\n",
       "    <tr>\n",
       "      <th>1</th>\n",
       "      <td>4808</td>\n",
       "      <td>444</td>\n",
       "      <td>0.092346</td>\n",
       "    </tr>\n",
       "    <tr>\n",
       "      <th>2</th>\n",
       "      <td>2052</td>\n",
       "      <td>194</td>\n",
       "      <td>0.094542</td>\n",
       "    </tr>\n",
       "    <tr>\n",
       "      <th>3</th>\n",
       "      <td>330</td>\n",
       "      <td>27</td>\n",
       "      <td>0.081818</td>\n",
       "    </tr>\n",
       "    <tr>\n",
       "      <th>4</th>\n",
       "      <td>41</td>\n",
       "      <td>4</td>\n",
       "      <td>0.097561</td>\n",
       "    </tr>\n",
       "    <tr>\n",
       "      <th>5</th>\n",
       "      <td>9</td>\n",
       "      <td>0</td>\n",
       "      <td>0.000000</td>\n",
       "    </tr>\n",
       "  </tbody>\n",
       "</table>\n",
       "</div>"
      ],
      "text/plain": [
       "          Всего кредитополучателей  Всего должников  Доля должников\n",
       "children                                                           \n",
       "0                            14091             1063        0.075438\n",
       "1                             4808              444        0.092346\n",
       "2                             2052              194        0.094542\n",
       "3                              330               27        0.081818\n",
       "4                               41                4        0.097561\n",
       "5                                9                0        0.000000"
      ]
     },
     "execution_count": 24,
     "metadata": {},
     "output_type": "execute_result"
    }
   ],
   "source": [
    "# Выводим полученную таблицу на экран\n",
    "data_children"
   ]
  },
  {
   "cell_type": "markdown",
   "id": "a5102498",
   "metadata": {
    "deletable": false,
    "id": "3a6b99ec"
   },
   "source": [
    "**Вывод:** <span style=\"color:blue\">Число кредитополучателей уменьшается с ростом количества детей в семье. Люди, не имеющие детей, берут кредиты значительно чаще и доля должников среди них, равная 7,5 %, ниже доли должников среди людей, имеющих от 1 до 4 детей, находящейся в диапазоне 9,2-9,8 %. Снижение доли должников среди кредитополучателей, имеющих трех детей, до 8,2 %, и отсутствие должников среди кредитополучателей, имеющих 5 детей, может быть связано как с демографической политикой государства в первом  случае и очень низким числом кредитополучателей во втором, так и в целом с недостаточным количеством имеющихся данных по этим категориям. </span>"
   ]
  },
  {
   "cell_type": "markdown",
   "id": "75716aac",
   "metadata": {
    "deletable": false,
    "editable": false,
    "id": "97be82ca"
   },
   "source": [
    "#### 3.2 Есть ли зависимость между семейным положением и возвратом кредита в срок?"
   ]
  },
  {
   "cell_type": "code",
   "execution_count": 25,
   "id": "7d1131a0",
   "metadata": {
    "deletable": false,
    "id": "dc3f7ee8",
    "scrolled": true
   },
   "outputs": [],
   "source": [
    "# Делаем по датафрейму data сводную таблицу data_status методом pivot_table(): группируем данные по столбцу 'family_status',\n",
    "# по значениям из столбца 'debt' находим общее количество кредитополучателей функцией len(), количество должников функцией sum()\n",
    "# и долю должников от общего количества кредитополучатей функцией mean():\n",
    "\n",
    "data_status = data.pivot_table(index=['family_status'], values='debt', aggfunc=[len,sum,'mean'])\n"
   ]
  },
  {
   "cell_type": "code",
   "execution_count": 26,
   "id": "324f6594",
   "metadata": {},
   "outputs": [],
   "source": [
    "# Переименовываем столбцы в таблице data_status:\n",
    "\n",
    "data_status.columns = ['Всего кредитополучателей', 'Всего должников', 'Доля должников']"
   ]
  },
  {
   "cell_type": "code",
   "execution_count": 27,
   "id": "2608f36b",
   "metadata": {
    "scrolled": true
   },
   "outputs": [
    {
     "data": {
      "text/html": [
       "<div>\n",
       "<style scoped>\n",
       "    .dataframe tbody tr th:only-of-type {\n",
       "        vertical-align: middle;\n",
       "    }\n",
       "\n",
       "    .dataframe tbody tr th {\n",
       "        vertical-align: top;\n",
       "    }\n",
       "\n",
       "    .dataframe thead th {\n",
       "        text-align: right;\n",
       "    }\n",
       "</style>\n",
       "<table border=\"1\" class=\"dataframe\">\n",
       "  <thead>\n",
       "    <tr style=\"text-align: right;\">\n",
       "      <th></th>\n",
       "      <th>Всего кредитополучателей</th>\n",
       "      <th>Всего должников</th>\n",
       "      <th>Доля должников</th>\n",
       "    </tr>\n",
       "    <tr>\n",
       "      <th>family_status</th>\n",
       "      <th></th>\n",
       "      <th></th>\n",
       "      <th></th>\n",
       "    </tr>\n",
       "  </thead>\n",
       "  <tbody>\n",
       "    <tr>\n",
       "      <th>Не женат / не замужем</th>\n",
       "      <td>2796</td>\n",
       "      <td>273</td>\n",
       "      <td>0.097639</td>\n",
       "    </tr>\n",
       "    <tr>\n",
       "      <th>в разводе</th>\n",
       "      <td>1189</td>\n",
       "      <td>84</td>\n",
       "      <td>0.070648</td>\n",
       "    </tr>\n",
       "    <tr>\n",
       "      <th>вдовец / вдова</th>\n",
       "      <td>951</td>\n",
       "      <td>63</td>\n",
       "      <td>0.066246</td>\n",
       "    </tr>\n",
       "    <tr>\n",
       "      <th>гражданский брак</th>\n",
       "      <td>4134</td>\n",
       "      <td>385</td>\n",
       "      <td>0.093130</td>\n",
       "    </tr>\n",
       "    <tr>\n",
       "      <th>женат / замужем</th>\n",
       "      <td>12261</td>\n",
       "      <td>927</td>\n",
       "      <td>0.075606</td>\n",
       "    </tr>\n",
       "  </tbody>\n",
       "</table>\n",
       "</div>"
      ],
      "text/plain": [
       "                       Всего кредитополучателей  Всего должников  \\\n",
       "family_status                                                      \n",
       "Не женат / не замужем                      2796              273   \n",
       "в разводе                                  1189               84   \n",
       "вдовец / вдова                              951               63   \n",
       "гражданский брак                           4134              385   \n",
       "женат / замужем                           12261              927   \n",
       "\n",
       "                       Доля должников  \n",
       "family_status                          \n",
       "Не женат / не замужем        0.097639  \n",
       "в разводе                    0.070648  \n",
       "вдовец / вдова               0.066246  \n",
       "гражданский брак             0.093130  \n",
       "женат / замужем              0.075606  "
      ]
     },
     "execution_count": 27,
     "metadata": {},
     "output_type": "execute_result"
    }
   ],
   "source": [
    "#Выводим полученную таблицу на экран:\n",
    "\n",
    "data_status "
   ]
  },
  {
   "cell_type": "markdown",
   "id": "03887ed9",
   "metadata": {
    "deletable": false,
    "id": "1cef7837"
   },
   "source": [
    "**Вывод:** <span style=\"color:blue\"> Больше всего кредитов берут люди, состоящие в официальном браке. Наименьшая доля должников, равная 6,6 %, среди кредитополучателей в статусе \"вдовец / вдова\". Несколько выше доля должников среди людей, состоящих в браке (7,5 %) и находящихся в разводе (7,1 %). Наибольшая доля должников среди кредитополучателей, никогда не состоявших в официальном браке (9,8 %) либо состоящих в гражданском браке (9,3 %). <span> "
   ]
  },
  {
   "cell_type": "markdown",
   "id": "47b9057b",
   "metadata": {
    "deletable": false,
    "editable": false,
    "id": "1e8b2fca"
   },
   "source": [
    "#### 3.3 Есть ли зависимость между уровнем дохода и возвратом кредита в срок?"
   ]
  },
  {
   "cell_type": "code",
   "execution_count": 28,
   "id": "d84a184d",
   "metadata": {
    "deletable": false,
    "id": "cd7e3720",
    "scrolled": true
   },
   "outputs": [],
   "source": [
    "# Делаем по датафрейму data сводную таблицу data_income методом pivot_table(): группируем данные по столбцу \n",
    "# 'total_income_category', по значениям из столбца 'debt' находим общее количество кредитополучателей функцией len(), \n",
    "# количество должников функцией sum() и долю должников от общего количества кредитополучатей функцией mean(): \n",
    "\n",
    "data_income = data.pivot_table(index=['total_income_category'], values='debt', aggfunc=[len,sum,'mean'])"
   ]
  },
  {
   "cell_type": "code",
   "execution_count": 29,
   "id": "6c827853",
   "metadata": {},
   "outputs": [],
   "source": [
    "# Переименовываем столбцы в таблице data_income:\n",
    "\n",
    "data_income.columns = ['Всего кредитополучателей', 'Всего должников', 'Доля должников']"
   ]
  },
  {
   "cell_type": "code",
   "execution_count": 30,
   "id": "0b497190",
   "metadata": {},
   "outputs": [
    {
     "data": {
      "text/html": [
       "<div>\n",
       "<style scoped>\n",
       "    .dataframe tbody tr th:only-of-type {\n",
       "        vertical-align: middle;\n",
       "    }\n",
       "\n",
       "    .dataframe tbody tr th {\n",
       "        vertical-align: top;\n",
       "    }\n",
       "\n",
       "    .dataframe thead th {\n",
       "        text-align: right;\n",
       "    }\n",
       "</style>\n",
       "<table border=\"1\" class=\"dataframe\">\n",
       "  <thead>\n",
       "    <tr style=\"text-align: right;\">\n",
       "      <th></th>\n",
       "      <th>Всего кредитополучателей</th>\n",
       "      <th>Всего должников</th>\n",
       "      <th>Доля должников</th>\n",
       "    </tr>\n",
       "    <tr>\n",
       "      <th>total_income_category</th>\n",
       "      <th></th>\n",
       "      <th></th>\n",
       "      <th></th>\n",
       "    </tr>\n",
       "  </thead>\n",
       "  <tbody>\n",
       "    <tr>\n",
       "      <th>A</th>\n",
       "      <td>25</td>\n",
       "      <td>2</td>\n",
       "      <td>0.080000</td>\n",
       "    </tr>\n",
       "    <tr>\n",
       "      <th>B</th>\n",
       "      <td>5014</td>\n",
       "      <td>354</td>\n",
       "      <td>0.070602</td>\n",
       "    </tr>\n",
       "    <tr>\n",
       "      <th>C</th>\n",
       "      <td>15921</td>\n",
       "      <td>1353</td>\n",
       "      <td>0.084982</td>\n",
       "    </tr>\n",
       "    <tr>\n",
       "      <th>D</th>\n",
       "      <td>349</td>\n",
       "      <td>21</td>\n",
       "      <td>0.060172</td>\n",
       "    </tr>\n",
       "    <tr>\n",
       "      <th>E</th>\n",
       "      <td>22</td>\n",
       "      <td>2</td>\n",
       "      <td>0.090909</td>\n",
       "    </tr>\n",
       "  </tbody>\n",
       "</table>\n",
       "</div>"
      ],
      "text/plain": [
       "                       Всего кредитополучателей  Всего должников  \\\n",
       "total_income_category                                              \n",
       "A                                            25                2   \n",
       "B                                          5014              354   \n",
       "C                                         15921             1353   \n",
       "D                                           349               21   \n",
       "E                                            22                2   \n",
       "\n",
       "                       Доля должников  \n",
       "total_income_category                  \n",
       "A                            0.080000  \n",
       "B                            0.070602  \n",
       "C                            0.084982  \n",
       "D                            0.060172  \n",
       "E                            0.090909  "
      ]
     },
     "execution_count": 30,
     "metadata": {},
     "output_type": "execute_result"
    }
   ],
   "source": [
    "#Выводим полученную таблицу на экран:\n",
    "\n",
    "data_income"
   ]
  },
  {
   "cell_type": "markdown",
   "id": "f9825dd0",
   "metadata": {
    "deletable": false,
    "id": "e8593def"
   },
   "source": [
    "**Вывод:** <span style=\"color:blue\">Больше всего кредитов берут люди с доходом в диапазоне 50001–200000 (категория С), доля должников среди них составляет 8,5 %. Меньше доля должников, равная 7,1 %, среди кредитополучателей с доходом выше, находящимся в диапазоне 200001-1000000 (категория В). Объема выборки данных по категориям A (доход 1000001 и выше), D (доход 30001–50000) и Е (доход 0-30000) недостаточно для получения корректных выводов.<span>"
   ]
  },
  {
   "cell_type": "markdown",
   "id": "c538a0b8",
   "metadata": {
    "deletable": false,
    "editable": false,
    "id": "99ecbd1f"
   },
   "source": [
    "#### 3.4 Как разные цели кредита влияют на его возврат в срок?"
   ]
  },
  {
   "cell_type": "code",
   "execution_count": 31,
   "id": "0d1e17bd",
   "metadata": {
    "deletable": false,
    "id": "2b687290",
    "scrolled": true
   },
   "outputs": [],
   "source": [
    "# Делаем по датафрейму data сводную таблицу data_purpose методом pivot_table(): группируем данные по столбцу \n",
    "# 'total_income_category', по значениям из столбца 'debt' находим общее количество кредитополучателей функцией len(), \n",
    "# количество должников функцией sum() и долю должников от общего количества кредитополучатей функцией mean(): \n",
    "\n",
    "data_purpose = data.pivot_table(index=['purpose_category'], values='debt', aggfunc=[len,sum,'mean'])\n",
    "\n"
   ]
  },
  {
   "cell_type": "code",
   "execution_count": 32,
   "id": "4fcd1ac5",
   "metadata": {},
   "outputs": [],
   "source": [
    "# Переименовываем столбцы в таблице data_purpose:\n",
    "\n",
    "data_purpose.columns = ['Всего кредитополучателей', 'Всего должников', 'Доля должников']"
   ]
  },
  {
   "cell_type": "code",
   "execution_count": 33,
   "id": "c5994cd6",
   "metadata": {},
   "outputs": [
    {
     "data": {
      "text/html": [
       "<div>\n",
       "<style scoped>\n",
       "    .dataframe tbody tr th:only-of-type {\n",
       "        vertical-align: middle;\n",
       "    }\n",
       "\n",
       "    .dataframe tbody tr th {\n",
       "        vertical-align: top;\n",
       "    }\n",
       "\n",
       "    .dataframe thead th {\n",
       "        text-align: right;\n",
       "    }\n",
       "</style>\n",
       "<table border=\"1\" class=\"dataframe\">\n",
       "  <thead>\n",
       "    <tr style=\"text-align: right;\">\n",
       "      <th></th>\n",
       "      <th>Всего кредитополучателей</th>\n",
       "      <th>Всего должников</th>\n",
       "      <th>Доля должников</th>\n",
       "    </tr>\n",
       "    <tr>\n",
       "      <th>purpose_category</th>\n",
       "      <th></th>\n",
       "      <th></th>\n",
       "      <th></th>\n",
       "    </tr>\n",
       "  </thead>\n",
       "  <tbody>\n",
       "    <tr>\n",
       "      <th>операции с автомобилем</th>\n",
       "      <td>4279</td>\n",
       "      <td>400</td>\n",
       "      <td>0.093480</td>\n",
       "    </tr>\n",
       "    <tr>\n",
       "      <th>операции с недвижимостью</th>\n",
       "      <td>10751</td>\n",
       "      <td>780</td>\n",
       "      <td>0.072551</td>\n",
       "    </tr>\n",
       "    <tr>\n",
       "      <th>получение образования</th>\n",
       "      <td>3988</td>\n",
       "      <td>369</td>\n",
       "      <td>0.092528</td>\n",
       "    </tr>\n",
       "    <tr>\n",
       "      <th>проведение свадьбы</th>\n",
       "      <td>2313</td>\n",
       "      <td>183</td>\n",
       "      <td>0.079118</td>\n",
       "    </tr>\n",
       "  </tbody>\n",
       "</table>\n",
       "</div>"
      ],
      "text/plain": [
       "                          Всего кредитополучателей  Всего должников  \\\n",
       "purpose_category                                                      \n",
       "операции с автомобилем                        4279              400   \n",
       "операции с недвижимостью                     10751              780   \n",
       "получение образования                         3988              369   \n",
       "проведение свадьбы                            2313              183   \n",
       "\n",
       "                          Доля должников  \n",
       "purpose_category                          \n",
       "операции с автомобилем          0.093480  \n",
       "операции с недвижимостью        0.072551  \n",
       "получение образования           0.092528  \n",
       "проведение свадьбы              0.079118  "
      ]
     },
     "execution_count": 33,
     "metadata": {},
     "output_type": "execute_result"
    }
   ],
   "source": [
    "# Выводим полученную таблицу на экран:\n",
    "data_purpose"
   ]
  },
  {
   "cell_type": "markdown",
   "id": "d8130549",
   "metadata": {
    "deletable": false,
    "id": "b4bb2ce6"
   },
   "source": [
    "**Вывод:** <span style=\"color:blue\">Самая популярная цель кредита - операции с недвижимостью, доля должников в этой категории меньше,чем в других, и составляет 7,3 %. Несколько больше доля должников, берущих кредит на проведение свадьбы (7,9 %). Больше всего доля должников, равная 9,3 %, среди людей, берущих кредит на операции с автомобилем и получение образования.<span>"
   ]
  },
  {
   "cell_type": "markdown",
   "id": "3643c455",
   "metadata": {
    "deletable": false,
    "editable": false,
    "id": "09c3ac4c"
   },
   "source": [
    "#### 3.5 Приведите возможные причины появления пропусков в исходных данных."
   ]
  },
  {
   "cell_type": "markdown",
   "id": "39ad26b3",
   "metadata": {
    "deletable": false,
    "id": "9da2ceda"
   },
   "source": [
    "*Ответ:* \n",
    "- Автоматизированная система сбора информации о кредитополучателях дала сбой; \n",
    "- Кредитополучатель не предоставил о себе всю необходимую для заполнения таблицы информацию (либо отвественная за эти данные служба);\n",
    "- Человеческий фактор в случае ручного сбора и заполнения информации о кредитополучателях."
   ]
  },
  {
   "cell_type": "markdown",
   "id": "7bb9bea9",
   "metadata": {
    "deletable": false,
    "editable": false,
    "id": "7b0487d6"
   },
   "source": [
    "#### 3.6 Объясните, почему заполнить пропуски медианным значением — лучшее решение для количественных переменных."
   ]
  },
  {
   "cell_type": "markdown",
   "id": "ad2325a5",
   "metadata": {
    "deletable": false,
    "id": "7ecf2b8e"
   },
   "source": [
    "*Ответ:* \n",
    "<span style=\"color:blue\">Если среди количественных переменных одно или несколько значений сильно отличается от остальных, то заполнение пропусков средним арифметическим значением сильно исказит итоговый результат. Медианное значение рассчитывается из числа или пары чисел, которые больше одной половины показателей и меньше другой, т.е. это такое значение, которое ближе всего к истинно среднему. На медианное значение не будут влиять выбивающиеся из общей массы числа, поэтому она считается одним из самых надёжных и устойчивых показателей. <span>"
   ]
  },
  {
   "cell_type": "markdown",
   "id": "4a824052",
   "metadata": {
    "deletable": false,
    "editable": false,
    "id": "6db5255a"
   },
   "source": [
    "### Шаг 4: общий вывод."
   ]
  },
  {
   "cell_type": "markdown",
   "id": "26471e83",
   "metadata": {
    "deletable": false,
    "id": "bad65432"
   },
   "source": [
    "<span style=\"color:blue\">Полученные для анализа данные были обработаны следующим образом: все отрицательные  значения в данных по общему трудовому стажу заменены на положительные, тип данных по ежемесячному доходу заменен на целочисленный, медианными значениями заполнены пропуски в данных по общему трудовому стажу и по ежемесячному доходу, удалены аномальные значения в данных о количестве детей в семье, удалены строки-дубликаты, выполнена категоризация данных по ежемесячным доходам и целям получения кредита, построены сводные таблицы, группировка данных в которых была проведена по количеству детей, семейному положению, доходу и целям получения кредита, и рассчитано число кредитополучателей и доля должников среди них.<span>\n",
    "    \n",
    "<span style=\"color:blue\">На основании проведенного анализа можно сделать заключение, что наиболее надежными потенциальными заемщиками банка являются люди, не имеющие детей и состоящие в официальном браке, находящиеся в разводе или овдовевшие, с доходом  в диапазоне 200001-1000000, которые берут кредит на какие-либо операции с недвижимостью или на проведение свадьбы. Наименее надёжными заемщиками являются люди, которые имеют одного или более ребенка, не состоят в браке либо состоят в гражданском браке, имеют доход в диапазоне 50001–200000 и берут кредит на какие-либо операции с автомобилем или на получение образования.<span> \n",
    "    \n",
    "<span style=\"color:blue\">В дальнейшем для проведения более глубокого анализа рекомендуется разбить клиентов по доходу на равные по количеству человек группы, поля о доходе и стаже в анкете сделать обязательными для заполнения, добавить автопроверку на формат вводимых пользователем данных. Также можно было бы исследовать влияние уровня образования, возраста, трудового стажа, типа занятости на факт погащения кредита в срок и рассчитать такие метрики, как отношение дохода к сумме выплат и степень риска потери дохода.\n",
    "<span> "
   ]
  }
 ],
 "metadata": {
  "ExecuteTimeLog": [
   {
    "duration": 48,
    "start_time": "2023-01-11T12:57:44.457Z"
   },
   {
    "duration": 809,
    "start_time": "2023-01-11T12:58:10.455Z"
   },
   {
    "duration": 26,
    "start_time": "2023-01-11T12:58:11.267Z"
   },
   {
    "duration": 28,
    "start_time": "2023-01-11T12:58:11.296Z"
   },
   {
    "duration": 15,
    "start_time": "2023-01-11T12:58:11.326Z"
   },
   {
    "duration": 52,
    "start_time": "2023-01-11T12:58:11.343Z"
   },
   {
    "duration": 23,
    "start_time": "2023-01-11T12:58:11.397Z"
   },
   {
    "duration": 40,
    "start_time": "2023-01-11T12:58:11.423Z"
   },
   {
    "duration": 9,
    "start_time": "2023-01-11T12:58:11.465Z"
   },
   {
    "duration": 24,
    "start_time": "2023-01-11T12:58:11.476Z"
   },
   {
    "duration": 13,
    "start_time": "2023-01-11T12:58:11.504Z"
   },
   {
    "duration": 48,
    "start_time": "2023-01-11T12:58:11.519Z"
   },
   {
    "duration": 13,
    "start_time": "2023-01-11T12:58:11.569Z"
   },
   {
    "duration": 5,
    "start_time": "2023-01-11T12:58:11.584Z"
   },
   {
    "duration": 39,
    "start_time": "2023-01-11T12:58:11.591Z"
   },
   {
    "duration": 35,
    "start_time": "2023-01-11T12:58:11.632Z"
   },
   {
    "duration": 24,
    "start_time": "2023-01-11T12:58:11.670Z"
   },
   {
    "duration": 5,
    "start_time": "2023-01-11T12:58:11.696Z"
   },
   {
    "duration": 14,
    "start_time": "2023-01-11T12:58:11.716Z"
   },
   {
    "duration": 10,
    "start_time": "2023-01-11T12:58:11.731Z"
   },
   {
    "duration": 4,
    "start_time": "2023-01-11T12:58:11.743Z"
   },
   {
    "duration": 25,
    "start_time": "2023-01-11T12:58:11.749Z"
   },
   {
    "duration": 2,
    "start_time": "2023-01-11T12:58:11.777Z"
   },
   {
    "duration": 5,
    "start_time": "2023-01-11T12:58:11.781Z"
   },
   {
    "duration": 3,
    "start_time": "2023-01-11T12:58:11.817Z"
   },
   {
    "duration": 9,
    "start_time": "2023-01-11T12:58:11.822Z"
   },
   {
    "duration": 30,
    "start_time": "2023-01-11T12:58:19.488Z"
   },
   {
    "duration": 83,
    "start_time": "2023-01-11T13:29:40.496Z"
   },
   {
    "duration": 29,
    "start_time": "2023-01-11T13:30:58.489Z"
   },
   {
    "duration": 20,
    "start_time": "2023-01-11T13:31:48.047Z"
   },
   {
    "duration": 21,
    "start_time": "2023-01-11T13:31:57.971Z"
   },
   {
    "duration": 35,
    "start_time": "2023-01-11T13:32:07.971Z"
   },
   {
    "duration": 27,
    "start_time": "2023-01-11T13:37:00.732Z"
   },
   {
    "duration": 15,
    "start_time": "2023-01-11T13:37:32.931Z"
   },
   {
    "duration": 23,
    "start_time": "2023-01-11T14:27:49.220Z"
   },
   {
    "duration": 23,
    "start_time": "2023-01-11T14:29:42.100Z"
   },
   {
    "duration": 34,
    "start_time": "2023-01-11T14:29:53.142Z"
   },
   {
    "duration": 36,
    "start_time": "2023-01-11T14:30:48.831Z"
   },
   {
    "duration": 7,
    "start_time": "2023-01-11T14:32:09.181Z"
   },
   {
    "duration": 7,
    "start_time": "2023-01-11T14:32:17.632Z"
   },
   {
    "duration": 17,
    "start_time": "2023-01-11T14:32:30.717Z"
   },
   {
    "duration": 10,
    "start_time": "2023-01-11T14:33:38.657Z"
   },
   {
    "duration": 7,
    "start_time": "2023-01-11T14:34:29.552Z"
   },
   {
    "duration": 8,
    "start_time": "2023-01-11T14:34:37.609Z"
   },
   {
    "duration": 24,
    "start_time": "2023-01-11T14:36:46.381Z"
   },
   {
    "duration": 23,
    "start_time": "2023-01-11T14:44:24.289Z"
   },
   {
    "duration": 14,
    "start_time": "2023-01-11T16:58:25.317Z"
   },
   {
    "duration": 12,
    "start_time": "2023-01-11T16:58:50.332Z"
   },
   {
    "duration": 53,
    "start_time": "2023-01-11T16:59:15.250Z"
   },
   {
    "duration": 26,
    "start_time": "2023-01-11T16:59:38.280Z"
   },
   {
    "duration": 25,
    "start_time": "2023-01-11T17:01:11.559Z"
   },
   {
    "duration": 27,
    "start_time": "2023-01-11T17:01:56.882Z"
   },
   {
    "duration": 28,
    "start_time": "2023-01-11T17:02:10.783Z"
   },
   {
    "duration": 28,
    "start_time": "2023-01-11T17:04:45.659Z"
   },
   {
    "duration": 26,
    "start_time": "2023-01-11T17:04:55.512Z"
   },
   {
    "duration": 33,
    "start_time": "2023-01-11T17:11:04.109Z"
   },
   {
    "duration": 26,
    "start_time": "2023-01-11T17:11:19.159Z"
   },
   {
    "duration": 49,
    "start_time": "2023-01-11T17:16:06.908Z"
   },
   {
    "duration": 25,
    "start_time": "2023-01-11T17:16:14.446Z"
   },
   {
    "duration": 20,
    "start_time": "2023-01-11T18:17:47.522Z"
   },
   {
    "duration": 24,
    "start_time": "2023-01-11T18:17:56.260Z"
   },
   {
    "duration": 34,
    "start_time": "2023-01-11T18:19:02.301Z"
   },
   {
    "duration": 3,
    "start_time": "2023-01-11T18:22:52.917Z"
   },
   {
    "duration": 39,
    "start_time": "2023-01-11T18:23:01.624Z"
   },
   {
    "duration": 37,
    "start_time": "2023-01-11T18:23:48.143Z"
   },
   {
    "duration": 25,
    "start_time": "2023-01-11T18:24:53.134Z"
   },
   {
    "duration": 35,
    "start_time": "2023-01-11T18:25:00.354Z"
   },
   {
    "duration": 49,
    "start_time": "2023-01-11T18:25:19.408Z"
   },
   {
    "duration": 32,
    "start_time": "2023-01-11T18:25:26.710Z"
   },
   {
    "duration": 26,
    "start_time": "2023-01-11T18:25:40.986Z"
   },
   {
    "duration": 31,
    "start_time": "2023-01-11T18:34:49.384Z"
   },
   {
    "duration": 26,
    "start_time": "2023-01-11T18:58:59.232Z"
   },
   {
    "duration": 3,
    "start_time": "2023-01-11T21:04:06.344Z"
   },
   {
    "duration": 8,
    "start_time": "2023-01-11T21:06:33.513Z"
   },
   {
    "duration": 41,
    "start_time": "2023-01-11T21:07:17.975Z"
   },
   {
    "duration": 8,
    "start_time": "2023-01-11T21:07:21.057Z"
   },
   {
    "duration": 38,
    "start_time": "2023-01-11T21:07:48.494Z"
   },
   {
    "duration": 3,
    "start_time": "2023-01-11T21:08:19.532Z"
   },
   {
    "duration": 7,
    "start_time": "2023-01-11T21:08:19.921Z"
   },
   {
    "duration": 504,
    "start_time": "2023-01-11T21:09:09.704Z"
   },
   {
    "duration": 20,
    "start_time": "2023-01-11T21:09:10.210Z"
   },
   {
    "duration": 13,
    "start_time": "2023-01-11T21:09:10.234Z"
   },
   {
    "duration": 9,
    "start_time": "2023-01-11T21:09:10.249Z"
   },
   {
    "duration": 35,
    "start_time": "2023-01-11T21:09:10.259Z"
   },
   {
    "duration": 3,
    "start_time": "2023-01-11T21:09:10.295Z"
   },
   {
    "duration": 7,
    "start_time": "2023-01-11T21:09:10.316Z"
   },
   {
    "duration": 19,
    "start_time": "2023-01-11T21:09:10.325Z"
   },
   {
    "duration": 8,
    "start_time": "2023-01-11T21:09:10.346Z"
   },
   {
    "duration": 6,
    "start_time": "2023-01-11T21:09:10.355Z"
   },
   {
    "duration": 34,
    "start_time": "2023-01-11T21:09:10.363Z"
   },
   {
    "duration": 25,
    "start_time": "2023-01-11T21:09:10.398Z"
   },
   {
    "duration": 3,
    "start_time": "2023-01-11T21:09:10.425Z"
   },
   {
    "duration": 12,
    "start_time": "2023-01-11T21:09:10.430Z"
   },
   {
    "duration": 22,
    "start_time": "2023-01-11T21:09:10.443Z"
   },
   {
    "duration": 16,
    "start_time": "2023-01-11T21:09:10.466Z"
   },
   {
    "duration": 3,
    "start_time": "2023-01-11T21:09:10.483Z"
   },
   {
    "duration": 35,
    "start_time": "2023-01-11T21:09:10.488Z"
   },
   {
    "duration": 10,
    "start_time": "2023-01-11T21:09:10.524Z"
   },
   {
    "duration": 5,
    "start_time": "2023-01-11T21:09:10.535Z"
   },
   {
    "duration": 11,
    "start_time": "2023-01-11T21:09:10.542Z"
   },
   {
    "duration": 29,
    "start_time": "2023-01-11T21:09:10.554Z"
   },
   {
    "duration": 2,
    "start_time": "2023-01-11T21:09:10.585Z"
   },
   {
    "duration": 28,
    "start_time": "2023-01-11T21:09:10.588Z"
   },
   {
    "duration": 25,
    "start_time": "2023-01-11T21:09:10.618Z"
   },
   {
    "duration": 3,
    "start_time": "2023-01-11T21:09:10.644Z"
   },
   {
    "duration": 12,
    "start_time": "2023-01-11T21:09:10.649Z"
   },
   {
    "duration": 25,
    "start_time": "2023-01-11T21:09:10.663Z"
   },
   {
    "duration": 4,
    "start_time": "2023-01-11T21:09:10.689Z"
   },
   {
    "duration": 9,
    "start_time": "2023-01-11T21:09:10.716Z"
   },
   {
    "duration": 33,
    "start_time": "2023-01-11T21:09:10.727Z"
   },
   {
    "duration": 547,
    "start_time": "2023-01-11T21:11:03.758Z"
   },
   {
    "duration": 22,
    "start_time": "2023-01-11T21:11:04.307Z"
   },
   {
    "duration": 17,
    "start_time": "2023-01-11T21:11:04.331Z"
   },
   {
    "duration": 10,
    "start_time": "2023-01-11T21:11:04.351Z"
   },
   {
    "duration": 57,
    "start_time": "2023-01-11T21:11:04.362Z"
   },
   {
    "duration": 4,
    "start_time": "2023-01-11T21:11:04.421Z"
   },
   {
    "duration": 23,
    "start_time": "2023-01-11T21:11:04.426Z"
   },
   {
    "duration": 10,
    "start_time": "2023-01-11T21:11:04.450Z"
   },
   {
    "duration": 29,
    "start_time": "2023-01-11T21:11:04.461Z"
   },
   {
    "duration": 10,
    "start_time": "2023-01-11T21:11:04.493Z"
   },
   {
    "duration": 48,
    "start_time": "2023-01-11T21:11:04.504Z"
   },
   {
    "duration": 11,
    "start_time": "2023-01-11T21:11:04.554Z"
   },
   {
    "duration": 18,
    "start_time": "2023-01-11T21:11:04.566Z"
   },
   {
    "duration": 28,
    "start_time": "2023-01-11T21:11:04.586Z"
   },
   {
    "duration": 24,
    "start_time": "2023-01-11T21:11:04.616Z"
   },
   {
    "duration": 17,
    "start_time": "2023-01-11T21:11:04.641Z"
   },
   {
    "duration": 4,
    "start_time": "2023-01-11T21:11:04.659Z"
   },
   {
    "duration": 11,
    "start_time": "2023-01-11T21:11:04.664Z"
   },
   {
    "duration": 38,
    "start_time": "2023-01-11T21:11:04.677Z"
   },
   {
    "duration": 3,
    "start_time": "2023-01-11T21:11:04.717Z"
   },
   {
    "duration": 24,
    "start_time": "2023-01-11T21:11:04.722Z"
   },
   {
    "duration": 36,
    "start_time": "2023-01-11T21:11:04.748Z"
   },
   {
    "duration": 3,
    "start_time": "2023-01-11T21:11:04.786Z"
   },
   {
    "duration": 20,
    "start_time": "2023-01-11T21:11:04.791Z"
   },
   {
    "duration": 37,
    "start_time": "2023-01-11T21:11:04.812Z"
   },
   {
    "duration": 3,
    "start_time": "2023-01-11T21:11:04.850Z"
   },
   {
    "duration": 10,
    "start_time": "2023-01-11T21:11:04.854Z"
   },
   {
    "duration": 24,
    "start_time": "2023-01-11T21:11:04.867Z"
   },
   {
    "duration": 2,
    "start_time": "2023-01-11T21:11:04.893Z"
   },
   {
    "duration": 7,
    "start_time": "2023-01-11T21:11:04.915Z"
   },
   {
    "duration": 29,
    "start_time": "2023-01-11T21:11:04.923Z"
   },
   {
    "duration": 3,
    "start_time": "2023-01-11T21:11:04.953Z"
   },
   {
    "duration": 12,
    "start_time": "2023-01-11T21:11:04.957Z"
   },
   {
    "duration": 741,
    "start_time": "2023-01-11T21:24:15.905Z"
   },
   {
    "duration": 22,
    "start_time": "2023-01-11T21:24:16.648Z"
   },
   {
    "duration": 16,
    "start_time": "2023-01-11T21:24:16.671Z"
   },
   {
    "duration": 11,
    "start_time": "2023-01-11T21:24:16.690Z"
   },
   {
    "duration": 33,
    "start_time": "2023-01-11T21:24:16.703Z"
   },
   {
    "duration": 3,
    "start_time": "2023-01-11T21:24:16.738Z"
   },
   {
    "duration": 35,
    "start_time": "2023-01-11T21:24:16.742Z"
   },
   {
    "duration": 4,
    "start_time": "2023-01-11T21:24:16.778Z"
   },
   {
    "duration": 11,
    "start_time": "2023-01-11T21:24:16.783Z"
   },
   {
    "duration": 4,
    "start_time": "2023-01-11T21:24:16.796Z"
   },
   {
    "duration": 48,
    "start_time": "2023-01-11T21:24:16.801Z"
   },
   {
    "duration": 8,
    "start_time": "2023-01-11T21:24:16.851Z"
   },
   {
    "duration": 8,
    "start_time": "2023-01-11T21:24:16.861Z"
   },
   {
    "duration": 14,
    "start_time": "2023-01-11T21:24:16.870Z"
   },
   {
    "duration": 25,
    "start_time": "2023-01-11T21:24:16.886Z"
   },
   {
    "duration": 16,
    "start_time": "2023-01-11T21:24:16.912Z"
   },
   {
    "duration": 3,
    "start_time": "2023-01-11T21:24:16.930Z"
   },
   {
    "duration": 14,
    "start_time": "2023-01-11T21:24:16.934Z"
   },
   {
    "duration": 5,
    "start_time": "2023-01-11T21:24:16.950Z"
   },
   {
    "duration": 21,
    "start_time": "2023-01-11T21:24:16.956Z"
   },
   {
    "duration": 14,
    "start_time": "2023-01-11T21:24:16.978Z"
   },
   {
    "duration": 29,
    "start_time": "2023-01-11T21:24:16.993Z"
   },
   {
    "duration": 2,
    "start_time": "2023-01-11T21:24:17.024Z"
   },
   {
    "duration": 11,
    "start_time": "2023-01-11T21:24:17.027Z"
   },
   {
    "duration": 41,
    "start_time": "2023-01-11T21:24:17.039Z"
   },
   {
    "duration": 3,
    "start_time": "2023-01-11T21:24:17.081Z"
   },
   {
    "duration": 28,
    "start_time": "2023-01-11T21:24:17.085Z"
   },
   {
    "duration": 26,
    "start_time": "2023-01-11T21:24:17.115Z"
   },
   {
    "duration": 2,
    "start_time": "2023-01-11T21:24:17.143Z"
   },
   {
    "duration": 13,
    "start_time": "2023-01-11T21:24:17.146Z"
   },
   {
    "duration": 28,
    "start_time": "2023-01-11T21:24:17.160Z"
   },
   {
    "duration": 3,
    "start_time": "2023-01-11T21:24:17.189Z"
   },
   {
    "duration": 11,
    "start_time": "2023-01-11T21:24:17.193Z"
   },
   {
    "duration": 447,
    "start_time": "2023-01-11T21:24:31.816Z"
   },
   {
    "duration": 22,
    "start_time": "2023-01-11T21:24:32.265Z"
   },
   {
    "duration": 14,
    "start_time": "2023-01-11T21:24:32.289Z"
   },
   {
    "duration": 10,
    "start_time": "2023-01-11T21:24:32.305Z"
   },
   {
    "duration": 69,
    "start_time": "2023-01-11T21:24:32.316Z"
   },
   {
    "duration": 3,
    "start_time": "2023-01-11T21:24:32.387Z"
   },
   {
    "duration": 17,
    "start_time": "2023-01-11T21:24:32.392Z"
   },
   {
    "duration": 11,
    "start_time": "2023-01-11T21:24:32.410Z"
   },
   {
    "duration": 10,
    "start_time": "2023-01-11T21:24:32.422Z"
   },
   {
    "duration": 6,
    "start_time": "2023-01-11T21:24:32.435Z"
   },
   {
    "duration": 41,
    "start_time": "2023-01-11T21:24:32.442Z"
   },
   {
    "duration": 10,
    "start_time": "2023-01-11T21:24:32.485Z"
   },
   {
    "duration": 8,
    "start_time": "2023-01-11T21:24:32.496Z"
   },
   {
    "duration": 15,
    "start_time": "2023-01-11T21:24:32.506Z"
   },
   {
    "duration": 19,
    "start_time": "2023-01-11T21:24:32.522Z"
   },
   {
    "duration": 37,
    "start_time": "2023-01-11T21:24:32.543Z"
   },
   {
    "duration": 4,
    "start_time": "2023-01-11T21:24:32.582Z"
   },
   {
    "duration": 18,
    "start_time": "2023-01-11T21:24:32.587Z"
   },
   {
    "duration": 22,
    "start_time": "2023-01-11T21:24:32.607Z"
   },
   {
    "duration": 12,
    "start_time": "2023-01-11T21:24:32.631Z"
   },
   {
    "duration": 17,
    "start_time": "2023-01-11T21:24:32.644Z"
   },
   {
    "duration": 31,
    "start_time": "2023-01-11T21:24:32.663Z"
   },
   {
    "duration": 3,
    "start_time": "2023-01-11T21:24:32.696Z"
   },
   {
    "duration": 19,
    "start_time": "2023-01-11T21:24:32.700Z"
   },
   {
    "duration": 33,
    "start_time": "2023-01-11T21:24:32.721Z"
   },
   {
    "duration": 3,
    "start_time": "2023-01-11T21:24:32.756Z"
   },
   {
    "duration": 15,
    "start_time": "2023-01-11T21:24:32.760Z"
   },
   {
    "duration": 24,
    "start_time": "2023-01-11T21:24:32.778Z"
   },
   {
    "duration": 3,
    "start_time": "2023-01-11T21:24:32.804Z"
   },
   {
    "duration": 21,
    "start_time": "2023-01-11T21:24:32.808Z"
   },
   {
    "duration": 32,
    "start_time": "2023-01-11T21:24:32.830Z"
   },
   {
    "duration": 3,
    "start_time": "2023-01-11T21:24:32.864Z"
   },
   {
    "duration": 8,
    "start_time": "2023-01-11T21:24:32.876Z"
   },
   {
    "duration": 63,
    "start_time": "2023-01-11T21:38:29.296Z"
   },
   {
    "duration": 724,
    "start_time": "2023-01-11T21:38:37.837Z"
   },
   {
    "duration": 25,
    "start_time": "2023-01-11T21:39:10.919Z"
   },
   {
    "duration": 3,
    "start_time": "2023-01-11T21:39:11.329Z"
   },
   {
    "duration": 686,
    "start_time": "2023-01-11T21:39:12.080Z"
   },
   {
    "duration": 10,
    "start_time": "2023-01-11T21:39:27.435Z"
   },
   {
    "duration": 25,
    "start_time": "2023-01-11T21:39:38.516Z"
   },
   {
    "duration": 729,
    "start_time": "2023-01-11T21:40:54.872Z"
   },
   {
    "duration": 662,
    "start_time": "2023-01-11T21:41:51.803Z"
   },
   {
    "duration": 10,
    "start_time": "2023-01-11T21:42:12.490Z"
   },
   {
    "duration": 451,
    "start_time": "2023-01-11T21:42:32.403Z"
   },
   {
    "duration": 22,
    "start_time": "2023-01-11T21:42:32.856Z"
   },
   {
    "duration": 23,
    "start_time": "2023-01-11T21:42:32.881Z"
   },
   {
    "duration": 12,
    "start_time": "2023-01-11T21:42:32.907Z"
   },
   {
    "duration": 38,
    "start_time": "2023-01-11T21:42:32.921Z"
   },
   {
    "duration": 4,
    "start_time": "2023-01-11T21:42:32.976Z"
   },
   {
    "duration": 14,
    "start_time": "2023-01-11T21:42:32.982Z"
   },
   {
    "duration": 5,
    "start_time": "2023-01-11T21:42:32.997Z"
   },
   {
    "duration": 11,
    "start_time": "2023-01-11T21:42:33.003Z"
   },
   {
    "duration": 4,
    "start_time": "2023-01-11T21:42:33.017Z"
   },
   {
    "duration": 63,
    "start_time": "2023-01-11T21:42:33.023Z"
   },
   {
    "duration": 10,
    "start_time": "2023-01-11T21:42:33.087Z"
   },
   {
    "duration": 7,
    "start_time": "2023-01-11T21:42:33.099Z"
   },
   {
    "duration": 21,
    "start_time": "2023-01-11T21:42:33.108Z"
   },
   {
    "duration": 21,
    "start_time": "2023-01-11T21:42:33.130Z"
   },
   {
    "duration": 39,
    "start_time": "2023-01-11T21:42:33.153Z"
   },
   {
    "duration": 3,
    "start_time": "2023-01-11T21:42:33.194Z"
   },
   {
    "duration": 22,
    "start_time": "2023-01-11T21:42:33.199Z"
   },
   {
    "duration": 7,
    "start_time": "2023-01-11T21:42:33.222Z"
   },
   {
    "duration": 5,
    "start_time": "2023-01-11T21:42:33.230Z"
   },
   {
    "duration": 17,
    "start_time": "2023-01-11T21:42:33.236Z"
   },
   {
    "duration": 43,
    "start_time": "2023-01-11T21:42:33.255Z"
   },
   {
    "duration": 3,
    "start_time": "2023-01-11T21:42:33.299Z"
   },
   {
    "duration": 30,
    "start_time": "2023-01-11T21:42:33.304Z"
   },
   {
    "duration": 40,
    "start_time": "2023-01-11T21:42:33.336Z"
   },
   {
    "duration": 43,
    "start_time": "2023-01-11T21:42:33.378Z"
   },
   {
    "duration": 0,
    "start_time": "2023-01-11T21:42:33.424Z"
   },
   {
    "duration": 0,
    "start_time": "2023-01-11T21:42:33.425Z"
   },
   {
    "duration": 0,
    "start_time": "2023-01-11T21:42:33.426Z"
   },
   {
    "duration": 0,
    "start_time": "2023-01-11T21:42:33.427Z"
   },
   {
    "duration": 0,
    "start_time": "2023-01-11T21:42:33.428Z"
   },
   {
    "duration": 0,
    "start_time": "2023-01-11T21:42:33.429Z"
   },
   {
    "duration": 0,
    "start_time": "2023-01-11T21:42:33.430Z"
   },
   {
    "duration": 3,
    "start_time": "2023-01-11T21:42:45.387Z"
   },
   {
    "duration": 8,
    "start_time": "2023-01-11T21:42:51.021Z"
   },
   {
    "duration": 24,
    "start_time": "2023-01-11T21:43:03.069Z"
   },
   {
    "duration": 3,
    "start_time": "2023-01-11T21:43:04.358Z"
   },
   {
    "duration": 7,
    "start_time": "2023-01-11T21:43:04.787Z"
   },
   {
    "duration": 26,
    "start_time": "2023-01-11T21:43:07.287Z"
   },
   {
    "duration": 2,
    "start_time": "2023-01-11T21:43:07.588Z"
   },
   {
    "duration": 7,
    "start_time": "2023-01-11T21:43:07.901Z"
   },
   {
    "duration": 497,
    "start_time": "2023-01-11T21:43:21.263Z"
   },
   {
    "duration": 21,
    "start_time": "2023-01-11T21:43:21.762Z"
   },
   {
    "duration": 15,
    "start_time": "2023-01-11T21:43:21.788Z"
   },
   {
    "duration": 9,
    "start_time": "2023-01-11T21:43:21.805Z"
   },
   {
    "duration": 38,
    "start_time": "2023-01-11T21:43:21.815Z"
   },
   {
    "duration": 24,
    "start_time": "2023-01-11T21:43:21.854Z"
   },
   {
    "duration": 26,
    "start_time": "2023-01-11T21:43:21.880Z"
   },
   {
    "duration": 5,
    "start_time": "2023-01-11T21:43:21.908Z"
   },
   {
    "duration": 7,
    "start_time": "2023-01-11T21:43:21.917Z"
   },
   {
    "duration": 4,
    "start_time": "2023-01-11T21:43:21.925Z"
   },
   {
    "duration": 34,
    "start_time": "2023-01-11T21:43:21.930Z"
   },
   {
    "duration": 19,
    "start_time": "2023-01-11T21:43:21.965Z"
   },
   {
    "duration": 8,
    "start_time": "2023-01-11T21:43:21.985Z"
   },
   {
    "duration": 20,
    "start_time": "2023-01-11T21:43:21.994Z"
   },
   {
    "duration": 23,
    "start_time": "2023-01-11T21:43:22.016Z"
   },
   {
    "duration": 22,
    "start_time": "2023-01-11T21:43:22.040Z"
   },
   {
    "duration": 14,
    "start_time": "2023-01-11T21:43:22.063Z"
   },
   {
    "duration": 19,
    "start_time": "2023-01-11T21:43:22.078Z"
   },
   {
    "duration": 11,
    "start_time": "2023-01-11T21:43:22.098Z"
   },
   {
    "duration": 6,
    "start_time": "2023-01-11T21:43:22.111Z"
   },
   {
    "duration": 11,
    "start_time": "2023-01-11T21:43:22.118Z"
   },
   {
    "duration": 24,
    "start_time": "2023-01-11T21:43:22.131Z"
   },
   {
    "duration": 3,
    "start_time": "2023-01-11T21:43:22.156Z"
   },
   {
    "duration": 23,
    "start_time": "2023-01-11T21:43:22.161Z"
   },
   {
    "duration": 54,
    "start_time": "2023-01-11T21:43:22.185Z"
   },
   {
    "duration": 14,
    "start_time": "2023-01-11T21:43:22.242Z"
   },
   {
    "duration": 51,
    "start_time": "2023-01-11T21:43:22.260Z"
   },
   {
    "duration": 54,
    "start_time": "2023-01-11T21:43:22.313Z"
   },
   {
    "duration": 3,
    "start_time": "2023-01-11T21:43:22.369Z"
   },
   {
    "duration": 15,
    "start_time": "2023-01-11T21:43:22.374Z"
   },
   {
    "duration": 37,
    "start_time": "2023-01-11T21:43:22.390Z"
   },
   {
    "duration": 4,
    "start_time": "2023-01-11T21:43:22.429Z"
   },
   {
    "duration": 12,
    "start_time": "2023-01-11T21:43:22.435Z"
   },
   {
    "duration": 504,
    "start_time": "2023-01-11T22:23:53.762Z"
   },
   {
    "duration": 22,
    "start_time": "2023-01-11T22:23:54.267Z"
   },
   {
    "duration": 16,
    "start_time": "2023-01-11T22:23:54.290Z"
   },
   {
    "duration": 11,
    "start_time": "2023-01-11T22:23:54.308Z"
   },
   {
    "duration": 56,
    "start_time": "2023-01-11T22:23:54.320Z"
   },
   {
    "duration": 4,
    "start_time": "2023-01-11T22:23:54.378Z"
   },
   {
    "duration": 12,
    "start_time": "2023-01-11T22:23:54.384Z"
   },
   {
    "duration": 8,
    "start_time": "2023-01-11T22:23:54.397Z"
   },
   {
    "duration": 10,
    "start_time": "2023-01-11T22:23:54.407Z"
   },
   {
    "duration": 4,
    "start_time": "2023-01-11T22:23:54.419Z"
   },
   {
    "duration": 71,
    "start_time": "2023-01-11T22:23:54.426Z"
   },
   {
    "duration": 10,
    "start_time": "2023-01-11T22:23:54.499Z"
   },
   {
    "duration": 6,
    "start_time": "2023-01-11T22:23:54.510Z"
   },
   {
    "duration": 13,
    "start_time": "2023-01-11T22:23:54.518Z"
   },
   {
    "duration": 22,
    "start_time": "2023-01-11T22:23:54.532Z"
   },
   {
    "duration": 18,
    "start_time": "2023-01-11T22:23:54.576Z"
   },
   {
    "duration": 4,
    "start_time": "2023-01-11T22:23:54.595Z"
   },
   {
    "duration": 17,
    "start_time": "2023-01-11T22:23:54.601Z"
   },
   {
    "duration": 12,
    "start_time": "2023-01-11T22:23:54.620Z"
   },
   {
    "duration": 4,
    "start_time": "2023-01-11T22:23:54.634Z"
   },
   {
    "duration": 12,
    "start_time": "2023-01-11T22:23:54.640Z"
   },
   {
    "duration": 28,
    "start_time": "2023-01-11T22:23:54.677Z"
   },
   {
    "duration": 3,
    "start_time": "2023-01-11T22:23:54.707Z"
   },
   {
    "duration": 13,
    "start_time": "2023-01-11T22:23:54.712Z"
   },
   {
    "duration": 50,
    "start_time": "2023-01-11T22:23:54.726Z"
   },
   {
    "duration": 3,
    "start_time": "2023-01-11T22:23:54.778Z"
   },
   {
    "duration": 12,
    "start_time": "2023-01-11T22:23:54.783Z"
   },
   {
    "duration": 29,
    "start_time": "2023-01-11T22:23:54.798Z"
   },
   {
    "duration": 4,
    "start_time": "2023-01-11T22:23:54.829Z"
   },
   {
    "duration": 15,
    "start_time": "2023-01-11T22:23:54.835Z"
   },
   {
    "duration": 47,
    "start_time": "2023-01-11T22:23:54.852Z"
   },
   {
    "duration": 3,
    "start_time": "2023-01-11T22:23:54.901Z"
   },
   {
    "duration": 19,
    "start_time": "2023-01-11T22:23:54.906Z"
   },
   {
    "duration": 541,
    "start_time": "2023-01-12T14:40:50.115Z"
   },
   {
    "duration": 22,
    "start_time": "2023-01-12T14:40:50.657Z"
   },
   {
    "duration": 19,
    "start_time": "2023-01-12T14:40:50.680Z"
   },
   {
    "duration": 8,
    "start_time": "2023-01-12T14:40:50.701Z"
   },
   {
    "duration": 31,
    "start_time": "2023-01-12T14:40:50.711Z"
   },
   {
    "duration": 3,
    "start_time": "2023-01-12T14:40:50.743Z"
   },
   {
    "duration": 10,
    "start_time": "2023-01-12T14:40:50.748Z"
   },
   {
    "duration": 4,
    "start_time": "2023-01-12T14:40:50.760Z"
   },
   {
    "duration": 9,
    "start_time": "2023-01-12T14:40:50.765Z"
   },
   {
    "duration": 4,
    "start_time": "2023-01-12T14:40:50.777Z"
   },
   {
    "duration": 57,
    "start_time": "2023-01-12T14:40:50.782Z"
   },
   {
    "duration": 10,
    "start_time": "2023-01-12T14:40:50.841Z"
   },
   {
    "duration": 5,
    "start_time": "2023-01-12T14:40:50.852Z"
   },
   {
    "duration": 13,
    "start_time": "2023-01-12T14:40:50.859Z"
   },
   {
    "duration": 40,
    "start_time": "2023-01-12T14:40:50.873Z"
   },
   {
    "duration": 20,
    "start_time": "2023-01-12T14:40:50.915Z"
   },
   {
    "duration": 4,
    "start_time": "2023-01-12T14:40:50.937Z"
   },
   {
    "duration": 15,
    "start_time": "2023-01-12T14:40:50.943Z"
   },
   {
    "duration": 24,
    "start_time": "2023-01-12T14:40:50.961Z"
   },
   {
    "duration": 22,
    "start_time": "2023-01-12T14:40:50.986Z"
   },
   {
    "duration": 21,
    "start_time": "2023-01-12T14:40:51.010Z"
   },
   {
    "duration": 31,
    "start_time": "2023-01-12T14:40:51.033Z"
   },
   {
    "duration": 3,
    "start_time": "2023-01-12T14:40:51.065Z"
   },
   {
    "duration": 15,
    "start_time": "2023-01-12T14:40:51.069Z"
   },
   {
    "duration": 34,
    "start_time": "2023-01-12T14:40:51.086Z"
   },
   {
    "duration": 3,
    "start_time": "2023-01-12T14:40:51.122Z"
   },
   {
    "duration": 11,
    "start_time": "2023-01-12T14:40:51.126Z"
   },
   {
    "duration": 24,
    "start_time": "2023-01-12T14:40:51.140Z"
   },
   {
    "duration": 2,
    "start_time": "2023-01-12T14:40:51.166Z"
   },
   {
    "duration": 11,
    "start_time": "2023-01-12T14:40:51.170Z"
   },
   {
    "duration": 41,
    "start_time": "2023-01-12T14:40:51.183Z"
   },
   {
    "duration": 3,
    "start_time": "2023-01-12T14:40:51.225Z"
   },
   {
    "duration": 19,
    "start_time": "2023-01-12T14:40:51.229Z"
   },
   {
    "duration": 510,
    "start_time": "2023-01-12T16:09:27.913Z"
   },
   {
    "duration": 23,
    "start_time": "2023-01-12T16:09:28.425Z"
   },
   {
    "duration": 14,
    "start_time": "2023-01-12T16:09:28.449Z"
   },
   {
    "duration": 10,
    "start_time": "2023-01-12T16:09:28.466Z"
   },
   {
    "duration": 44,
    "start_time": "2023-01-12T16:09:28.478Z"
   },
   {
    "duration": 4,
    "start_time": "2023-01-12T16:09:28.523Z"
   },
   {
    "duration": 13,
    "start_time": "2023-01-12T16:09:28.528Z"
   },
   {
    "duration": 13,
    "start_time": "2023-01-12T16:09:28.543Z"
   },
   {
    "duration": 11,
    "start_time": "2023-01-12T16:09:28.557Z"
   },
   {
    "duration": 9,
    "start_time": "2023-01-12T16:09:28.570Z"
   },
   {
    "duration": 36,
    "start_time": "2023-01-12T16:09:28.581Z"
   },
   {
    "duration": 9,
    "start_time": "2023-01-12T16:09:28.619Z"
   },
   {
    "duration": 4,
    "start_time": "2023-01-12T16:09:28.629Z"
   },
   {
    "duration": 14,
    "start_time": "2023-01-12T16:09:28.635Z"
   },
   {
    "duration": 19,
    "start_time": "2023-01-12T16:09:28.651Z"
   },
   {
    "duration": 16,
    "start_time": "2023-01-12T16:09:28.672Z"
   },
   {
    "duration": 4,
    "start_time": "2023-01-12T16:09:28.713Z"
   },
   {
    "duration": 16,
    "start_time": "2023-01-12T16:09:28.718Z"
   },
   {
    "duration": 8,
    "start_time": "2023-01-12T16:09:28.736Z"
   },
   {
    "duration": 4,
    "start_time": "2023-01-12T16:09:28.746Z"
   },
   {
    "duration": 13,
    "start_time": "2023-01-12T16:09:28.751Z"
   },
   {
    "duration": 25,
    "start_time": "2023-01-12T16:09:28.766Z"
   },
   {
    "duration": 21,
    "start_time": "2023-01-12T16:09:28.792Z"
   },
   {
    "duration": 11,
    "start_time": "2023-01-12T16:09:28.815Z"
   },
   {
    "duration": 29,
    "start_time": "2023-01-12T16:09:28.828Z"
   },
   {
    "duration": 2,
    "start_time": "2023-01-12T16:09:28.859Z"
   },
   {
    "duration": 14,
    "start_time": "2023-01-12T16:09:28.862Z"
   },
   {
    "duration": 39,
    "start_time": "2023-01-12T16:09:28.879Z"
   },
   {
    "duration": 4,
    "start_time": "2023-01-12T16:09:28.920Z"
   },
   {
    "duration": 20,
    "start_time": "2023-01-12T16:09:28.925Z"
   },
   {
    "duration": 31,
    "start_time": "2023-01-12T16:09:28.947Z"
   },
   {
    "duration": 3,
    "start_time": "2023-01-12T16:09:28.979Z"
   },
   {
    "duration": 10,
    "start_time": "2023-01-12T16:09:28.984Z"
   },
   {
    "duration": 427,
    "start_time": "2023-01-12T16:09:36.050Z"
   },
   {
    "duration": 22,
    "start_time": "2023-01-12T16:09:36.479Z"
   },
   {
    "duration": 14,
    "start_time": "2023-01-12T16:09:36.502Z"
   },
   {
    "duration": 9,
    "start_time": "2023-01-12T16:09:36.517Z"
   },
   {
    "duration": 31,
    "start_time": "2023-01-12T16:09:36.528Z"
   },
   {
    "duration": 4,
    "start_time": "2023-01-12T16:09:36.561Z"
   },
   {
    "duration": 12,
    "start_time": "2023-01-12T16:09:36.567Z"
   },
   {
    "duration": 4,
    "start_time": "2023-01-12T16:09:36.580Z"
   },
   {
    "duration": 27,
    "start_time": "2023-01-12T16:09:36.586Z"
   },
   {
    "duration": 5,
    "start_time": "2023-01-12T16:09:36.615Z"
   },
   {
    "duration": 35,
    "start_time": "2023-01-12T16:09:36.622Z"
   },
   {
    "duration": 8,
    "start_time": "2023-01-12T16:09:36.659Z"
   },
   {
    "duration": 5,
    "start_time": "2023-01-12T16:09:36.669Z"
   },
   {
    "duration": 11,
    "start_time": "2023-01-12T16:09:36.677Z"
   },
   {
    "duration": 36,
    "start_time": "2023-01-12T16:09:36.690Z"
   },
   {
    "duration": 16,
    "start_time": "2023-01-12T16:09:36.728Z"
   },
   {
    "duration": 3,
    "start_time": "2023-01-12T16:09:36.746Z"
   },
   {
    "duration": 12,
    "start_time": "2023-01-12T16:09:36.751Z"
   },
   {
    "duration": 6,
    "start_time": "2023-01-12T16:09:36.764Z"
   },
   {
    "duration": 4,
    "start_time": "2023-01-12T16:09:36.771Z"
   },
   {
    "duration": 40,
    "start_time": "2023-01-12T16:09:36.776Z"
   },
   {
    "duration": 25,
    "start_time": "2023-01-12T16:09:36.817Z"
   },
   {
    "duration": 3,
    "start_time": "2023-01-12T16:09:36.844Z"
   },
   {
    "duration": 10,
    "start_time": "2023-01-12T16:09:36.848Z"
   },
   {
    "duration": 31,
    "start_time": "2023-01-12T16:09:36.859Z"
   },
   {
    "duration": 22,
    "start_time": "2023-01-12T16:09:36.891Z"
   },
   {
    "duration": 11,
    "start_time": "2023-01-12T16:09:36.915Z"
   },
   {
    "duration": 30,
    "start_time": "2023-01-12T16:09:36.927Z"
   },
   {
    "duration": 2,
    "start_time": "2023-01-12T16:09:36.959Z"
   },
   {
    "duration": 16,
    "start_time": "2023-01-12T16:09:36.963Z"
   },
   {
    "duration": 44,
    "start_time": "2023-01-12T16:09:36.981Z"
   },
   {
    "duration": 3,
    "start_time": "2023-01-12T16:09:37.026Z"
   },
   {
    "duration": 10,
    "start_time": "2023-01-12T16:09:37.031Z"
   },
   {
    "duration": 484,
    "start_time": "2023-01-12T22:43:09.785Z"
   },
   {
    "duration": 28,
    "start_time": "2023-01-12T22:43:10.272Z"
   },
   {
    "duration": 23,
    "start_time": "2023-01-12T22:43:10.303Z"
   },
   {
    "duration": 13,
    "start_time": "2023-01-12T22:43:10.328Z"
   },
   {
    "duration": 31,
    "start_time": "2023-01-12T22:43:10.343Z"
   },
   {
    "duration": 3,
    "start_time": "2023-01-12T22:43:10.376Z"
   },
   {
    "duration": 14,
    "start_time": "2023-01-12T22:43:10.380Z"
   },
   {
    "duration": 6,
    "start_time": "2023-01-12T22:43:10.413Z"
   },
   {
    "duration": 9,
    "start_time": "2023-01-12T22:43:10.420Z"
   },
   {
    "duration": 9,
    "start_time": "2023-01-12T22:43:10.433Z"
   },
   {
    "duration": 41,
    "start_time": "2023-01-12T22:43:10.443Z"
   },
   {
    "duration": 9,
    "start_time": "2023-01-12T22:43:10.485Z"
   },
   {
    "duration": 18,
    "start_time": "2023-01-12T22:43:10.495Z"
   },
   {
    "duration": 13,
    "start_time": "2023-01-12T22:43:10.514Z"
   },
   {
    "duration": 18,
    "start_time": "2023-01-12T22:43:10.528Z"
   },
   {
    "duration": 16,
    "start_time": "2023-01-12T22:43:10.548Z"
   },
   {
    "duration": 3,
    "start_time": "2023-01-12T22:43:10.566Z"
   },
   {
    "duration": 11,
    "start_time": "2023-01-12T22:43:10.571Z"
   },
   {
    "duration": 7,
    "start_time": "2023-01-12T22:43:10.612Z"
   },
   {
    "duration": 7,
    "start_time": "2023-01-12T22:43:10.621Z"
   },
   {
    "duration": 14,
    "start_time": "2023-01-12T22:43:10.630Z"
   },
   {
    "duration": 25,
    "start_time": "2023-01-12T22:43:10.645Z"
   },
   {
    "duration": 3,
    "start_time": "2023-01-12T22:43:10.671Z"
   },
   {
    "duration": 11,
    "start_time": "2023-01-12T22:43:10.675Z"
   },
   {
    "duration": 44,
    "start_time": "2023-01-12T22:43:10.687Z"
   },
   {
    "duration": 2,
    "start_time": "2023-01-12T22:43:10.733Z"
   },
   {
    "duration": 11,
    "start_time": "2023-01-12T22:43:10.736Z"
   },
   {
    "duration": 25,
    "start_time": "2023-01-12T22:43:10.750Z"
   },
   {
    "duration": 3,
    "start_time": "2023-01-12T22:43:10.776Z"
   },
   {
    "duration": 9,
    "start_time": "2023-01-12T22:43:10.780Z"
   },
   {
    "duration": 51,
    "start_time": "2023-01-12T22:43:10.790Z"
   },
   {
    "duration": 3,
    "start_time": "2023-01-12T22:43:10.842Z"
   },
   {
    "duration": 10,
    "start_time": "2023-01-12T22:43:10.846Z"
   },
   {
    "duration": 458,
    "start_time": "2023-01-12T22:46:26.729Z"
   },
   {
    "duration": 21,
    "start_time": "2023-01-12T22:46:27.189Z"
   },
   {
    "duration": 27,
    "start_time": "2023-01-12T22:46:27.214Z"
   },
   {
    "duration": 26,
    "start_time": "2023-01-12T22:46:27.243Z"
   },
   {
    "duration": 43,
    "start_time": "2023-01-12T22:46:27.270Z"
   },
   {
    "duration": 13,
    "start_time": "2023-01-12T22:46:27.315Z"
   },
   {
    "duration": 29,
    "start_time": "2023-01-12T22:46:27.330Z"
   },
   {
    "duration": 13,
    "start_time": "2023-01-12T22:46:27.360Z"
   },
   {
    "duration": 32,
    "start_time": "2023-01-12T22:46:27.375Z"
   },
   {
    "duration": 16,
    "start_time": "2023-01-12T22:46:27.410Z"
   },
   {
    "duration": 35,
    "start_time": "2023-01-12T22:46:27.428Z"
   },
   {
    "duration": 10,
    "start_time": "2023-01-12T22:46:27.465Z"
   },
   {
    "duration": 9,
    "start_time": "2023-01-12T22:46:27.476Z"
   },
   {
    "duration": 32,
    "start_time": "2023-01-12T22:46:27.486Z"
   },
   {
    "duration": 25,
    "start_time": "2023-01-12T22:46:27.520Z"
   },
   {
    "duration": 17,
    "start_time": "2023-01-12T22:46:27.546Z"
   },
   {
    "duration": 15,
    "start_time": "2023-01-12T22:46:27.565Z"
   },
   {
    "duration": 23,
    "start_time": "2023-01-12T22:46:27.581Z"
   },
   {
    "duration": 23,
    "start_time": "2023-01-12T22:46:27.606Z"
   },
   {
    "duration": 20,
    "start_time": "2023-01-12T22:46:27.630Z"
   },
   {
    "duration": 19,
    "start_time": "2023-01-12T22:46:27.652Z"
   },
   {
    "duration": 36,
    "start_time": "2023-01-12T22:46:27.672Z"
   },
   {
    "duration": 3,
    "start_time": "2023-01-12T22:46:27.709Z"
   },
   {
    "duration": 16,
    "start_time": "2023-01-12T22:46:27.713Z"
   },
   {
    "duration": 65,
    "start_time": "2023-01-12T22:46:27.730Z"
   },
   {
    "duration": 3,
    "start_time": "2023-01-12T22:46:27.797Z"
   },
   {
    "duration": 20,
    "start_time": "2023-01-12T22:46:27.801Z"
   },
   {
    "duration": 42,
    "start_time": "2023-01-12T22:46:27.824Z"
   },
   {
    "duration": 3,
    "start_time": "2023-01-12T22:46:27.868Z"
   },
   {
    "duration": 18,
    "start_time": "2023-01-12T22:46:27.872Z"
   },
   {
    "duration": 43,
    "start_time": "2023-01-12T22:46:27.891Z"
   },
   {
    "duration": 17,
    "start_time": "2023-01-12T22:46:27.936Z"
   },
   {
    "duration": 42,
    "start_time": "2023-01-12T22:46:27.954Z"
   },
   {
    "duration": 545,
    "start_time": "2023-01-13T03:07:59.300Z"
   },
   {
    "duration": 45,
    "start_time": "2023-01-13T03:07:59.848Z"
   },
   {
    "duration": 19,
    "start_time": "2023-01-13T03:07:59.895Z"
   },
   {
    "duration": 12,
    "start_time": "2023-01-13T03:07:59.917Z"
   },
   {
    "duration": 37,
    "start_time": "2023-01-13T03:07:59.951Z"
   },
   {
    "duration": 4,
    "start_time": "2023-01-13T03:07:59.990Z"
   },
   {
    "duration": 11,
    "start_time": "2023-01-13T03:07:59.997Z"
   },
   {
    "duration": 18,
    "start_time": "2023-01-13T03:08:00.010Z"
   },
   {
    "duration": 41,
    "start_time": "2023-01-13T03:08:00.030Z"
   },
   {
    "duration": 26,
    "start_time": "2023-01-13T03:08:00.076Z"
   },
   {
    "duration": 103,
    "start_time": "2023-01-13T03:08:00.104Z"
   },
   {
    "duration": 12,
    "start_time": "2023-01-13T03:08:00.209Z"
   },
   {
    "duration": 34,
    "start_time": "2023-01-13T03:08:00.224Z"
   },
   {
    "duration": 35,
    "start_time": "2023-01-13T03:08:00.260Z"
   },
   {
    "duration": 126,
    "start_time": "2023-01-13T03:08:00.297Z"
   },
   {
    "duration": 43,
    "start_time": "2023-01-13T03:08:00.425Z"
   },
   {
    "duration": 7,
    "start_time": "2023-01-13T03:08:00.471Z"
   },
   {
    "duration": 39,
    "start_time": "2023-01-13T03:08:00.480Z"
   },
   {
    "duration": 39,
    "start_time": "2023-01-13T03:08:00.521Z"
   },
   {
    "duration": 33,
    "start_time": "2023-01-13T03:08:00.562Z"
   },
   {
    "duration": 84,
    "start_time": "2023-01-13T03:08:00.597Z"
   },
   {
    "duration": 66,
    "start_time": "2023-01-13T03:08:00.684Z"
   },
   {
    "duration": 3,
    "start_time": "2023-01-13T03:08:00.752Z"
   },
   {
    "duration": 36,
    "start_time": "2023-01-13T03:08:00.758Z"
   },
   {
    "duration": 61,
    "start_time": "2023-01-13T03:08:00.796Z"
   },
   {
    "duration": 19,
    "start_time": "2023-01-13T03:08:00.860Z"
   },
   {
    "duration": 36,
    "start_time": "2023-01-13T03:08:00.881Z"
   },
   {
    "duration": 49,
    "start_time": "2023-01-13T03:08:00.921Z"
   },
   {
    "duration": 3,
    "start_time": "2023-01-13T03:08:00.972Z"
   },
   {
    "duration": 27,
    "start_time": "2023-01-13T03:08:00.978Z"
   },
   {
    "duration": 63,
    "start_time": "2023-01-13T03:08:01.008Z"
   },
   {
    "duration": 13,
    "start_time": "2023-01-13T03:08:01.074Z"
   },
   {
    "duration": 27,
    "start_time": "2023-01-13T03:08:01.089Z"
   },
   {
    "duration": 87,
    "start_time": "2023-01-13T03:19:23.868Z"
   },
   {
    "duration": 56,
    "start_time": "2023-01-13T13:22:03.467Z"
   },
   {
    "duration": 702,
    "start_time": "2023-01-13T19:17:02.198Z"
   },
   {
    "duration": 23,
    "start_time": "2023-01-13T19:17:02.902Z"
   },
   {
    "duration": 36,
    "start_time": "2023-01-13T19:17:02.927Z"
   },
   {
    "duration": 10,
    "start_time": "2023-01-13T19:17:02.965Z"
   },
   {
    "duration": 61,
    "start_time": "2023-01-13T19:17:02.977Z"
   },
   {
    "duration": 4,
    "start_time": "2023-01-13T19:17:03.040Z"
   },
   {
    "duration": 21,
    "start_time": "2023-01-13T19:17:03.045Z"
   },
   {
    "duration": 20,
    "start_time": "2023-01-13T19:17:03.068Z"
   },
   {
    "duration": 29,
    "start_time": "2023-01-13T19:17:03.090Z"
   },
   {
    "duration": 27,
    "start_time": "2023-01-13T19:17:03.123Z"
   },
   {
    "duration": 45,
    "start_time": "2023-01-13T19:17:03.152Z"
   },
   {
    "duration": 9,
    "start_time": "2023-01-13T19:17:03.199Z"
   },
   {
    "duration": 13,
    "start_time": "2023-01-13T19:17:03.210Z"
   },
   {
    "duration": 41,
    "start_time": "2023-01-13T19:17:03.224Z"
   },
   {
    "duration": 37,
    "start_time": "2023-01-13T19:17:03.267Z"
   },
   {
    "duration": 24,
    "start_time": "2023-01-13T19:17:03.306Z"
   },
   {
    "duration": 5,
    "start_time": "2023-01-13T19:17:03.331Z"
   },
   {
    "duration": 35,
    "start_time": "2023-01-13T19:17:03.337Z"
   },
   {
    "duration": 22,
    "start_time": "2023-01-13T19:17:03.374Z"
   },
   {
    "duration": 24,
    "start_time": "2023-01-13T19:17:03.399Z"
   },
   {
    "duration": 40,
    "start_time": "2023-01-13T19:17:03.425Z"
   },
   {
    "duration": 41,
    "start_time": "2023-01-13T19:17:03.467Z"
   },
   {
    "duration": 14,
    "start_time": "2023-01-13T19:17:03.510Z"
   },
   {
    "duration": 10,
    "start_time": "2023-01-13T19:17:03.526Z"
   },
   {
    "duration": 29,
    "start_time": "2023-01-13T19:17:03.538Z"
   },
   {
    "duration": 3,
    "start_time": "2023-01-13T19:17:03.568Z"
   },
   {
    "duration": 11,
    "start_time": "2023-01-13T19:17:03.573Z"
   },
   {
    "duration": 32,
    "start_time": "2023-01-13T19:17:03.588Z"
   },
   {
    "duration": 2,
    "start_time": "2023-01-13T19:17:03.622Z"
   },
   {
    "duration": 11,
    "start_time": "2023-01-13T19:17:03.626Z"
   },
   {
    "duration": 52,
    "start_time": "2023-01-13T19:17:03.638Z"
   },
   {
    "duration": 3,
    "start_time": "2023-01-13T19:17:03.692Z"
   },
   {
    "duration": 15,
    "start_time": "2023-01-13T19:17:03.697Z"
   },
   {
    "duration": 507,
    "start_time": "2023-01-13T19:17:10.297Z"
   },
   {
    "duration": 27,
    "start_time": "2023-01-13T19:17:10.806Z"
   },
   {
    "duration": 15,
    "start_time": "2023-01-13T19:17:10.834Z"
   },
   {
    "duration": 26,
    "start_time": "2023-01-13T19:17:10.851Z"
   },
   {
    "duration": 35,
    "start_time": "2023-01-13T19:17:10.879Z"
   },
   {
    "duration": 3,
    "start_time": "2023-01-13T19:17:10.916Z"
   },
   {
    "duration": 12,
    "start_time": "2023-01-13T19:17:10.921Z"
   },
   {
    "duration": 8,
    "start_time": "2023-01-13T19:17:10.934Z"
   },
   {
    "duration": 35,
    "start_time": "2023-01-13T19:17:10.944Z"
   },
   {
    "duration": 5,
    "start_time": "2023-01-13T19:17:10.982Z"
   },
   {
    "duration": 43,
    "start_time": "2023-01-13T19:17:10.989Z"
   },
   {
    "duration": 11,
    "start_time": "2023-01-13T19:17:11.037Z"
   },
   {
    "duration": 4,
    "start_time": "2023-01-13T19:17:11.050Z"
   },
   {
    "duration": 31,
    "start_time": "2023-01-13T19:17:11.055Z"
   },
   {
    "duration": 25,
    "start_time": "2023-01-13T19:17:11.088Z"
   },
   {
    "duration": 18,
    "start_time": "2023-01-13T19:17:11.115Z"
   },
   {
    "duration": 4,
    "start_time": "2023-01-13T19:17:11.135Z"
   },
   {
    "duration": 19,
    "start_time": "2023-01-13T19:17:11.140Z"
   },
   {
    "duration": 21,
    "start_time": "2023-01-13T19:17:11.160Z"
   },
   {
    "duration": 13,
    "start_time": "2023-01-13T19:17:11.182Z"
   },
   {
    "duration": 11,
    "start_time": "2023-01-13T19:17:11.197Z"
   },
   {
    "duration": 29,
    "start_time": "2023-01-13T19:17:11.210Z"
   },
   {
    "duration": 3,
    "start_time": "2023-01-13T19:17:11.240Z"
   },
   {
    "duration": 12,
    "start_time": "2023-01-13T19:17:11.245Z"
   },
   {
    "duration": 41,
    "start_time": "2023-01-13T19:17:11.259Z"
   },
   {
    "duration": 3,
    "start_time": "2023-01-13T19:17:11.302Z"
   },
   {
    "duration": 10,
    "start_time": "2023-01-13T19:17:11.306Z"
   },
   {
    "duration": 25,
    "start_time": "2023-01-13T19:17:11.319Z"
   },
   {
    "duration": 3,
    "start_time": "2023-01-13T19:17:11.346Z"
   },
   {
    "duration": 8,
    "start_time": "2023-01-13T19:17:11.377Z"
   },
   {
    "duration": 53,
    "start_time": "2023-01-13T19:17:11.387Z"
   },
   {
    "duration": 9,
    "start_time": "2023-01-13T19:17:11.442Z"
   },
   {
    "duration": 35,
    "start_time": "2023-01-13T19:17:11.453Z"
   },
   {
    "duration": 507,
    "start_time": "2023-01-13T19:17:20.597Z"
   },
   {
    "duration": 25,
    "start_time": "2023-01-13T19:17:21.106Z"
   },
   {
    "duration": 17,
    "start_time": "2023-01-13T19:17:21.133Z"
   },
   {
    "duration": 43,
    "start_time": "2023-01-13T19:17:21.152Z"
   },
   {
    "duration": 41,
    "start_time": "2023-01-13T19:17:21.197Z"
   },
   {
    "duration": 3,
    "start_time": "2023-01-13T19:17:21.240Z"
   },
   {
    "duration": 13,
    "start_time": "2023-01-13T19:17:21.245Z"
   },
   {
    "duration": 14,
    "start_time": "2023-01-13T19:17:21.259Z"
   },
   {
    "duration": 24,
    "start_time": "2023-01-13T19:17:21.277Z"
   },
   {
    "duration": 6,
    "start_time": "2023-01-13T19:17:21.303Z"
   },
   {
    "duration": 38,
    "start_time": "2023-01-13T19:17:21.310Z"
   },
   {
    "duration": 10,
    "start_time": "2023-01-13T19:17:21.349Z"
   },
   {
    "duration": 4,
    "start_time": "2023-01-13T19:17:21.360Z"
   },
   {
    "duration": 22,
    "start_time": "2023-01-13T19:17:21.367Z"
   },
   {
    "duration": 29,
    "start_time": "2023-01-13T19:17:21.391Z"
   },
   {
    "duration": 19,
    "start_time": "2023-01-13T19:17:21.422Z"
   },
   {
    "duration": 18,
    "start_time": "2023-01-13T19:17:21.443Z"
   },
   {
    "duration": 12,
    "start_time": "2023-01-13T19:17:21.463Z"
   },
   {
    "duration": 19,
    "start_time": "2023-01-13T19:17:21.477Z"
   },
   {
    "duration": 8,
    "start_time": "2023-01-13T19:17:21.498Z"
   },
   {
    "duration": 32,
    "start_time": "2023-01-13T19:17:21.507Z"
   },
   {
    "duration": 34,
    "start_time": "2023-01-13T19:17:21.541Z"
   },
   {
    "duration": 9,
    "start_time": "2023-01-13T19:17:21.576Z"
   },
   {
    "duration": 15,
    "start_time": "2023-01-13T19:17:21.590Z"
   },
   {
    "duration": 40,
    "start_time": "2023-01-13T19:17:21.606Z"
   },
   {
    "duration": 3,
    "start_time": "2023-01-13T19:17:21.648Z"
   },
   {
    "duration": 11,
    "start_time": "2023-01-13T19:17:21.652Z"
   },
   {
    "duration": 32,
    "start_time": "2023-01-13T19:17:21.681Z"
   },
   {
    "duration": 3,
    "start_time": "2023-01-13T19:17:21.715Z"
   },
   {
    "duration": 12,
    "start_time": "2023-01-13T19:17:21.720Z"
   },
   {
    "duration": 31,
    "start_time": "2023-01-13T19:17:21.790Z"
   },
   {
    "duration": 3,
    "start_time": "2023-01-13T19:17:21.822Z"
   },
   {
    "duration": 9,
    "start_time": "2023-01-13T19:17:21.827Z"
   },
   {
    "duration": 463,
    "start_time": "2023-01-13T19:17:29.050Z"
   },
   {
    "duration": 30,
    "start_time": "2023-01-13T19:17:29.515Z"
   },
   {
    "duration": 19,
    "start_time": "2023-01-13T19:17:29.547Z"
   },
   {
    "duration": 14,
    "start_time": "2023-01-13T19:17:29.582Z"
   },
   {
    "duration": 38,
    "start_time": "2023-01-13T19:17:29.597Z"
   },
   {
    "duration": 4,
    "start_time": "2023-01-13T19:17:29.636Z"
   },
   {
    "duration": 11,
    "start_time": "2023-01-13T19:17:29.641Z"
   },
   {
    "duration": 8,
    "start_time": "2023-01-13T19:17:29.653Z"
   },
   {
    "duration": 9,
    "start_time": "2023-01-13T19:17:29.678Z"
   },
   {
    "duration": 8,
    "start_time": "2023-01-13T19:17:29.696Z"
   },
   {
    "duration": 50,
    "start_time": "2023-01-13T19:17:29.707Z"
   },
   {
    "duration": 32,
    "start_time": "2023-01-13T19:17:29.759Z"
   },
   {
    "duration": 9,
    "start_time": "2023-01-13T19:17:29.796Z"
   },
   {
    "duration": 14,
    "start_time": "2023-01-13T19:17:29.807Z"
   },
   {
    "duration": 21,
    "start_time": "2023-01-13T19:17:29.822Z"
   },
   {
    "duration": 18,
    "start_time": "2023-01-13T19:17:29.844Z"
   },
   {
    "duration": 16,
    "start_time": "2023-01-13T19:17:29.864Z"
   },
   {
    "duration": 24,
    "start_time": "2023-01-13T19:17:29.881Z"
   },
   {
    "duration": 6,
    "start_time": "2023-01-13T19:17:29.907Z"
   },
   {
    "duration": 3,
    "start_time": "2023-01-13T19:17:29.915Z"
   },
   {
    "duration": 13,
    "start_time": "2023-01-13T19:17:29.920Z"
   },
   {
    "duration": 27,
    "start_time": "2023-01-13T19:17:29.934Z"
   },
   {
    "duration": 2,
    "start_time": "2023-01-13T19:17:29.963Z"
   },
   {
    "duration": 16,
    "start_time": "2023-01-13T19:17:29.979Z"
   },
   {
    "duration": 33,
    "start_time": "2023-01-13T19:17:29.997Z"
   },
   {
    "duration": 5,
    "start_time": "2023-01-13T19:17:30.032Z"
   },
   {
    "duration": 14,
    "start_time": "2023-01-13T19:17:30.039Z"
   },
   {
    "duration": 39,
    "start_time": "2023-01-13T19:17:30.056Z"
   },
   {
    "duration": 3,
    "start_time": "2023-01-13T19:17:30.096Z"
   },
   {
    "duration": 10,
    "start_time": "2023-01-13T19:17:30.101Z"
   },
   {
    "duration": 52,
    "start_time": "2023-01-13T19:17:30.113Z"
   },
   {
    "duration": 2,
    "start_time": "2023-01-13T19:17:30.167Z"
   },
   {
    "duration": 35,
    "start_time": "2023-01-13T19:17:30.171Z"
   },
   {
    "duration": 492,
    "start_time": "2023-01-13T19:17:35.687Z"
   },
   {
    "duration": 26,
    "start_time": "2023-01-13T19:17:36.183Z"
   },
   {
    "duration": 16,
    "start_time": "2023-01-13T19:17:36.212Z"
   },
   {
    "duration": 10,
    "start_time": "2023-01-13T19:17:36.229Z"
   },
   {
    "duration": 60,
    "start_time": "2023-01-13T19:17:36.241Z"
   },
   {
    "duration": 3,
    "start_time": "2023-01-13T19:17:36.303Z"
   },
   {
    "duration": 11,
    "start_time": "2023-01-13T19:17:36.308Z"
   },
   {
    "duration": 6,
    "start_time": "2023-01-13T19:17:36.320Z"
   },
   {
    "duration": 11,
    "start_time": "2023-01-13T19:17:36.327Z"
   },
   {
    "duration": 6,
    "start_time": "2023-01-13T19:17:36.340Z"
   },
   {
    "duration": 63,
    "start_time": "2023-01-13T19:17:36.347Z"
   },
   {
    "duration": 9,
    "start_time": "2023-01-13T19:17:36.412Z"
   },
   {
    "duration": 5,
    "start_time": "2023-01-13T19:17:36.423Z"
   },
   {
    "duration": 15,
    "start_time": "2023-01-13T19:17:36.430Z"
   },
   {
    "duration": 42,
    "start_time": "2023-01-13T19:17:36.447Z"
   },
   {
    "duration": 18,
    "start_time": "2023-01-13T19:17:36.490Z"
   },
   {
    "duration": 4,
    "start_time": "2023-01-13T19:17:36.510Z"
   },
   {
    "duration": 13,
    "start_time": "2023-01-13T19:17:36.516Z"
   },
   {
    "duration": 7,
    "start_time": "2023-01-13T19:17:36.531Z"
   },
   {
    "duration": 5,
    "start_time": "2023-01-13T19:17:36.540Z"
   },
   {
    "duration": 44,
    "start_time": "2023-01-13T19:17:36.547Z"
   },
   {
    "duration": 29,
    "start_time": "2023-01-13T19:17:36.593Z"
   },
   {
    "duration": 3,
    "start_time": "2023-01-13T19:17:36.624Z"
   },
   {
    "duration": 12,
    "start_time": "2023-01-13T19:17:36.629Z"
   },
   {
    "duration": 45,
    "start_time": "2023-01-13T19:17:36.643Z"
   },
   {
    "duration": 3,
    "start_time": "2023-01-13T19:17:36.691Z"
   },
   {
    "duration": 14,
    "start_time": "2023-01-13T19:17:36.695Z"
   },
   {
    "duration": 33,
    "start_time": "2023-01-13T19:17:36.711Z"
   },
   {
    "duration": 3,
    "start_time": "2023-01-13T19:17:36.746Z"
   },
   {
    "duration": 11,
    "start_time": "2023-01-13T19:17:36.751Z"
   },
   {
    "duration": 31,
    "start_time": "2023-01-13T19:17:36.783Z"
   },
   {
    "duration": 3,
    "start_time": "2023-01-13T19:17:36.816Z"
   },
   {
    "duration": 9,
    "start_time": "2023-01-13T19:17:36.821Z"
   },
   {
    "duration": 473,
    "start_time": "2023-01-13T19:17:44.204Z"
   },
   {
    "duration": 25,
    "start_time": "2023-01-13T19:17:44.685Z"
   },
   {
    "duration": 14,
    "start_time": "2023-01-13T19:17:44.712Z"
   },
   {
    "duration": 8,
    "start_time": "2023-01-13T19:17:44.728Z"
   },
   {
    "duration": 57,
    "start_time": "2023-01-13T19:17:44.738Z"
   },
   {
    "duration": 4,
    "start_time": "2023-01-13T19:17:44.797Z"
   },
   {
    "duration": 13,
    "start_time": "2023-01-13T19:17:44.802Z"
   },
   {
    "duration": 7,
    "start_time": "2023-01-13T19:17:44.816Z"
   },
   {
    "duration": 10,
    "start_time": "2023-01-13T19:17:44.825Z"
   },
   {
    "duration": 7,
    "start_time": "2023-01-13T19:17:44.837Z"
   },
   {
    "duration": 61,
    "start_time": "2023-01-13T19:17:44.845Z"
   },
   {
    "duration": 10,
    "start_time": "2023-01-13T19:17:44.908Z"
   },
   {
    "duration": 9,
    "start_time": "2023-01-13T19:17:44.919Z"
   },
   {
    "duration": 22,
    "start_time": "2023-01-13T19:17:44.931Z"
   },
   {
    "duration": 35,
    "start_time": "2023-01-13T19:17:44.955Z"
   },
   {
    "duration": 19,
    "start_time": "2023-01-13T19:17:44.993Z"
   },
   {
    "duration": 28,
    "start_time": "2023-01-13T19:17:45.014Z"
   },
   {
    "duration": 22,
    "start_time": "2023-01-13T19:17:45.044Z"
   },
   {
    "duration": 13,
    "start_time": "2023-01-13T19:17:45.068Z"
   },
   {
    "duration": 15,
    "start_time": "2023-01-13T19:17:45.084Z"
   },
   {
    "duration": 13,
    "start_time": "2023-01-13T19:17:45.101Z"
   },
   {
    "duration": 26,
    "start_time": "2023-01-13T19:17:45.116Z"
   },
   {
    "duration": 3,
    "start_time": "2023-01-13T19:17:45.144Z"
   },
   {
    "duration": 10,
    "start_time": "2023-01-13T19:17:45.149Z"
   },
   {
    "duration": 41,
    "start_time": "2023-01-13T19:17:45.161Z"
   },
   {
    "duration": 3,
    "start_time": "2023-01-13T19:17:45.203Z"
   },
   {
    "duration": 9,
    "start_time": "2023-01-13T19:17:45.208Z"
   },
   {
    "duration": 28,
    "start_time": "2023-01-13T19:17:45.219Z"
   },
   {
    "duration": 3,
    "start_time": "2023-01-13T19:17:45.249Z"
   },
   {
    "duration": 31,
    "start_time": "2023-01-13T19:17:45.254Z"
   },
   {
    "duration": 44,
    "start_time": "2023-01-13T19:17:45.286Z"
   },
   {
    "duration": 3,
    "start_time": "2023-01-13T19:17:45.332Z"
   },
   {
    "duration": 14,
    "start_time": "2023-01-13T19:17:45.337Z"
   },
   {
    "duration": 9,
    "start_time": "2023-01-13T19:20:05.841Z"
   },
   {
    "duration": 489,
    "start_time": "2023-01-13T19:20:11.401Z"
   },
   {
    "duration": 30,
    "start_time": "2023-01-13T19:20:11.894Z"
   },
   {
    "duration": 18,
    "start_time": "2023-01-13T19:20:11.926Z"
   },
   {
    "duration": 10,
    "start_time": "2023-01-13T19:20:11.945Z"
   },
   {
    "duration": 45,
    "start_time": "2023-01-13T19:20:11.980Z"
   },
   {
    "duration": 4,
    "start_time": "2023-01-13T19:20:12.027Z"
   },
   {
    "duration": 13,
    "start_time": "2023-01-13T19:20:12.033Z"
   },
   {
    "duration": 5,
    "start_time": "2023-01-13T19:20:12.048Z"
   },
   {
    "duration": 25,
    "start_time": "2023-01-13T19:20:12.054Z"
   },
   {
    "duration": 15,
    "start_time": "2023-01-13T19:20:12.080Z"
   },
   {
    "duration": 45,
    "start_time": "2023-01-13T19:20:12.097Z"
   },
   {
    "duration": 10,
    "start_time": "2023-01-13T19:20:12.144Z"
   },
   {
    "duration": 4,
    "start_time": "2023-01-13T19:20:12.156Z"
   },
   {
    "duration": 18,
    "start_time": "2023-01-13T19:20:12.180Z"
   },
   {
    "duration": 26,
    "start_time": "2023-01-13T19:20:12.201Z"
   },
   {
    "duration": 18,
    "start_time": "2023-01-13T19:20:12.229Z"
   },
   {
    "duration": 4,
    "start_time": "2023-01-13T19:20:12.249Z"
   },
   {
    "duration": 40,
    "start_time": "2023-01-13T19:20:12.256Z"
   },
   {
    "duration": 6,
    "start_time": "2023-01-13T19:20:12.298Z"
   },
   {
    "duration": 6,
    "start_time": "2023-01-13T19:20:12.305Z"
   },
   {
    "duration": 12,
    "start_time": "2023-01-13T19:20:12.313Z"
   },
   {
    "duration": 40,
    "start_time": "2023-01-13T19:20:12.326Z"
   },
   {
    "duration": 13,
    "start_time": "2023-01-13T19:20:12.368Z"
   },
   {
    "duration": 162,
    "start_time": "2023-01-13T19:20:12.383Z"
   },
   {
    "duration": 38,
    "start_time": "2023-01-13T19:20:12.547Z"
   },
   {
    "duration": 4,
    "start_time": "2023-01-13T19:20:12.592Z"
   },
   {
    "duration": 11,
    "start_time": "2023-01-13T19:20:12.598Z"
   },
   {
    "duration": 32,
    "start_time": "2023-01-13T19:20:12.611Z"
   },
   {
    "duration": 3,
    "start_time": "2023-01-13T19:20:12.645Z"
   },
   {
    "duration": 18,
    "start_time": "2023-01-13T19:20:12.650Z"
   },
   {
    "duration": 41,
    "start_time": "2023-01-13T19:20:12.670Z"
   },
   {
    "duration": 3,
    "start_time": "2023-01-13T19:20:12.714Z"
   },
   {
    "duration": 12,
    "start_time": "2023-01-13T19:20:12.719Z"
   },
   {
    "duration": 447,
    "start_time": "2023-01-13T20:10:43.336Z"
   },
   {
    "duration": 25,
    "start_time": "2023-01-13T20:10:43.786Z"
   },
   {
    "duration": 16,
    "start_time": "2023-01-13T20:10:43.812Z"
   },
   {
    "duration": 9,
    "start_time": "2023-01-13T20:10:43.830Z"
   },
   {
    "duration": 52,
    "start_time": "2023-01-13T20:10:43.840Z"
   },
   {
    "duration": 4,
    "start_time": "2023-01-13T20:10:43.894Z"
   },
   {
    "duration": 12,
    "start_time": "2023-01-13T20:10:43.900Z"
   },
   {
    "duration": 5,
    "start_time": "2023-01-13T20:10:43.913Z"
   },
   {
    "duration": 10,
    "start_time": "2023-01-13T20:10:43.919Z"
   },
   {
    "duration": 4,
    "start_time": "2023-01-13T20:10:43.933Z"
   },
   {
    "duration": 68,
    "start_time": "2023-01-13T20:10:43.939Z"
   },
   {
    "duration": 9,
    "start_time": "2023-01-13T20:10:44.009Z"
   },
   {
    "duration": 5,
    "start_time": "2023-01-13T20:10:44.020Z"
   },
   {
    "duration": 14,
    "start_time": "2023-01-13T20:10:44.027Z"
   },
   {
    "duration": 52,
    "start_time": "2023-01-13T20:10:44.043Z"
   },
   {
    "duration": 20,
    "start_time": "2023-01-13T20:10:44.097Z"
   },
   {
    "duration": 4,
    "start_time": "2023-01-13T20:10:44.118Z"
   },
   {
    "duration": 16,
    "start_time": "2023-01-13T20:10:44.124Z"
   },
   {
    "duration": 7,
    "start_time": "2023-01-13T20:10:44.142Z"
   },
   {
    "duration": 5,
    "start_time": "2023-01-13T20:10:44.150Z"
   },
   {
    "duration": 22,
    "start_time": "2023-01-13T20:10:44.157Z"
   },
   {
    "duration": 31,
    "start_time": "2023-01-13T20:10:44.184Z"
   },
   {
    "duration": 3,
    "start_time": "2023-01-13T20:10:44.217Z"
   },
   {
    "duration": 12,
    "start_time": "2023-01-13T20:10:44.222Z"
   },
   {
    "duration": 31,
    "start_time": "2023-01-13T20:10:44.236Z"
   },
   {
    "duration": 23,
    "start_time": "2023-01-13T20:10:44.268Z"
   },
   {
    "duration": 9,
    "start_time": "2023-01-13T20:10:44.294Z"
   },
   {
    "duration": 24,
    "start_time": "2023-01-13T20:10:44.307Z"
   },
   {
    "duration": 3,
    "start_time": "2023-01-13T20:10:44.333Z"
   },
   {
    "duration": 20,
    "start_time": "2023-01-13T20:10:44.337Z"
   },
   {
    "duration": 45,
    "start_time": "2023-01-13T20:10:44.359Z"
   },
   {
    "duration": 3,
    "start_time": "2023-01-13T20:10:44.406Z"
   },
   {
    "duration": 10,
    "start_time": "2023-01-13T20:10:44.411Z"
   },
   {
    "duration": 728,
    "start_time": "2023-06-01T17:55:03.661Z"
   },
   {
    "duration": 31,
    "start_time": "2023-06-01T17:55:04.391Z"
   },
   {
    "duration": 23,
    "start_time": "2023-06-01T17:55:04.424Z"
   },
   {
    "duration": 8,
    "start_time": "2023-06-01T17:55:04.448Z"
   },
   {
    "duration": 34,
    "start_time": "2023-06-01T17:55:04.458Z"
   },
   {
    "duration": 3,
    "start_time": "2023-06-01T17:55:04.493Z"
   },
   {
    "duration": 10,
    "start_time": "2023-06-01T17:55:04.498Z"
   },
   {
    "duration": 6,
    "start_time": "2023-06-01T17:55:04.509Z"
   },
   {
    "duration": 9,
    "start_time": "2023-06-01T17:55:04.516Z"
   },
   {
    "duration": 8,
    "start_time": "2023-06-01T17:55:04.526Z"
   },
   {
    "duration": 56,
    "start_time": "2023-06-01T17:55:04.536Z"
   },
   {
    "duration": 8,
    "start_time": "2023-06-01T17:55:04.594Z"
   },
   {
    "duration": 12,
    "start_time": "2023-06-01T17:55:04.603Z"
   },
   {
    "duration": 16,
    "start_time": "2023-06-01T17:55:04.618Z"
   },
   {
    "duration": 27,
    "start_time": "2023-06-01T17:55:04.635Z"
   },
   {
    "duration": 26,
    "start_time": "2023-06-01T17:55:04.664Z"
   },
   {
    "duration": 3,
    "start_time": "2023-06-01T17:55:04.691Z"
   },
   {
    "duration": 16,
    "start_time": "2023-06-01T17:55:04.696Z"
   },
   {
    "duration": 23,
    "start_time": "2023-06-01T17:55:04.714Z"
   },
   {
    "duration": 4,
    "start_time": "2023-06-01T17:55:04.739Z"
   },
   {
    "duration": 15,
    "start_time": "2023-06-01T17:55:04.744Z"
   },
   {
    "duration": 25,
    "start_time": "2023-06-01T17:55:04.761Z"
   },
   {
    "duration": 2,
    "start_time": "2023-06-01T17:55:04.787Z"
   },
   {
    "duration": 20,
    "start_time": "2023-06-01T17:55:04.791Z"
   },
   {
    "duration": 23,
    "start_time": "2023-06-01T17:55:04.812Z"
   },
   {
    "duration": 2,
    "start_time": "2023-06-01T17:55:04.837Z"
   },
   {
    "duration": 10,
    "start_time": "2023-06-01T17:55:04.840Z"
   },
   {
    "duration": 43,
    "start_time": "2023-06-01T17:55:04.850Z"
   },
   {
    "duration": 3,
    "start_time": "2023-06-01T17:55:04.894Z"
   },
   {
    "duration": 9,
    "start_time": "2023-06-01T17:55:04.898Z"
   },
   {
    "duration": 26,
    "start_time": "2023-06-01T17:55:04.909Z"
   },
   {
    "duration": 3,
    "start_time": "2023-06-01T17:55:04.936Z"
   },
   {
    "duration": 11,
    "start_time": "2023-06-01T17:55:04.940Z"
   },
   {
    "duration": 100,
    "start_time": "2023-06-01T17:55:16.261Z"
   },
   {
    "duration": 5461,
    "start_time": "2023-06-01T17:55:25.201Z"
   },
   {
    "duration": 3,
    "start_time": "2023-06-01T17:56:33.590Z"
   },
   {
    "duration": 460,
    "start_time": "2023-06-01T17:56:40.662Z"
   },
   {
    "duration": 339,
    "start_time": "2023-06-01T17:58:10.750Z"
   }
  ],
  "colab": {
   "name": "dpp_template_part2.ipynb",
   "provenance": []
  },
  "kernelspec": {
   "display_name": "Python 3 (ipykernel)",
   "language": "python",
   "name": "python3"
  },
  "language_info": {
   "codemirror_mode": {
    "name": "ipython",
    "version": 3
   },
   "file_extension": ".py",
   "mimetype": "text/x-python",
   "name": "python",
   "nbconvert_exporter": "python",
   "pygments_lexer": "ipython3",
   "version": "3.10.9"
  },
  "toc": {
   "base_numbering": 1,
   "nav_menu": {},
   "number_sections": true,
   "sideBar": true,
   "skip_h1_title": true,
   "title_cell": "Table of Contents",
   "title_sidebar": "Contents",
   "toc_cell": false,
   "toc_position": {},
   "toc_section_display": true,
   "toc_window_display": false
  }
 },
 "nbformat": 4,
 "nbformat_minor": 5
}
