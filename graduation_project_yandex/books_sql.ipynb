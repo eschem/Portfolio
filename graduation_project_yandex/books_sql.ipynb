{
 "cells": [
  {
   "cell_type": "markdown",
   "metadata": {},
   "source": [
    "# Финальный проект по SQL"
   ]
  },
  {
   "cell_type": "markdown",
   "metadata": {},
   "source": [
    "**Цель работы**: Проанализировать базу данных крупного сервиса для чтения книг по подписке"
   ]
  },
  {
   "cell_type": "markdown",
   "metadata": {},
   "source": [
    "**Основые задачи**:\n",
    "- Посчитать, сколько книг вышло после 1 января 2000 года;\n",
    "- Для каждой книги посчитать количество обзоров и среднюю оценку;\n",
    "- Определить издательство, которое выпустило наибольшее число книг толще 50 страниц;\n",
    "- Определить автора с самой высокой средней оценкой книг — учитывать только книги с 50 и более оценками;\n",
    "- Посчитать среднее количество обзоров от пользователей, которые поставили больше 48 оценок."
   ]
  },
  {
   "cell_type": "markdown",
   "metadata": {},
   "source": [
    "**Описание данных**: \n",
    "База данных с информацией о книгах, издательствах, авторах, а также пользовательские обзоры книг.\n",
    "\n",
    "Таблица **books** cодержит данные о книгах:\n",
    "\n",
    "- `book_id` — идентификатор книги;\n",
    "- `author_id` — идентификатор автора;\n",
    "- `title` — название книги;\n",
    "- `num_pages` — количество страниц;\n",
    "- `publication_date` — дата публикации книги;\n",
    "- `publisher_id` — идентификатор издателя.\n",
    "\n",
    "Таблица **authors** cодержит данные об авторах:\n",
    "\n",
    "- `author_id` — идентификатор автора;\n",
    "- `author` — имя автора.\n",
    "\n",
    "Таблица **publishers** cодержит данные об издательствах:\n",
    "\n",
    "- `publisher_id` — идентификатор издательства;\n",
    "- `publisher` — название издательства.\n",
    "\n",
    "Таблица **ratings** cодержит данные о пользовательских оценках книг:\n",
    "\n",
    "- `rating_id` — идентификатор оценки;\n",
    "- `book_id` — идентификатор книги;\n",
    "- `username` — имя пользователя, оставившего оценку;\n",
    "- `rating` — оценка книги.\n",
    "\n",
    "Таблица **reviews** cодержит данные о пользовательских обзорах:\n",
    "\n",
    "- `review_id` — идентификатор обзора;\n",
    "- `book_id` — идентификатор книги;\n",
    "- `username` — имя автора обзора;\n",
    "- `text` — текст обзора."
   ]
  },
  {
   "cell_type": "markdown",
   "metadata": {},
   "source": [
    "## Исследуем таблицы — выведем первые строки"
   ]
  },
  {
   "cell_type": "code",
   "execution_count": 1,
   "metadata": {},
   "outputs": [],
   "source": [
    "# Импортируем все необходимые библиотеки:\n",
    "import pandas as pd \n",
    "from sqlalchemy import text, create_engine "
   ]
  },
  {
   "cell_type": "code",
   "execution_count": 2,
   "metadata": {},
   "outputs": [],
   "source": [
    "# устанавливаем параметры\n",
    "db_config = {'user': 'praktikum_student', # имя пользователя\n",
    "             'pwd': 'Sdf4$2;d-d30pp', # пароль\n",
    "             'host': 'rc1b-wcoijxj3yxfsf3fs.mdb.yandexcloud.net',\n",
    "             'port': 6432, # порт подключения\n",
    "             'db': 'data-analyst-final-project-db'} # название базы данных\n",
    "connection_string = 'postgresql://{user}:{pwd}@{host}:{port}/{db}'.format(**db_config)\n",
    "\n",
    "# сохраняем коннектор\n",
    "engine = create_engine(connection_string, connect_args={'sslmode':'require'})\n",
    "\n",
    "con=engine.connect()"
   ]
  },
  {
   "cell_type": "code",
   "execution_count": 3,
   "metadata": {},
   "outputs": [
    {
     "data": {
      "text/html": [
       "<div>\n",
       "<style scoped>\n",
       "    .dataframe tbody tr th:only-of-type {\n",
       "        vertical-align: middle;\n",
       "    }\n",
       "\n",
       "    .dataframe tbody tr th {\n",
       "        vertical-align: top;\n",
       "    }\n",
       "\n",
       "    .dataframe thead th {\n",
       "        text-align: right;\n",
       "    }\n",
       "</style>\n",
       "<table border=\"1\" class=\"dataframe\">\n",
       "  <thead>\n",
       "    <tr style=\"text-align: right;\">\n",
       "      <th></th>\n",
       "      <th>book_id</th>\n",
       "      <th>author_id</th>\n",
       "      <th>title</th>\n",
       "      <th>num_pages</th>\n",
       "      <th>publication_date</th>\n",
       "      <th>publisher_id</th>\n",
       "    </tr>\n",
       "  </thead>\n",
       "  <tbody>\n",
       "    <tr>\n",
       "      <th>0</th>\n",
       "      <td>1</td>\n",
       "      <td>546</td>\n",
       "      <td>'Salem's Lot</td>\n",
       "      <td>594</td>\n",
       "      <td>2005-11-01</td>\n",
       "      <td>93</td>\n",
       "    </tr>\n",
       "    <tr>\n",
       "      <th>1</th>\n",
       "      <td>2</td>\n",
       "      <td>465</td>\n",
       "      <td>1 000 Places to See Before You Die</td>\n",
       "      <td>992</td>\n",
       "      <td>2003-05-22</td>\n",
       "      <td>336</td>\n",
       "    </tr>\n",
       "    <tr>\n",
       "      <th>2</th>\n",
       "      <td>3</td>\n",
       "      <td>407</td>\n",
       "      <td>13 Little Blue Envelopes (Little Blue Envelope...</td>\n",
       "      <td>322</td>\n",
       "      <td>2010-12-21</td>\n",
       "      <td>135</td>\n",
       "    </tr>\n",
       "    <tr>\n",
       "      <th>3</th>\n",
       "      <td>4</td>\n",
       "      <td>82</td>\n",
       "      <td>1491: New Revelations of the Americas Before C...</td>\n",
       "      <td>541</td>\n",
       "      <td>2006-10-10</td>\n",
       "      <td>309</td>\n",
       "    </tr>\n",
       "    <tr>\n",
       "      <th>4</th>\n",
       "      <td>5</td>\n",
       "      <td>125</td>\n",
       "      <td>1776</td>\n",
       "      <td>386</td>\n",
       "      <td>2006-07-04</td>\n",
       "      <td>268</td>\n",
       "    </tr>\n",
       "  </tbody>\n",
       "</table>\n",
       "</div>"
      ],
      "text/plain": [
       "   book_id  author_id                                              title  \\\n",
       "0        1        546                                       'Salem's Lot   \n",
       "1        2        465                 1 000 Places to See Before You Die   \n",
       "2        3        407  13 Little Blue Envelopes (Little Blue Envelope...   \n",
       "3        4         82  1491: New Revelations of the Americas Before C...   \n",
       "4        5        125                                               1776   \n",
       "\n",
       "   num_pages publication_date  publisher_id  \n",
       "0        594       2005-11-01            93  \n",
       "1        992       2003-05-22           336  \n",
       "2        322       2010-12-21           135  \n",
       "3        541       2006-10-10           309  \n",
       "4        386       2006-07-04           268  "
      ]
     },
     "execution_count": 3,
     "metadata": {},
     "output_type": "execute_result"
    }
   ],
   "source": [
    "# Выведем первые 5 строк таблицы books\n",
    "query = '''SELECT * FROM books LIMIT 5'''\n",
    "pd.io.sql.read_sql(sql=text(query), con = con)"
   ]
  },
  {
   "cell_type": "code",
   "execution_count": 4,
   "metadata": {},
   "outputs": [
    {
     "data": {
      "text/html": [
       "<div>\n",
       "<style scoped>\n",
       "    .dataframe tbody tr th:only-of-type {\n",
       "        vertical-align: middle;\n",
       "    }\n",
       "\n",
       "    .dataframe tbody tr th {\n",
       "        vertical-align: top;\n",
       "    }\n",
       "\n",
       "    .dataframe thead th {\n",
       "        text-align: right;\n",
       "    }\n",
       "</style>\n",
       "<table border=\"1\" class=\"dataframe\">\n",
       "  <thead>\n",
       "    <tr style=\"text-align: right;\">\n",
       "      <th></th>\n",
       "      <th>author_id</th>\n",
       "      <th>author</th>\n",
       "    </tr>\n",
       "  </thead>\n",
       "  <tbody>\n",
       "    <tr>\n",
       "      <th>0</th>\n",
       "      <td>1</td>\n",
       "      <td>A.S. Byatt</td>\n",
       "    </tr>\n",
       "    <tr>\n",
       "      <th>1</th>\n",
       "      <td>2</td>\n",
       "      <td>Aesop/Laura Harris/Laura Gibbs</td>\n",
       "    </tr>\n",
       "    <tr>\n",
       "      <th>2</th>\n",
       "      <td>3</td>\n",
       "      <td>Agatha Christie</td>\n",
       "    </tr>\n",
       "    <tr>\n",
       "      <th>3</th>\n",
       "      <td>4</td>\n",
       "      <td>Alan Brennert</td>\n",
       "    </tr>\n",
       "    <tr>\n",
       "      <th>4</th>\n",
       "      <td>5</td>\n",
       "      <td>Alan Moore/David   Lloyd</td>\n",
       "    </tr>\n",
       "  </tbody>\n",
       "</table>\n",
       "</div>"
      ],
      "text/plain": [
       "   author_id                          author\n",
       "0          1                      A.S. Byatt\n",
       "1          2  Aesop/Laura Harris/Laura Gibbs\n",
       "2          3                 Agatha Christie\n",
       "3          4                   Alan Brennert\n",
       "4          5        Alan Moore/David   Lloyd"
      ]
     },
     "execution_count": 4,
     "metadata": {},
     "output_type": "execute_result"
    }
   ],
   "source": [
    "# Выведем первые 5 строк таблицы authors\n",
    "query = '''SELECT * FROM authors LIMIT 5'''\n",
    "pd.io.sql.read_sql(sql=text(query), con = con)"
   ]
  },
  {
   "cell_type": "code",
   "execution_count": 5,
   "metadata": {},
   "outputs": [
    {
     "data": {
      "text/html": [
       "<div>\n",
       "<style scoped>\n",
       "    .dataframe tbody tr th:only-of-type {\n",
       "        vertical-align: middle;\n",
       "    }\n",
       "\n",
       "    .dataframe tbody tr th {\n",
       "        vertical-align: top;\n",
       "    }\n",
       "\n",
       "    .dataframe thead th {\n",
       "        text-align: right;\n",
       "    }\n",
       "</style>\n",
       "<table border=\"1\" class=\"dataframe\">\n",
       "  <thead>\n",
       "    <tr style=\"text-align: right;\">\n",
       "      <th></th>\n",
       "      <th>publisher_id</th>\n",
       "      <th>publisher</th>\n",
       "    </tr>\n",
       "  </thead>\n",
       "  <tbody>\n",
       "    <tr>\n",
       "      <th>0</th>\n",
       "      <td>1</td>\n",
       "      <td>Ace</td>\n",
       "    </tr>\n",
       "    <tr>\n",
       "      <th>1</th>\n",
       "      <td>2</td>\n",
       "      <td>Ace Book</td>\n",
       "    </tr>\n",
       "    <tr>\n",
       "      <th>2</th>\n",
       "      <td>3</td>\n",
       "      <td>Ace Books</td>\n",
       "    </tr>\n",
       "    <tr>\n",
       "      <th>3</th>\n",
       "      <td>4</td>\n",
       "      <td>Ace Hardcover</td>\n",
       "    </tr>\n",
       "    <tr>\n",
       "      <th>4</th>\n",
       "      <td>5</td>\n",
       "      <td>Addison Wesley Publishing Company</td>\n",
       "    </tr>\n",
       "  </tbody>\n",
       "</table>\n",
       "</div>"
      ],
      "text/plain": [
       "   publisher_id                          publisher\n",
       "0             1                                Ace\n",
       "1             2                           Ace Book\n",
       "2             3                          Ace Books\n",
       "3             4                      Ace Hardcover\n",
       "4             5  Addison Wesley Publishing Company"
      ]
     },
     "execution_count": 5,
     "metadata": {},
     "output_type": "execute_result"
    }
   ],
   "source": [
    "# Выведем первые 5 строк таблицы publishers\n",
    "query = '''SELECT * FROM publishers LIMIT 5'''\n",
    "pd.io.sql.read_sql(sql=text(query), con = con)"
   ]
  },
  {
   "cell_type": "code",
   "execution_count": 6,
   "metadata": {},
   "outputs": [
    {
     "data": {
      "text/html": [
       "<div>\n",
       "<style scoped>\n",
       "    .dataframe tbody tr th:only-of-type {\n",
       "        vertical-align: middle;\n",
       "    }\n",
       "\n",
       "    .dataframe tbody tr th {\n",
       "        vertical-align: top;\n",
       "    }\n",
       "\n",
       "    .dataframe thead th {\n",
       "        text-align: right;\n",
       "    }\n",
       "</style>\n",
       "<table border=\"1\" class=\"dataframe\">\n",
       "  <thead>\n",
       "    <tr style=\"text-align: right;\">\n",
       "      <th></th>\n",
       "      <th>rating_id</th>\n",
       "      <th>book_id</th>\n",
       "      <th>username</th>\n",
       "      <th>rating</th>\n",
       "    </tr>\n",
       "  </thead>\n",
       "  <tbody>\n",
       "    <tr>\n",
       "      <th>0</th>\n",
       "      <td>1</td>\n",
       "      <td>1</td>\n",
       "      <td>ryanfranco</td>\n",
       "      <td>4</td>\n",
       "    </tr>\n",
       "    <tr>\n",
       "      <th>1</th>\n",
       "      <td>2</td>\n",
       "      <td>1</td>\n",
       "      <td>grantpatricia</td>\n",
       "      <td>2</td>\n",
       "    </tr>\n",
       "    <tr>\n",
       "      <th>2</th>\n",
       "      <td>3</td>\n",
       "      <td>1</td>\n",
       "      <td>brandtandrea</td>\n",
       "      <td>5</td>\n",
       "    </tr>\n",
       "    <tr>\n",
       "      <th>3</th>\n",
       "      <td>4</td>\n",
       "      <td>2</td>\n",
       "      <td>lorichen</td>\n",
       "      <td>3</td>\n",
       "    </tr>\n",
       "    <tr>\n",
       "      <th>4</th>\n",
       "      <td>5</td>\n",
       "      <td>2</td>\n",
       "      <td>mariokeller</td>\n",
       "      <td>2</td>\n",
       "    </tr>\n",
       "  </tbody>\n",
       "</table>\n",
       "</div>"
      ],
      "text/plain": [
       "   rating_id  book_id       username  rating\n",
       "0          1        1     ryanfranco       4\n",
       "1          2        1  grantpatricia       2\n",
       "2          3        1   brandtandrea       5\n",
       "3          4        2       lorichen       3\n",
       "4          5        2    mariokeller       2"
      ]
     },
     "execution_count": 6,
     "metadata": {},
     "output_type": "execute_result"
    }
   ],
   "source": [
    "# Выведем первые 5 строк таблицы ratings\n",
    "query = '''SELECT * FROM ratings LIMIT 5'''\n",
    "pd.io.sql.read_sql(sql=text(query), con = con)"
   ]
  },
  {
   "cell_type": "code",
   "execution_count": 7,
   "metadata": {},
   "outputs": [
    {
     "data": {
      "text/html": [
       "<div>\n",
       "<style scoped>\n",
       "    .dataframe tbody tr th:only-of-type {\n",
       "        vertical-align: middle;\n",
       "    }\n",
       "\n",
       "    .dataframe tbody tr th {\n",
       "        vertical-align: top;\n",
       "    }\n",
       "\n",
       "    .dataframe thead th {\n",
       "        text-align: right;\n",
       "    }\n",
       "</style>\n",
       "<table border=\"1\" class=\"dataframe\">\n",
       "  <thead>\n",
       "    <tr style=\"text-align: right;\">\n",
       "      <th></th>\n",
       "      <th>review_id</th>\n",
       "      <th>book_id</th>\n",
       "      <th>username</th>\n",
       "      <th>text</th>\n",
       "    </tr>\n",
       "  </thead>\n",
       "  <tbody>\n",
       "    <tr>\n",
       "      <th>0</th>\n",
       "      <td>1</td>\n",
       "      <td>1</td>\n",
       "      <td>brandtandrea</td>\n",
       "      <td>Mention society tell send professor analysis. ...</td>\n",
       "    </tr>\n",
       "    <tr>\n",
       "      <th>1</th>\n",
       "      <td>2</td>\n",
       "      <td>1</td>\n",
       "      <td>ryanfranco</td>\n",
       "      <td>Foot glass pretty audience hit themselves. Amo...</td>\n",
       "    </tr>\n",
       "    <tr>\n",
       "      <th>2</th>\n",
       "      <td>3</td>\n",
       "      <td>2</td>\n",
       "      <td>lorichen</td>\n",
       "      <td>Listen treat keep worry. Miss husband tax but ...</td>\n",
       "    </tr>\n",
       "    <tr>\n",
       "      <th>3</th>\n",
       "      <td>4</td>\n",
       "      <td>3</td>\n",
       "      <td>johnsonamanda</td>\n",
       "      <td>Finally month interesting blue could nature cu...</td>\n",
       "    </tr>\n",
       "    <tr>\n",
       "      <th>4</th>\n",
       "      <td>5</td>\n",
       "      <td>3</td>\n",
       "      <td>scotttamara</td>\n",
       "      <td>Nation purpose heavy give wait song will. List...</td>\n",
       "    </tr>\n",
       "  </tbody>\n",
       "</table>\n",
       "</div>"
      ],
      "text/plain": [
       "   review_id  book_id       username  \\\n",
       "0          1        1   brandtandrea   \n",
       "1          2        1     ryanfranco   \n",
       "2          3        2       lorichen   \n",
       "3          4        3  johnsonamanda   \n",
       "4          5        3    scotttamara   \n",
       "\n",
       "                                                text  \n",
       "0  Mention society tell send professor analysis. ...  \n",
       "1  Foot glass pretty audience hit themselves. Amo...  \n",
       "2  Listen treat keep worry. Miss husband tax but ...  \n",
       "3  Finally month interesting blue could nature cu...  \n",
       "4  Nation purpose heavy give wait song will. List...  "
      ]
     },
     "execution_count": 7,
     "metadata": {},
     "output_type": "execute_result"
    }
   ],
   "source": [
    "# Выведем первые 5 строк таблицы reviews\n",
    "query = '''SELECT * FROM reviews LIMIT 5'''\n",
    "pd.io.sql.read_sql(sql=text(query), con = con)"
   ]
  },
  {
   "cell_type": "markdown",
   "metadata": {},
   "source": [
    "## Посчитаем, сколько книг вышло после 1 января 2000 года"
   ]
  },
  {
   "cell_type": "code",
   "execution_count": 8,
   "metadata": {},
   "outputs": [
    {
     "data": {
      "text/html": [
       "<div>\n",
       "<style scoped>\n",
       "    .dataframe tbody tr th:only-of-type {\n",
       "        vertical-align: middle;\n",
       "    }\n",
       "\n",
       "    .dataframe tbody tr th {\n",
       "        vertical-align: top;\n",
       "    }\n",
       "\n",
       "    .dataframe thead th {\n",
       "        text-align: right;\n",
       "    }\n",
       "</style>\n",
       "<table border=\"1\" class=\"dataframe\">\n",
       "  <thead>\n",
       "    <tr style=\"text-align: right;\">\n",
       "      <th></th>\n",
       "      <th>count_book</th>\n",
       "    </tr>\n",
       "  </thead>\n",
       "  <tbody>\n",
       "    <tr>\n",
       "      <th>0</th>\n",
       "      <td>819</td>\n",
       "    </tr>\n",
       "  </tbody>\n",
       "</table>\n",
       "</div>"
      ],
      "text/plain": [
       "   count_book\n",
       "0         819"
      ]
     },
     "execution_count": 8,
     "metadata": {},
     "output_type": "execute_result"
    }
   ],
   "source": [
    "query = '''SELECT COUNT(book_id) AS count_book \n",
    "           FROM books \n",
    "           WHERE publication_date > '2000-01-01'\n",
    "           '''\n",
    "pd.io.sql.read_sql(sql=text(query), con = con)"
   ]
  },
  {
   "cell_type": "markdown",
   "metadata": {},
   "source": [
    "После 1 января 2000 года вышло `819 книг`. "
   ]
  },
  {
   "cell_type": "markdown",
   "metadata": {},
   "source": [
    "## Для каждой книги посчитаем количество обзоров и среднюю оценку"
   ]
  },
  {
   "cell_type": "code",
   "execution_count": 9,
   "metadata": {},
   "outputs": [
    {
     "data": {
      "text/html": [
       "<div>\n",
       "<style scoped>\n",
       "    .dataframe tbody tr th:only-of-type {\n",
       "        vertical-align: middle;\n",
       "    }\n",
       "\n",
       "    .dataframe tbody tr th {\n",
       "        vertical-align: top;\n",
       "    }\n",
       "\n",
       "    .dataframe thead th {\n",
       "        text-align: right;\n",
       "    }\n",
       "</style>\n",
       "<table border=\"1\" class=\"dataframe\">\n",
       "  <thead>\n",
       "    <tr style=\"text-align: right;\">\n",
       "      <th></th>\n",
       "      <th>title</th>\n",
       "      <th>count_reviews</th>\n",
       "      <th>avg_rating</th>\n",
       "    </tr>\n",
       "  </thead>\n",
       "  <tbody>\n",
       "    <tr>\n",
       "      <th>0</th>\n",
       "      <td>'Salem's Lot</td>\n",
       "      <td>2</td>\n",
       "      <td>3.666667</td>\n",
       "    </tr>\n",
       "    <tr>\n",
       "      <th>1</th>\n",
       "      <td>1 000 Places to See Before You Die</td>\n",
       "      <td>1</td>\n",
       "      <td>2.500000</td>\n",
       "    </tr>\n",
       "    <tr>\n",
       "      <th>2</th>\n",
       "      <td>13 Little Blue Envelopes (Little Blue Envelope...</td>\n",
       "      <td>3</td>\n",
       "      <td>4.666667</td>\n",
       "    </tr>\n",
       "    <tr>\n",
       "      <th>3</th>\n",
       "      <td>1491: New Revelations of the Americas Before C...</td>\n",
       "      <td>2</td>\n",
       "      <td>4.500000</td>\n",
       "    </tr>\n",
       "    <tr>\n",
       "      <th>4</th>\n",
       "      <td>1776</td>\n",
       "      <td>4</td>\n",
       "      <td>4.000000</td>\n",
       "    </tr>\n",
       "    <tr>\n",
       "      <th>...</th>\n",
       "      <td>...</td>\n",
       "      <td>...</td>\n",
       "      <td>...</td>\n",
       "    </tr>\n",
       "    <tr>\n",
       "      <th>995</th>\n",
       "      <td>Wyrd Sisters (Discworld  #6; Witches #2)</td>\n",
       "      <td>3</td>\n",
       "      <td>3.666667</td>\n",
       "    </tr>\n",
       "    <tr>\n",
       "      <th>996</th>\n",
       "      <td>Xenocide (Ender's Saga  #3)</td>\n",
       "      <td>3</td>\n",
       "      <td>3.400000</td>\n",
       "    </tr>\n",
       "    <tr>\n",
       "      <th>997</th>\n",
       "      <td>Year of Wonders</td>\n",
       "      <td>4</td>\n",
       "      <td>3.200000</td>\n",
       "    </tr>\n",
       "    <tr>\n",
       "      <th>998</th>\n",
       "      <td>You Suck (A Love Story  #2)</td>\n",
       "      <td>2</td>\n",
       "      <td>4.500000</td>\n",
       "    </tr>\n",
       "    <tr>\n",
       "      <th>999</th>\n",
       "      <td>Zen and the Art of Motorcycle Maintenance: An ...</td>\n",
       "      <td>4</td>\n",
       "      <td>3.833333</td>\n",
       "    </tr>\n",
       "  </tbody>\n",
       "</table>\n",
       "<p>1000 rows × 3 columns</p>\n",
       "</div>"
      ],
      "text/plain": [
       "                                                 title  count_reviews  \\\n",
       "0                                         'Salem's Lot              2   \n",
       "1                   1 000 Places to See Before You Die              1   \n",
       "2    13 Little Blue Envelopes (Little Blue Envelope...              3   \n",
       "3    1491: New Revelations of the Americas Before C...              2   \n",
       "4                                                 1776              4   \n",
       "..                                                 ...            ...   \n",
       "995           Wyrd Sisters (Discworld  #6; Witches #2)              3   \n",
       "996                        Xenocide (Ender's Saga  #3)              3   \n",
       "997                                    Year of Wonders              4   \n",
       "998                        You Suck (A Love Story  #2)              2   \n",
       "999  Zen and the Art of Motorcycle Maintenance: An ...              4   \n",
       "\n",
       "     avg_rating  \n",
       "0      3.666667  \n",
       "1      2.500000  \n",
       "2      4.666667  \n",
       "3      4.500000  \n",
       "4      4.000000  \n",
       "..          ...  \n",
       "995    3.666667  \n",
       "996    3.400000  \n",
       "997    3.200000  \n",
       "998    4.500000  \n",
       "999    3.833333  \n",
       "\n",
       "[1000 rows x 3 columns]"
      ]
     },
     "execution_count": 9,
     "metadata": {},
     "output_type": "execute_result"
    }
   ],
   "source": [
    "query = '''SELECT b.title,\n",
    "                  COUNT(DISTINCT rw.review_id) AS count_reviews,\n",
    "                  AVG(r.rating) AS avg_rating\n",
    "           FROM books AS b \n",
    "           LEFT JOIN ratings AS r ON b.book_id = r.book_id\n",
    "           LEFT JOIN reviews AS rw ON b.book_id = rw.book_id\n",
    "           GROUP BY b.book_id\n",
    "           '''\n",
    "pd.io.sql.read_sql(sql=text(query), con = con)"
   ]
  },
  {
   "cell_type": "markdown",
   "metadata": {},
   "source": [
    "Для каждой книги посчитали количество обзоров и среднюю оценку."
   ]
  },
  {
   "cell_type": "markdown",
   "metadata": {},
   "source": [
    "## Определим издательство, которое выпустило наибольшее число книг толще 50 страниц"
   ]
  },
  {
   "cell_type": "code",
   "execution_count": 10,
   "metadata": {},
   "outputs": [
    {
     "data": {
      "text/html": [
       "<div>\n",
       "<style scoped>\n",
       "    .dataframe tbody tr th:only-of-type {\n",
       "        vertical-align: middle;\n",
       "    }\n",
       "\n",
       "    .dataframe tbody tr th {\n",
       "        vertical-align: top;\n",
       "    }\n",
       "\n",
       "    .dataframe thead th {\n",
       "        text-align: right;\n",
       "    }\n",
       "</style>\n",
       "<table border=\"1\" class=\"dataframe\">\n",
       "  <thead>\n",
       "    <tr style=\"text-align: right;\">\n",
       "      <th></th>\n",
       "      <th>publisher</th>\n",
       "      <th>count_book</th>\n",
       "    </tr>\n",
       "  </thead>\n",
       "  <tbody>\n",
       "    <tr>\n",
       "      <th>0</th>\n",
       "      <td>Penguin Books</td>\n",
       "      <td>42</td>\n",
       "    </tr>\n",
       "  </tbody>\n",
       "</table>\n",
       "</div>"
      ],
      "text/plain": [
       "       publisher  count_book\n",
       "0  Penguin Books          42"
      ]
     },
     "execution_count": 10,
     "metadata": {},
     "output_type": "execute_result"
    }
   ],
   "source": [
    "query = '''SELECT p.publisher,\n",
    "                  COUNT(b.book_id) as count_book\n",
    "           FROM publishers AS p  \n",
    "           LEFT JOIN books AS b ON p.publisher_id = b.publisher_id\n",
    "           WHERE num_pages > 50 \n",
    "           GROUP BY p.publisher\n",
    "           ORDER BY count_book DESC\n",
    "           LIMIT 1\n",
    "           '''\n",
    "pd.io.sql.read_sql(sql=text(query), con = con)"
   ]
  },
  {
   "cell_type": "markdown",
   "metadata": {},
   "source": [
    "Издательство `Penguin Books` выпустило больше всего книг толще 50 страниц (42 книги)."
   ]
  },
  {
   "cell_type": "markdown",
   "metadata": {},
   "source": [
    "## Определим автора с самой высокой средней оценкой книг — учитывать только книги с 50 и более оценками"
   ]
  },
  {
   "cell_type": "code",
   "execution_count": 11,
   "metadata": {},
   "outputs": [
    {
     "data": {
      "text/html": [
       "<div>\n",
       "<style scoped>\n",
       "    .dataframe tbody tr th:only-of-type {\n",
       "        vertical-align: middle;\n",
       "    }\n",
       "\n",
       "    .dataframe tbody tr th {\n",
       "        vertical-align: top;\n",
       "    }\n",
       "\n",
       "    .dataframe thead th {\n",
       "        text-align: right;\n",
       "    }\n",
       "</style>\n",
       "<table border=\"1\" class=\"dataframe\">\n",
       "  <thead>\n",
       "    <tr style=\"text-align: right;\">\n",
       "      <th></th>\n",
       "      <th>author</th>\n",
       "      <th>avg_rating_books</th>\n",
       "    </tr>\n",
       "  </thead>\n",
       "  <tbody>\n",
       "    <tr>\n",
       "      <th>0</th>\n",
       "      <td>J.K. Rowling/Mary GrandPré</td>\n",
       "      <td>4.283844</td>\n",
       "    </tr>\n",
       "  </tbody>\n",
       "</table>\n",
       "</div>"
      ],
      "text/plain": [
       "                       author  avg_rating_books\n",
       "0  J.K. Rowling/Mary GrandPré          4.283844"
      ]
     },
     "execution_count": 11,
     "metadata": {},
     "output_type": "execute_result"
    }
   ],
   "source": [
    "query = '''WITH rt AS (SELECT b.author_id,\n",
    "                             COUNT(rating_id) AS count_score,\n",
    "                             AVG(rating) AS avg_rating_book\n",
    "                      FROM books AS b\n",
    "                      LEFT JOIN ratings AS r ON b.book_id = r.book_id\n",
    "                      GROUP BY b.book_id)\n",
    "           SELECT a.author,\n",
    "                  AVG(rt.avg_rating_book) AS avg_rating_books\n",
    "           FROM authors AS a \n",
    "           LEFT JOIN rt ON a.author_id= rt.author_id\n",
    "           WHERE count_score >= 50 \n",
    "           GROUP BY a.author\n",
    "           ORDER BY avg_rating_books DESC\n",
    "           LIMIT 1\n",
    "           '''\n",
    "pd.io.sql.read_sql(sql=text(query), con = con)"
   ]
  },
  {
   "cell_type": "markdown",
   "metadata": {},
   "source": [
    "Автор с самой высокой средней оценкой книг с 50 и более оценками - `J.K. Rowling/Mary GrandPré`."
   ]
  },
  {
   "cell_type": "markdown",
   "metadata": {},
   "source": [
    "## Посчитаем среднее количество обзоров от пользователей, которые поставили больше 48 оценок"
   ]
  },
  {
   "cell_type": "code",
   "execution_count": 12,
   "metadata": {},
   "outputs": [
    {
     "data": {
      "text/html": [
       "<div>\n",
       "<style scoped>\n",
       "    .dataframe tbody tr th:only-of-type {\n",
       "        vertical-align: middle;\n",
       "    }\n",
       "\n",
       "    .dataframe tbody tr th {\n",
       "        vertical-align: top;\n",
       "    }\n",
       "\n",
       "    .dataframe thead th {\n",
       "        text-align: right;\n",
       "    }\n",
       "</style>\n",
       "<table border=\"1\" class=\"dataframe\">\n",
       "  <thead>\n",
       "    <tr style=\"text-align: right;\">\n",
       "      <th></th>\n",
       "      <th>avg_count_review</th>\n",
       "    </tr>\n",
       "  </thead>\n",
       "  <tbody>\n",
       "    <tr>\n",
       "      <th>0</th>\n",
       "      <td>24.0</td>\n",
       "    </tr>\n",
       "  </tbody>\n",
       "</table>\n",
       "</div>"
      ],
      "text/plain": [
       "   avg_count_review\n",
       "0              24.0"
      ]
     },
     "execution_count": 12,
     "metadata": {},
     "output_type": "execute_result"
    }
   ],
   "source": [
    "query = '''WITH rt AS (SELECT username,\n",
    "                              COUNT(rating_id) AS count_score\n",
    "                         FROM ratings\n",
    "                         GROUP BY username),\n",
    "                         \n",
    "                rv AS (SELECT username,\n",
    "                              COUNT(review_id) AS count_review\n",
    "                         FROM reviews\n",
    "                         GROUP BY username)\n",
    "           \n",
    "           SELECT AVG(rv.count_review) AS avg_count_review\n",
    "           FROM rt \n",
    "           INNER JOIN rv ON rt.username = rv.username\n",
    "           WHERE rt.count_score > 48\n",
    "        '''\n",
    "pd.io.sql.read_sql(sql=text(query), con = con)"
   ]
  },
  {
   "cell_type": "markdown",
   "metadata": {},
   "source": [
    "Среднее количество обзоров от пользователей, которые поставили более 48 оценок, равно `24`."
   ]
  },
  {
   "cell_type": "markdown",
   "metadata": {},
   "source": [
    "## Общий вывод"
   ]
  },
  {
   "cell_type": "markdown",
   "metadata": {},
   "source": [
    "Проанализировали базу данных крупного сервиса для чтения книг по подписке:\n",
    "- Посмотрели первые 5 строк каждой из 5-ти таблиц\n",
    "- Определили, что с 1 января 2000 года вышло `819 книг`\n",
    "- Для каждой книги рассчитали количество обзоров и среднюю оценку\n",
    "- Определили, что издательство  `Penguin Books` выпустило наибольшее число книг толще 50 страниц (42 книги)\n",
    "- Выделили автора с самой высокой средней оценкой книг с 50 и более оценками - `J.K. Rowling/Mary GrandPré`\n",
    "- Нашли среднее количество обзоров от пользователей, которые поставили больше 48 оценок - `24 обзора`. \n",
    "\n",
    "Полученные данные могут помочь сформулировать ценностное предложение для нового продукта.\n"
   ]
  }
 ],
 "metadata": {
  "ExecuteTimeLog": [
   {
    "duration": 92,
    "start_time": "2023-06-27T22:43:17.311Z"
   },
   {
    "duration": 446,
    "start_time": "2023-06-27T22:43:46.133Z"
   },
   {
    "duration": 7188,
    "start_time": "2023-06-27T22:46:13.028Z"
   },
   {
    "duration": 53,
    "start_time": "2023-06-27T22:47:02.499Z"
   },
   {
    "duration": 32,
    "start_time": "2023-06-27T22:47:47.617Z"
   },
   {
    "duration": 2,
    "start_time": "2023-06-27T22:48:23.903Z"
   },
   {
    "duration": 30,
    "start_time": "2023-06-27T22:48:31.810Z"
   },
   {
    "duration": 30,
    "start_time": "2023-06-27T22:48:52.107Z"
   },
   {
    "duration": 31,
    "start_time": "2023-06-27T22:48:56.211Z"
   },
   {
    "duration": 32,
    "start_time": "2023-06-27T22:49:20.414Z"
   },
   {
    "duration": 32,
    "start_time": "2023-06-27T22:49:35.563Z"
   },
   {
    "duration": 114,
    "start_time": "2023-06-27T23:21:19.608Z"
   },
   {
    "duration": 176,
    "start_time": "2023-06-27T23:21:33.217Z"
   },
   {
    "duration": 41,
    "start_time": "2023-06-27T23:21:43.818Z"
   },
   {
    "duration": 540,
    "start_time": "2023-06-28T18:39:17.950Z"
   },
   {
    "duration": 13566,
    "start_time": "2023-06-28T18:39:18.492Z"
   },
   {
    "duration": 64,
    "start_time": "2023-06-28T18:39:32.061Z"
   },
   {
    "duration": 55,
    "start_time": "2023-06-28T18:39:32.126Z"
   },
   {
    "duration": 53,
    "start_time": "2023-06-28T18:39:32.184Z"
   },
   {
    "duration": 41,
    "start_time": "2023-06-28T18:39:32.243Z"
   },
   {
    "duration": 52,
    "start_time": "2023-06-28T18:39:32.286Z"
   },
   {
    "duration": 44,
    "start_time": "2023-06-28T18:39:32.341Z"
   },
   {
    "duration": 233,
    "start_time": "2023-06-28T18:39:32.387Z"
   },
   {
    "duration": 99,
    "start_time": "2023-06-28T18:41:04.590Z"
   },
   {
    "duration": 120,
    "start_time": "2023-06-28T18:41:08.530Z"
   },
   {
    "duration": 75,
    "start_time": "2023-06-28T18:41:22.989Z"
   },
   {
    "duration": 87,
    "start_time": "2023-06-28T18:41:54.585Z"
   },
   {
    "duration": 72,
    "start_time": "2023-06-28T18:42:06.456Z"
   },
   {
    "duration": 86,
    "start_time": "2023-06-28T18:42:27.043Z"
   },
   {
    "duration": 42,
    "start_time": "2023-06-28T18:42:30.150Z"
   },
   {
    "duration": 57,
    "start_time": "2023-06-28T18:43:11.273Z"
   },
   {
    "duration": 87,
    "start_time": "2023-06-28T18:44:51.224Z"
   },
   {
    "duration": 93,
    "start_time": "2023-06-28T18:46:10.271Z"
   },
   {
    "duration": 81,
    "start_time": "2023-06-28T18:46:49.437Z"
   },
   {
    "duration": 108,
    "start_time": "2023-06-28T18:47:13.083Z"
   },
   {
    "duration": 98,
    "start_time": "2023-06-28T18:47:27.999Z"
   },
   {
    "duration": 83,
    "start_time": "2023-06-28T18:47:55.432Z"
   },
   {
    "duration": 103,
    "start_time": "2023-06-28T18:48:11.968Z"
   },
   {
    "duration": 86,
    "start_time": "2023-06-28T18:48:32.525Z"
   },
   {
    "duration": 95,
    "start_time": "2023-06-28T18:49:29.987Z"
   },
   {
    "duration": 91,
    "start_time": "2023-06-28T18:49:40.785Z"
   },
   {
    "duration": 101,
    "start_time": "2023-06-28T18:50:02.650Z"
   },
   {
    "duration": 82,
    "start_time": "2023-06-28T18:50:10.139Z"
   },
   {
    "duration": 92,
    "start_time": "2023-06-28T18:51:08.398Z"
   },
   {
    "duration": 77,
    "start_time": "2023-06-28T18:59:39.694Z"
   },
   {
    "duration": 64,
    "start_time": "2023-06-28T18:59:46.333Z"
   },
   {
    "duration": 48,
    "start_time": "2023-06-28T19:00:12.221Z"
   },
   {
    "duration": 32,
    "start_time": "2023-06-28T19:01:21.853Z"
   },
   {
    "duration": 38,
    "start_time": "2023-06-28T19:01:43.735Z"
   },
   {
    "duration": 68,
    "start_time": "2023-06-28T19:08:47.024Z"
   },
   {
    "duration": 61,
    "start_time": "2023-06-28T19:08:51.975Z"
   },
   {
    "duration": 111,
    "start_time": "2023-06-28T19:23:08.988Z"
   },
   {
    "duration": 67,
    "start_time": "2023-06-28T19:28:36.323Z"
   },
   {
    "duration": 81,
    "start_time": "2023-06-28T19:28:50.118Z"
   },
   {
    "duration": 67,
    "start_time": "2023-06-28T19:30:05.427Z"
   },
   {
    "duration": 71,
    "start_time": "2023-06-28T19:30:33.658Z"
   },
   {
    "duration": 65,
    "start_time": "2023-06-28T19:31:14.025Z"
   },
   {
    "duration": 50,
    "start_time": "2023-06-28T19:31:34.821Z"
   },
   {
    "duration": 131,
    "start_time": "2023-06-28T19:39:38.528Z"
   },
   {
    "duration": 82,
    "start_time": "2023-06-28T19:39:57.146Z"
   },
   {
    "duration": 73,
    "start_time": "2023-06-28T19:42:29.124Z"
   },
   {
    "duration": 94,
    "start_time": "2023-06-28T19:42:35.196Z"
   },
   {
    "duration": 85,
    "start_time": "2023-06-28T19:43:39.651Z"
   },
   {
    "duration": 70,
    "start_time": "2023-06-28T19:54:29.322Z"
   },
   {
    "duration": 91,
    "start_time": "2023-06-28T19:54:35.802Z"
   },
   {
    "duration": 33,
    "start_time": "2023-06-28T19:57:08.740Z"
   },
   {
    "duration": 46,
    "start_time": "2023-06-28T19:57:45.596Z"
   },
   {
    "duration": 56,
    "start_time": "2023-06-28T19:57:51.593Z"
   },
   {
    "duration": 38,
    "start_time": "2023-06-28T19:59:05.327Z"
   },
   {
    "duration": 3,
    "start_time": "2023-06-28T20:00:49.993Z"
   },
   {
    "duration": 52,
    "start_time": "2023-06-28T20:00:59.347Z"
   },
   {
    "duration": 72,
    "start_time": "2023-06-28T20:01:17.221Z"
   },
   {
    "duration": 89,
    "start_time": "2023-06-28T20:01:50.667Z"
   },
   {
    "duration": 91,
    "start_time": "2023-06-28T20:02:31.364Z"
   },
   {
    "duration": 66,
    "start_time": "2023-06-28T20:03:50.492Z"
   },
   {
    "duration": 39,
    "start_time": "2023-06-28T20:19:00.030Z"
   },
   {
    "duration": 62,
    "start_time": "2023-06-28T20:33:41.224Z"
   },
   {
    "duration": 81,
    "start_time": "2023-06-28T20:34:00.542Z"
   },
   {
    "duration": 88,
    "start_time": "2023-06-28T20:34:23.953Z"
   },
   {
    "duration": 86,
    "start_time": "2023-06-28T20:34:38.252Z"
   },
   {
    "duration": 83,
    "start_time": "2023-06-28T20:34:52.213Z"
   },
   {
    "duration": 52,
    "start_time": "2023-06-28T20:35:09.430Z"
   },
   {
    "duration": 35,
    "start_time": "2023-06-28T20:36:03.557Z"
   },
   {
    "duration": 51,
    "start_time": "2023-06-28T20:36:13.985Z"
   },
   {
    "duration": 43,
    "start_time": "2023-06-28T20:36:26.583Z"
   },
   {
    "duration": 70,
    "start_time": "2023-06-28T20:39:01.328Z"
   },
   {
    "duration": 70,
    "start_time": "2023-06-28T20:39:12.630Z"
   },
   {
    "duration": 66,
    "start_time": "2023-06-28T20:39:59.442Z"
   },
   {
    "duration": 90,
    "start_time": "2023-06-28T20:40:57.303Z"
   },
   {
    "duration": 73,
    "start_time": "2023-06-28T20:41:35.516Z"
   },
   {
    "duration": 88,
    "start_time": "2023-06-28T20:43:24.754Z"
   },
   {
    "duration": 88,
    "start_time": "2023-06-28T20:43:31.112Z"
   },
   {
    "duration": 86,
    "start_time": "2023-06-28T20:43:38.254Z"
   },
   {
    "duration": 35,
    "start_time": "2023-06-28T20:54:35.746Z"
   },
   {
    "duration": 60,
    "start_time": "2023-06-28T20:54:41.803Z"
   },
   {
    "duration": 59,
    "start_time": "2023-06-28T20:55:15.722Z"
   },
   {
    "duration": 59,
    "start_time": "2023-06-28T20:55:21.820Z"
   },
   {
    "duration": 53,
    "start_time": "2023-06-28T20:56:58.082Z"
   },
   {
    "duration": 45,
    "start_time": "2023-06-28T20:57:25.128Z"
   },
   {
    "duration": 45,
    "start_time": "2023-06-28T21:00:18.374Z"
   },
   {
    "duration": 51,
    "start_time": "2023-06-28T21:06:33.120Z"
   },
   {
    "duration": 41,
    "start_time": "2023-06-28T21:06:40.828Z"
   },
   {
    "duration": 34,
    "start_time": "2023-06-28T21:06:49.849Z"
   },
   {
    "duration": 43,
    "start_time": "2023-06-28T21:09:43.418Z"
   },
   {
    "duration": 38,
    "start_time": "2023-06-28T21:10:11.325Z"
   },
   {
    "duration": 50,
    "start_time": "2023-06-28T21:11:55.338Z"
   },
   {
    "duration": 60,
    "start_time": "2023-06-28T21:12:12.190Z"
   },
   {
    "duration": 35,
    "start_time": "2023-06-28T21:12:35.738Z"
   },
   {
    "duration": 35,
    "start_time": "2023-06-28T21:12:40.237Z"
   },
   {
    "duration": 51,
    "start_time": "2023-06-28T21:12:56.397Z"
   },
   {
    "duration": 41,
    "start_time": "2023-06-28T21:13:37.929Z"
   },
   {
    "duration": 39,
    "start_time": "2023-06-28T21:13:43.033Z"
   },
   {
    "duration": 35,
    "start_time": "2023-06-28T21:15:30.366Z"
   },
   {
    "duration": 41,
    "start_time": "2023-06-28T21:15:35.638Z"
   },
   {
    "duration": 52,
    "start_time": "2023-06-28T21:19:07.028Z"
   },
   {
    "duration": 53,
    "start_time": "2023-06-28T21:19:51.508Z"
   },
   {
    "duration": 598,
    "start_time": "2023-06-28T21:20:14.890Z"
   },
   {
    "duration": 11693,
    "start_time": "2023-06-28T21:20:15.490Z"
   },
   {
    "duration": 75,
    "start_time": "2023-06-28T21:20:27.186Z"
   },
   {
    "duration": 32,
    "start_time": "2023-06-28T21:20:27.263Z"
   },
   {
    "duration": 57,
    "start_time": "2023-06-28T21:20:27.296Z"
   },
   {
    "duration": 32,
    "start_time": "2023-06-28T21:20:27.354Z"
   },
   {
    "duration": 56,
    "start_time": "2023-06-28T21:20:27.388Z"
   },
   {
    "duration": 31,
    "start_time": "2023-06-28T21:20:27.446Z"
   },
   {
    "duration": 93,
    "start_time": "2023-06-28T21:20:27.479Z"
   },
   {
    "duration": 71,
    "start_time": "2023-06-28T21:20:27.575Z"
   },
   {
    "duration": 37,
    "start_time": "2023-06-28T21:20:27.648Z"
   },
   {
    "duration": 60,
    "start_time": "2023-06-28T21:20:27.687Z"
   },
   {
    "duration": 564,
    "start_time": "2023-06-28T21:24:54.558Z"
   },
   {
    "duration": 17675,
    "start_time": "2023-06-28T21:24:55.130Z"
   },
   {
    "duration": 71,
    "start_time": "2023-06-28T21:25:12.806Z"
   },
   {
    "duration": 37,
    "start_time": "2023-06-28T21:25:12.880Z"
   },
   {
    "duration": 45,
    "start_time": "2023-06-28T21:25:12.920Z"
   },
   {
    "duration": 31,
    "start_time": "2023-06-28T21:25:12.967Z"
   },
   {
    "duration": 48,
    "start_time": "2023-06-28T21:25:13.000Z"
   },
   {
    "duration": 30,
    "start_time": "2023-06-28T21:25:13.050Z"
   },
   {
    "duration": 89,
    "start_time": "2023-06-28T21:25:13.082Z"
   },
   {
    "duration": 66,
    "start_time": "2023-06-28T21:25:13.173Z"
   },
   {
    "duration": 36,
    "start_time": "2023-06-28T21:25:13.242Z"
   },
   {
    "duration": 61,
    "start_time": "2023-06-28T21:25:13.280Z"
   },
   {
    "duration": 458,
    "start_time": "2023-06-29T17:48:24.790Z"
   },
   {
    "duration": 25492,
    "start_time": "2023-06-29T17:48:25.250Z"
   },
   {
    "duration": 49,
    "start_time": "2023-06-29T17:48:50.744Z"
   },
   {
    "duration": 29,
    "start_time": "2023-06-29T17:48:50.795Z"
   },
   {
    "duration": 29,
    "start_time": "2023-06-29T17:48:50.826Z"
   },
   {
    "duration": 30,
    "start_time": "2023-06-29T17:48:50.856Z"
   },
   {
    "duration": 76,
    "start_time": "2023-06-29T17:48:50.887Z"
   },
   {
    "duration": 28,
    "start_time": "2023-06-29T17:48:50.964Z"
   },
   {
    "duration": 60,
    "start_time": "2023-06-29T17:48:50.994Z"
   },
   {
    "duration": 30,
    "start_time": "2023-06-29T17:48:51.055Z"
   },
   {
    "duration": 33,
    "start_time": "2023-06-29T17:48:51.087Z"
   },
   {
    "duration": 32,
    "start_time": "2023-06-29T17:48:51.121Z"
   }
  ],
  "kernelspec": {
   "display_name": "Python 3 (ipykernel)",
   "language": "python",
   "name": "python3"
  },
  "language_info": {
   "codemirror_mode": {
    "name": "ipython",
    "version": 3
   },
   "file_extension": ".py",
   "mimetype": "text/x-python",
   "name": "python",
   "nbconvert_exporter": "python",
   "pygments_lexer": "ipython3",
   "version": "3.10.9"
  },
  "toc": {
   "base_numbering": 1,
   "nav_menu": {},
   "number_sections": true,
   "sideBar": true,
   "skip_h1_title": true,
   "title_cell": "Table of Contents",
   "title_sidebar": "Contents",
   "toc_cell": false,
   "toc_position": {},
   "toc_section_display": true,
   "toc_window_display": false
  }
 },
 "nbformat": 4,
 "nbformat_minor": 2
}
