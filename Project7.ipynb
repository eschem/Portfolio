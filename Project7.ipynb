{
 "cells": [
  {
   "cell_type": "markdown",
   "metadata": {},
   "source": [
    "# Проверка гипотез по увеличению выручки в интернет-магазине "
   ]
  },
  {
   "cell_type": "markdown",
   "metadata": {},
   "source": [
    "**Цель работы**:  Приоритизировать гипотезы для увеличения выручки крупного интернет-магазина, запустить A/B-тест и проанализировать полученные результаты."
   ]
  },
  {
   "cell_type": "markdown",
   "metadata": {},
   "source": [
    "**Основные задачи**:\n",
    "\n",
    "1. Применить фреймворки ICE и RICE для приоритизации гипотез; \n",
    "\n",
    "\n",
    "2. Проанализировать A/B-тест:\n",
    "- построить график кумулятивной выручки по группам;\n",
    "- построить график кумулятивного среднего чека по группам;\n",
    "- построить график относительного изменения кумулятивного среднего чека группы B к группе A;\n",
    "- построить график кумулятивного среднего количества заказов на посетителя по группам;\n",
    "- построить график относительного изменения кумулятивного среднего количества заказов на посетителя группы B к группе A;\n",
    "- построить точечный график количества заказов по пользователям;\n",
    "- выбрать границу для определения аномальных пользователей;\n",
    "- построить точечный график стоимостей заказов;\n",
    "- выбрать границу для определения аномальных заказов;\n",
    "- посчитать статистическую значимость различий в среднем количестве заказов на посетителя между группами по «сырым» данным;\n",
    "- посчитать статистическую значимость различий в среднем чеке заказа между группами по «сырым» данным;\n",
    "- посчитать статистическую значимость различий в среднем количестве заказов на посетителя между группами по «очищенным» данным;\n",
    "- посчитать статистическую значимость различий в среднем чеке заказа между группами по «очищенным» данным;\n",
    "- принять решение по результатам теста.\n"
   ]
  },
  {
   "cell_type": "markdown",
   "metadata": {},
   "source": [
    "Данные 9 гипотез по увеличению выручки интернет-магазина хранятся в файле **/datasets/hypothesis.csv**, где: \n",
    "- **Hypothesis** — краткое описание гипотезы;\n",
    "- **Reach** — охват пользователей по 10-балльной шкале;\n",
    "- **Impact** — влияние на пользователей по 10-балльной шкале;\n",
    "- **Confidence** — уверенность в гипотезе по 10-балльной шкале;\n",
    "- **Efforts** — затраты ресурсов на проверку гипотезы по 10-балльной шкале. Чем больше значение Efforts, тем дороже проверка гипотезы."
   ]
  },
  {
   "cell_type": "markdown",
   "metadata": {},
   "source": [
    "Результаты A/B-тест описаны в файлах **/datasets/orders.csv** и **/datasets/visitors.csv**.\n",
    "\n",
    "Файл **/datasets/orders.csv**:\n",
    "\n",
    "- **transactionId** — идентификатор заказа;\n",
    "- **visitorId** — идентификатор пользователя, совершившего заказ;\n",
    "- **date** — дата, когда был совершён заказ;\n",
    "- **revenue** — выручка заказа;\n",
    "- **group** — группа A/B-теста, в которую попал заказ.\n",
    "\n",
    "Файл **/datasets/visitors.csv**:\n",
    "\n",
    "- **date** — дата;\n",
    "- **group** — группа A/B-теста;\n",
    "- **visitors** — количество пользователей в указанную дату в указанной группе A/B-теста"
   ]
  },
  {
   "cell_type": "markdown",
   "metadata": {},
   "source": [
    "## Загрузка данных и подготовка их к анализу"
   ]
  },
  {
   "cell_type": "markdown",
   "metadata": {},
   "source": [
    "### Загрузим данные из файлов в датафрейм"
   ]
  },
  {
   "cell_type": "code",
   "execution_count": 1,
   "metadata": {},
   "outputs": [],
   "source": [
    "# Импортируем все необходимые библиотеки:\n",
    "import pandas as pd\n",
    "import scipy.stats as stats\n",
    "import numpy as np\n",
    "import datetime as dt\n",
    "import matplotlib.pyplot as plt\n",
    "\n",
    "# Вводим конфигурацию,улучшающую четкость картинок во всем проекте:\n",
    "%config InlineBackend.figure_format = 'retina'"
   ]
  },
  {
   "cell_type": "markdown",
   "metadata": {},
   "source": [
    "Загрузим данные о гипотезах, заказах и посетитиелях из CSV-файлов в переменные."
   ]
  },
  {
   "cell_type": "code",
   "execution_count": 2,
   "metadata": {},
   "outputs": [],
   "source": [
    "# Считываем данные из csv-файлов в датафреймы:\n",
    "hypothesis = pd.read_csv('/datasets/hypothesis.csv')\n",
    "orders = pd.read_csv('/datasets/orders.csv') \n",
    "visitors = pd.read_csv('/datasets/visitors.csv')"
   ]
  },
  {
   "cell_type": "code",
   "execution_count": 3,
   "metadata": {},
   "outputs": [
    {
     "data": {
      "text/html": [
       "<div>\n",
       "<style scoped>\n",
       "    .dataframe tbody tr th:only-of-type {\n",
       "        vertical-align: middle;\n",
       "    }\n",
       "\n",
       "    .dataframe tbody tr th {\n",
       "        vertical-align: top;\n",
       "    }\n",
       "\n",
       "    .dataframe thead th {\n",
       "        text-align: right;\n",
       "    }\n",
       "</style>\n",
       "<table border=\"1\" class=\"dataframe\">\n",
       "  <thead>\n",
       "    <tr style=\"text-align: right;\">\n",
       "      <th></th>\n",
       "      <th>Hypothesis</th>\n",
       "      <th>Reach</th>\n",
       "      <th>Impact</th>\n",
       "      <th>Confidence</th>\n",
       "      <th>Efforts</th>\n",
       "    </tr>\n",
       "  </thead>\n",
       "  <tbody>\n",
       "    <tr>\n",
       "      <th>0</th>\n",
       "      <td>Добавить два новых канала привлечения трафика, что позволит привлекать на 30% больше пользователей</td>\n",
       "      <td>3</td>\n",
       "      <td>10</td>\n",
       "      <td>8</td>\n",
       "      <td>6</td>\n",
       "    </tr>\n",
       "    <tr>\n",
       "      <th>1</th>\n",
       "      <td>Запустить собственную службу доставки, что сократит срок доставки заказов</td>\n",
       "      <td>2</td>\n",
       "      <td>5</td>\n",
       "      <td>4</td>\n",
       "      <td>10</td>\n",
       "    </tr>\n",
       "    <tr>\n",
       "      <th>2</th>\n",
       "      <td>Добавить блоки рекомендаций товаров на сайт интернет магазина, чтобы повысить конверсию и средний чек заказа</td>\n",
       "      <td>8</td>\n",
       "      <td>3</td>\n",
       "      <td>7</td>\n",
       "      <td>3</td>\n",
       "    </tr>\n",
       "    <tr>\n",
       "      <th>3</th>\n",
       "      <td>Изменить структура категорий, что увеличит конверсию, т.к. пользователи быстрее найдут нужный товар</td>\n",
       "      <td>8</td>\n",
       "      <td>3</td>\n",
       "      <td>3</td>\n",
       "      <td>8</td>\n",
       "    </tr>\n",
       "    <tr>\n",
       "      <th>4</th>\n",
       "      <td>Изменить цвет фона главной страницы, чтобы увеличить вовлеченность пользователей</td>\n",
       "      <td>3</td>\n",
       "      <td>1</td>\n",
       "      <td>1</td>\n",
       "      <td>1</td>\n",
       "    </tr>\n",
       "    <tr>\n",
       "      <th>5</th>\n",
       "      <td>Добавить страницу отзывов клиентов о магазине, что позволит увеличить количество заказов</td>\n",
       "      <td>3</td>\n",
       "      <td>2</td>\n",
       "      <td>2</td>\n",
       "      <td>3</td>\n",
       "    </tr>\n",
       "    <tr>\n",
       "      <th>6</th>\n",
       "      <td>Показать на главной странице баннеры с актуальными акциями и распродажами, чтобы увеличить конверсию</td>\n",
       "      <td>5</td>\n",
       "      <td>3</td>\n",
       "      <td>8</td>\n",
       "      <td>3</td>\n",
       "    </tr>\n",
       "    <tr>\n",
       "      <th>7</th>\n",
       "      <td>Добавить форму подписки на все основные страницы, чтобы собрать базу клиентов для email-рассылок</td>\n",
       "      <td>10</td>\n",
       "      <td>7</td>\n",
       "      <td>8</td>\n",
       "      <td>5</td>\n",
       "    </tr>\n",
       "    <tr>\n",
       "      <th>8</th>\n",
       "      <td>Запустить акцию, дающую скидку на товар в день рождения</td>\n",
       "      <td>1</td>\n",
       "      <td>9</td>\n",
       "      <td>9</td>\n",
       "      <td>5</td>\n",
       "    </tr>\n",
       "  </tbody>\n",
       "</table>\n",
       "</div>"
      ],
      "text/plain": [
       "                                                                                                     Hypothesis  \\\n",
       "0            Добавить два новых канала привлечения трафика, что позволит привлекать на 30% больше пользователей   \n",
       "1                                     Запустить собственную службу доставки, что сократит срок доставки заказов   \n",
       "2  Добавить блоки рекомендаций товаров на сайт интернет магазина, чтобы повысить конверсию и средний чек заказа   \n",
       "3           Изменить структура категорий, что увеличит конверсию, т.к. пользователи быстрее найдут нужный товар   \n",
       "4                              Изменить цвет фона главной страницы, чтобы увеличить вовлеченность пользователей   \n",
       "5                      Добавить страницу отзывов клиентов о магазине, что позволит увеличить количество заказов   \n",
       "6          Показать на главной странице баннеры с актуальными акциями и распродажами, чтобы увеличить конверсию   \n",
       "7              Добавить форму подписки на все основные страницы, чтобы собрать базу клиентов для email-рассылок   \n",
       "8                                                       Запустить акцию, дающую скидку на товар в день рождения   \n",
       "\n",
       "   Reach  Impact  Confidence  Efforts  \n",
       "0      3      10           8        6  \n",
       "1      2       5           4       10  \n",
       "2      8       3           7        3  \n",
       "3      8       3           3        8  \n",
       "4      3       1           1        1  \n",
       "5      3       2           2        3  \n",
       "6      5       3           8        3  \n",
       "7     10       7           8        5  \n",
       "8      1       9           9        5  "
      ]
     },
     "metadata": {},
     "output_type": "display_data"
    },
    {
     "data": {
      "text/html": [
       "<div>\n",
       "<style scoped>\n",
       "    .dataframe tbody tr th:only-of-type {\n",
       "        vertical-align: middle;\n",
       "    }\n",
       "\n",
       "    .dataframe tbody tr th {\n",
       "        vertical-align: top;\n",
       "    }\n",
       "\n",
       "    .dataframe thead th {\n",
       "        text-align: right;\n",
       "    }\n",
       "</style>\n",
       "<table border=\"1\" class=\"dataframe\">\n",
       "  <thead>\n",
       "    <tr style=\"text-align: right;\">\n",
       "      <th></th>\n",
       "      <th>transactionId</th>\n",
       "      <th>visitorId</th>\n",
       "      <th>date</th>\n",
       "      <th>revenue</th>\n",
       "      <th>group</th>\n",
       "    </tr>\n",
       "  </thead>\n",
       "  <tbody>\n",
       "    <tr>\n",
       "      <th>0</th>\n",
       "      <td>3667963787</td>\n",
       "      <td>3312258926</td>\n",
       "      <td>2019-08-15</td>\n",
       "      <td>1650</td>\n",
       "      <td>B</td>\n",
       "    </tr>\n",
       "    <tr>\n",
       "      <th>1</th>\n",
       "      <td>2804400009</td>\n",
       "      <td>3642806036</td>\n",
       "      <td>2019-08-15</td>\n",
       "      <td>730</td>\n",
       "      <td>B</td>\n",
       "    </tr>\n",
       "    <tr>\n",
       "      <th>2</th>\n",
       "      <td>2961555356</td>\n",
       "      <td>4069496402</td>\n",
       "      <td>2019-08-15</td>\n",
       "      <td>400</td>\n",
       "      <td>A</td>\n",
       "    </tr>\n",
       "    <tr>\n",
       "      <th>3</th>\n",
       "      <td>3797467345</td>\n",
       "      <td>1196621759</td>\n",
       "      <td>2019-08-15</td>\n",
       "      <td>9759</td>\n",
       "      <td>B</td>\n",
       "    </tr>\n",
       "    <tr>\n",
       "      <th>4</th>\n",
       "      <td>2282983706</td>\n",
       "      <td>2322279887</td>\n",
       "      <td>2019-08-15</td>\n",
       "      <td>2308</td>\n",
       "      <td>B</td>\n",
       "    </tr>\n",
       "    <tr>\n",
       "      <th>...</th>\n",
       "      <td>...</td>\n",
       "      <td>...</td>\n",
       "      <td>...</td>\n",
       "      <td>...</td>\n",
       "      <td>...</td>\n",
       "    </tr>\n",
       "    <tr>\n",
       "      <th>1192</th>\n",
       "      <td>2662137336</td>\n",
       "      <td>3733762160</td>\n",
       "      <td>2019-08-14</td>\n",
       "      <td>6490</td>\n",
       "      <td>B</td>\n",
       "    </tr>\n",
       "    <tr>\n",
       "      <th>1193</th>\n",
       "      <td>2203539145</td>\n",
       "      <td>370388673</td>\n",
       "      <td>2019-08-14</td>\n",
       "      <td>3190</td>\n",
       "      <td>A</td>\n",
       "    </tr>\n",
       "    <tr>\n",
       "      <th>1194</th>\n",
       "      <td>1807773912</td>\n",
       "      <td>573423106</td>\n",
       "      <td>2019-08-14</td>\n",
       "      <td>10550</td>\n",
       "      <td>A</td>\n",
       "    </tr>\n",
       "    <tr>\n",
       "      <th>1195</th>\n",
       "      <td>1947021204</td>\n",
       "      <td>1614305549</td>\n",
       "      <td>2019-08-14</td>\n",
       "      <td>100</td>\n",
       "      <td>A</td>\n",
       "    </tr>\n",
       "    <tr>\n",
       "      <th>1196</th>\n",
       "      <td>3936777065</td>\n",
       "      <td>2108080724</td>\n",
       "      <td>2019-08-15</td>\n",
       "      <td>202740</td>\n",
       "      <td>B</td>\n",
       "    </tr>\n",
       "  </tbody>\n",
       "</table>\n",
       "<p>1197 rows × 5 columns</p>\n",
       "</div>"
      ],
      "text/plain": [
       "      transactionId   visitorId        date  revenue group\n",
       "0        3667963787  3312258926  2019-08-15     1650     B\n",
       "1        2804400009  3642806036  2019-08-15      730     B\n",
       "2        2961555356  4069496402  2019-08-15      400     A\n",
       "3        3797467345  1196621759  2019-08-15     9759     B\n",
       "4        2282983706  2322279887  2019-08-15     2308     B\n",
       "...             ...         ...         ...      ...   ...\n",
       "1192     2662137336  3733762160  2019-08-14     6490     B\n",
       "1193     2203539145   370388673  2019-08-14     3190     A\n",
       "1194     1807773912   573423106  2019-08-14    10550     A\n",
       "1195     1947021204  1614305549  2019-08-14      100     A\n",
       "1196     3936777065  2108080724  2019-08-15   202740     B\n",
       "\n",
       "[1197 rows x 5 columns]"
      ]
     },
     "metadata": {},
     "output_type": "display_data"
    },
    {
     "data": {
      "text/html": [
       "<div>\n",
       "<style scoped>\n",
       "    .dataframe tbody tr th:only-of-type {\n",
       "        vertical-align: middle;\n",
       "    }\n",
       "\n",
       "    .dataframe tbody tr th {\n",
       "        vertical-align: top;\n",
       "    }\n",
       "\n",
       "    .dataframe thead th {\n",
       "        text-align: right;\n",
       "    }\n",
       "</style>\n",
       "<table border=\"1\" class=\"dataframe\">\n",
       "  <thead>\n",
       "    <tr style=\"text-align: right;\">\n",
       "      <th></th>\n",
       "      <th>date</th>\n",
       "      <th>group</th>\n",
       "      <th>visitors</th>\n",
       "    </tr>\n",
       "  </thead>\n",
       "  <tbody>\n",
       "    <tr>\n",
       "      <th>0</th>\n",
       "      <td>2019-08-01</td>\n",
       "      <td>A</td>\n",
       "      <td>719</td>\n",
       "    </tr>\n",
       "    <tr>\n",
       "      <th>1</th>\n",
       "      <td>2019-08-02</td>\n",
       "      <td>A</td>\n",
       "      <td>619</td>\n",
       "    </tr>\n",
       "    <tr>\n",
       "      <th>2</th>\n",
       "      <td>2019-08-03</td>\n",
       "      <td>A</td>\n",
       "      <td>507</td>\n",
       "    </tr>\n",
       "    <tr>\n",
       "      <th>3</th>\n",
       "      <td>2019-08-04</td>\n",
       "      <td>A</td>\n",
       "      <td>717</td>\n",
       "    </tr>\n",
       "    <tr>\n",
       "      <th>4</th>\n",
       "      <td>2019-08-05</td>\n",
       "      <td>A</td>\n",
       "      <td>756</td>\n",
       "    </tr>\n",
       "    <tr>\n",
       "      <th>...</th>\n",
       "      <td>...</td>\n",
       "      <td>...</td>\n",
       "      <td>...</td>\n",
       "    </tr>\n",
       "    <tr>\n",
       "      <th>57</th>\n",
       "      <td>2019-08-27</td>\n",
       "      <td>B</td>\n",
       "      <td>720</td>\n",
       "    </tr>\n",
       "    <tr>\n",
       "      <th>58</th>\n",
       "      <td>2019-08-28</td>\n",
       "      <td>B</td>\n",
       "      <td>654</td>\n",
       "    </tr>\n",
       "    <tr>\n",
       "      <th>59</th>\n",
       "      <td>2019-08-29</td>\n",
       "      <td>B</td>\n",
       "      <td>531</td>\n",
       "    </tr>\n",
       "    <tr>\n",
       "      <th>60</th>\n",
       "      <td>2019-08-30</td>\n",
       "      <td>B</td>\n",
       "      <td>490</td>\n",
       "    </tr>\n",
       "    <tr>\n",
       "      <th>61</th>\n",
       "      <td>2019-08-31</td>\n",
       "      <td>B</td>\n",
       "      <td>718</td>\n",
       "    </tr>\n",
       "  </tbody>\n",
       "</table>\n",
       "<p>62 rows × 3 columns</p>\n",
       "</div>"
      ],
      "text/plain": [
       "          date group  visitors\n",
       "0   2019-08-01     A       719\n",
       "1   2019-08-02     A       619\n",
       "2   2019-08-03     A       507\n",
       "3   2019-08-04     A       717\n",
       "4   2019-08-05     A       756\n",
       "..         ...   ...       ...\n",
       "57  2019-08-27     B       720\n",
       "58  2019-08-28     B       654\n",
       "59  2019-08-29     B       531\n",
       "60  2019-08-30     B       490\n",
       "61  2019-08-31     B       718\n",
       "\n",
       "[62 rows x 3 columns]"
      ]
     },
     "metadata": {},
     "output_type": "display_data"
    }
   ],
   "source": [
    "# Выводим на экран полученные таблицы методом display(), но перед этим добавим код, чтобы текст в ячейке отражался полностью вне \n",
    "# зависимости от длины:\n",
    "pd.set_option('display.max_colwidth', None)\n",
    "display(hypothesis)\n",
    "display(orders)\n",
    "display(visitors)"
   ]
  },
  {
   "cell_type": "code",
   "execution_count": 4,
   "metadata": {},
   "outputs": [
    {
     "name": "stdout",
     "output_type": "stream",
     "text": [
      "<class 'pandas.core.frame.DataFrame'>\n",
      "RangeIndex: 9 entries, 0 to 8\n",
      "Data columns (total 5 columns):\n",
      " #   Column      Non-Null Count  Dtype \n",
      "---  ------      --------------  ----- \n",
      " 0   Hypothesis  9 non-null      object\n",
      " 1   Reach       9 non-null      int64 \n",
      " 2   Impact      9 non-null      int64 \n",
      " 3   Confidence  9 non-null      int64 \n",
      " 4   Efforts     9 non-null      int64 \n",
      "dtypes: int64(4), object(1)\n",
      "memory usage: 488.0+ bytes\n"
     ]
    }
   ],
   "source": [
    "# Выводим основную информацию о каждом датафрейме с помощью метода info():\n",
    "hypothesis.info()"
   ]
  },
  {
   "cell_type": "code",
   "execution_count": 5,
   "metadata": {},
   "outputs": [
    {
     "name": "stdout",
     "output_type": "stream",
     "text": [
      "<class 'pandas.core.frame.DataFrame'>\n",
      "RangeIndex: 1197 entries, 0 to 1196\n",
      "Data columns (total 5 columns):\n",
      " #   Column         Non-Null Count  Dtype \n",
      "---  ------         --------------  ----- \n",
      " 0   transactionId  1197 non-null   int64 \n",
      " 1   visitorId      1197 non-null   int64 \n",
      " 2   date           1197 non-null   object\n",
      " 3   revenue        1197 non-null   int64 \n",
      " 4   group          1197 non-null   object\n",
      "dtypes: int64(3), object(2)\n",
      "memory usage: 46.9+ KB\n"
     ]
    }
   ],
   "source": [
    "orders.info()"
   ]
  },
  {
   "cell_type": "code",
   "execution_count": 6,
   "metadata": {},
   "outputs": [
    {
     "name": "stdout",
     "output_type": "stream",
     "text": [
      "<class 'pandas.core.frame.DataFrame'>\n",
      "RangeIndex: 62 entries, 0 to 61\n",
      "Data columns (total 3 columns):\n",
      " #   Column    Non-Null Count  Dtype \n",
      "---  ------    --------------  ----- \n",
      " 0   date      62 non-null     object\n",
      " 1   group     62 non-null     object\n",
      " 2   visitors  62 non-null     int64 \n",
      "dtypes: int64(1), object(2)\n",
      "memory usage: 1.6+ KB\n"
     ]
    }
   ],
   "source": [
    "visitors.info()"
   ]
  },
  {
   "cell_type": "markdown",
   "metadata": {},
   "source": [
    "Тип данных столбцов date, содержащих дату и время необходимо будет перевести из типа данных object в datetime."
   ]
  },
  {
   "cell_type": "markdown",
   "metadata": {},
   "source": [
    "### Проверим, есть ли про пропуски в данных"
   ]
  },
  {
   "cell_type": "code",
   "execution_count": 7,
   "metadata": {},
   "outputs": [
    {
     "data": {
      "text/plain": [
       "Hypothesis    0\n",
       "Reach         0\n",
       "Impact        0\n",
       "Confidence    0\n",
       "Efforts       0\n",
       "dtype: int64"
      ]
     },
     "execution_count": 7,
     "metadata": {},
     "output_type": "execute_result"
    }
   ],
   "source": [
    "# Ищем пропуски в датафреймах методом isna() и sum(): \n",
    "hypothesis.isna().sum().sort_values(ascending=False)"
   ]
  },
  {
   "cell_type": "code",
   "execution_count": 8,
   "metadata": {},
   "outputs": [
    {
     "data": {
      "text/plain": [
       "transactionId    0\n",
       "visitorId        0\n",
       "date             0\n",
       "revenue          0\n",
       "group            0\n",
       "dtype: int64"
      ]
     },
     "execution_count": 8,
     "metadata": {},
     "output_type": "execute_result"
    }
   ],
   "source": [
    "orders.isna().sum().sort_values(ascending=False)"
   ]
  },
  {
   "cell_type": "code",
   "execution_count": 9,
   "metadata": {},
   "outputs": [
    {
     "data": {
      "text/plain": [
       "date        0\n",
       "group       0\n",
       "visitors    0\n",
       "dtype: int64"
      ]
     },
     "execution_count": 9,
     "metadata": {},
     "output_type": "execute_result"
    }
   ],
   "source": [
    "visitors.isna().sum().sort_values(ascending=False)"
   ]
  },
  {
   "cell_type": "markdown",
   "metadata": {},
   "source": [
    "Пропуски в анализируемых данных отсутствуют."
   ]
  },
  {
   "cell_type": "markdown",
   "metadata": {},
   "source": [
    "### Проверим наличие явных дубликатов в датафреймах"
   ]
  },
  {
   "cell_type": "code",
   "execution_count": 10,
   "metadata": {},
   "outputs": [
    {
     "data": {
      "text/plain": [
       "0"
      ]
     },
     "execution_count": 10,
     "metadata": {},
     "output_type": "execute_result"
    }
   ],
   "source": [
    "# Проверяем датафреймы на наличие явных дубликатов методом duplicated() и считаем их количество методом sum():\n",
    "hypothesis.duplicated().sum()"
   ]
  },
  {
   "cell_type": "code",
   "execution_count": 11,
   "metadata": {},
   "outputs": [
    {
     "data": {
      "text/plain": [
       "0"
      ]
     },
     "execution_count": 11,
     "metadata": {},
     "output_type": "execute_result"
    }
   ],
   "source": [
    "orders.duplicated().sum()"
   ]
  },
  {
   "cell_type": "code",
   "execution_count": 12,
   "metadata": {},
   "outputs": [
    {
     "data": {
      "text/plain": [
       "0"
      ]
     },
     "execution_count": 12,
     "metadata": {},
     "output_type": "execute_result"
    }
   ],
   "source": [
    "visitors.duplicated().sum()"
   ]
  },
  {
   "cell_type": "markdown",
   "metadata": {},
   "source": [
    "В данных нет явных дубликатов."
   ]
  },
  {
   "cell_type": "markdown",
   "metadata": {},
   "source": [
    "### Приведем заголовки столбцов датафреймов к нижнему и «змеиному» регистрам"
   ]
  },
  {
   "cell_type": "code",
   "execution_count": 13,
   "metadata": {},
   "outputs": [
    {
     "data": {
      "text/html": [
       "<div>\n",
       "<style scoped>\n",
       "    .dataframe tbody tr th:only-of-type {\n",
       "        vertical-align: middle;\n",
       "    }\n",
       "\n",
       "    .dataframe tbody tr th {\n",
       "        vertical-align: top;\n",
       "    }\n",
       "\n",
       "    .dataframe thead th {\n",
       "        text-align: right;\n",
       "    }\n",
       "</style>\n",
       "<table border=\"1\" class=\"dataframe\">\n",
       "  <thead>\n",
       "    <tr style=\"text-align: right;\">\n",
       "      <th></th>\n",
       "      <th>hypothesis</th>\n",
       "      <th>reach</th>\n",
       "      <th>impact</th>\n",
       "      <th>confidence</th>\n",
       "      <th>efforts</th>\n",
       "    </tr>\n",
       "  </thead>\n",
       "  <tbody>\n",
       "    <tr>\n",
       "      <th>0</th>\n",
       "      <td>Добавить два новых канала привлечения трафика, что позволит привлекать на 30% больше пользователей</td>\n",
       "      <td>3</td>\n",
       "      <td>10</td>\n",
       "      <td>8</td>\n",
       "      <td>6</td>\n",
       "    </tr>\n",
       "    <tr>\n",
       "      <th>1</th>\n",
       "      <td>Запустить собственную службу доставки, что сократит срок доставки заказов</td>\n",
       "      <td>2</td>\n",
       "      <td>5</td>\n",
       "      <td>4</td>\n",
       "      <td>10</td>\n",
       "    </tr>\n",
       "    <tr>\n",
       "      <th>2</th>\n",
       "      <td>Добавить блоки рекомендаций товаров на сайт интернет магазина, чтобы повысить конверсию и средний чек заказа</td>\n",
       "      <td>8</td>\n",
       "      <td>3</td>\n",
       "      <td>7</td>\n",
       "      <td>3</td>\n",
       "    </tr>\n",
       "    <tr>\n",
       "      <th>3</th>\n",
       "      <td>Изменить структура категорий, что увеличит конверсию, т.к. пользователи быстрее найдут нужный товар</td>\n",
       "      <td>8</td>\n",
       "      <td>3</td>\n",
       "      <td>3</td>\n",
       "      <td>8</td>\n",
       "    </tr>\n",
       "    <tr>\n",
       "      <th>4</th>\n",
       "      <td>Изменить цвет фона главной страницы, чтобы увеличить вовлеченность пользователей</td>\n",
       "      <td>3</td>\n",
       "      <td>1</td>\n",
       "      <td>1</td>\n",
       "      <td>1</td>\n",
       "    </tr>\n",
       "  </tbody>\n",
       "</table>\n",
       "</div>"
      ],
      "text/plain": [
       "                                                                                                     hypothesis  \\\n",
       "0            Добавить два новых канала привлечения трафика, что позволит привлекать на 30% больше пользователей   \n",
       "1                                     Запустить собственную службу доставки, что сократит срок доставки заказов   \n",
       "2  Добавить блоки рекомендаций товаров на сайт интернет магазина, чтобы повысить конверсию и средний чек заказа   \n",
       "3           Изменить структура категорий, что увеличит конверсию, т.к. пользователи быстрее найдут нужный товар   \n",
       "4                              Изменить цвет фона главной страницы, чтобы увеличить вовлеченность пользователей   \n",
       "\n",
       "   reach  impact  confidence  efforts  \n",
       "0      3      10           8        6  \n",
       "1      2       5           4       10  \n",
       "2      8       3           7        3  \n",
       "3      8       3           3        8  \n",
       "4      3       1           1        1  "
      ]
     },
     "execution_count": 13,
     "metadata": {},
     "output_type": "execute_result"
    }
   ],
   "source": [
    "# Приведем названия столбцов к нижнему регистру:\n",
    "hypothesis.columns = hypothesis.columns.str.lower()\n",
    "# Проверим, что получилось:\n",
    "hypothesis.head()"
   ]
  },
  {
   "cell_type": "code",
   "execution_count": 14,
   "metadata": {},
   "outputs": [
    {
     "data": {
      "text/html": [
       "<div>\n",
       "<style scoped>\n",
       "    .dataframe tbody tr th:only-of-type {\n",
       "        vertical-align: middle;\n",
       "    }\n",
       "\n",
       "    .dataframe tbody tr th {\n",
       "        vertical-align: top;\n",
       "    }\n",
       "\n",
       "    .dataframe thead th {\n",
       "        text-align: right;\n",
       "    }\n",
       "</style>\n",
       "<table border=\"1\" class=\"dataframe\">\n",
       "  <thead>\n",
       "    <tr style=\"text-align: right;\">\n",
       "      <th></th>\n",
       "      <th>transaction_id</th>\n",
       "      <th>visitor_id</th>\n",
       "      <th>date</th>\n",
       "      <th>revenue</th>\n",
       "      <th>group</th>\n",
       "    </tr>\n",
       "  </thead>\n",
       "  <tbody>\n",
       "    <tr>\n",
       "      <th>0</th>\n",
       "      <td>3667963787</td>\n",
       "      <td>3312258926</td>\n",
       "      <td>2019-08-15</td>\n",
       "      <td>1650</td>\n",
       "      <td>B</td>\n",
       "    </tr>\n",
       "    <tr>\n",
       "      <th>1</th>\n",
       "      <td>2804400009</td>\n",
       "      <td>3642806036</td>\n",
       "      <td>2019-08-15</td>\n",
       "      <td>730</td>\n",
       "      <td>B</td>\n",
       "    </tr>\n",
       "    <tr>\n",
       "      <th>2</th>\n",
       "      <td>2961555356</td>\n",
       "      <td>4069496402</td>\n",
       "      <td>2019-08-15</td>\n",
       "      <td>400</td>\n",
       "      <td>A</td>\n",
       "    </tr>\n",
       "    <tr>\n",
       "      <th>3</th>\n",
       "      <td>3797467345</td>\n",
       "      <td>1196621759</td>\n",
       "      <td>2019-08-15</td>\n",
       "      <td>9759</td>\n",
       "      <td>B</td>\n",
       "    </tr>\n",
       "    <tr>\n",
       "      <th>4</th>\n",
       "      <td>2282983706</td>\n",
       "      <td>2322279887</td>\n",
       "      <td>2019-08-15</td>\n",
       "      <td>2308</td>\n",
       "      <td>B</td>\n",
       "    </tr>\n",
       "  </tbody>\n",
       "</table>\n",
       "</div>"
      ],
      "text/plain": [
       "   transaction_id  visitor_id        date  revenue group\n",
       "0      3667963787  3312258926  2019-08-15     1650     B\n",
       "1      2804400009  3642806036  2019-08-15      730     B\n",
       "2      2961555356  4069496402  2019-08-15      400     A\n",
       "3      3797467345  1196621759  2019-08-15     9759     B\n",
       "4      2282983706  2322279887  2019-08-15     2308     B"
      ]
     },
     "execution_count": 14,
     "metadata": {},
     "output_type": "execute_result"
    }
   ],
   "source": [
    "# Приведем названия столбцов в датафрейме orders к «змеиному» регистру:\n",
    "orders.columns = orders.columns.str.replace('Id', '_id')\n",
    "# Проверим, что получилось:\n",
    "orders.head()"
   ]
  },
  {
   "cell_type": "markdown",
   "metadata": {},
   "source": [
    "### Изменим типы данных"
   ]
  },
  {
   "cell_type": "code",
   "execution_count": 15,
   "metadata": {},
   "outputs": [],
   "source": [
    "# Преобразуем данные о дате:\n",
    "orders['date'] = pd.to_datetime(orders['date'])\n",
    "visitors['date'] = pd.to_datetime(visitors['date'])"
   ]
  },
  {
   "cell_type": "markdown",
   "metadata": {},
   "source": [
    "### Проверим, сколько групп в А/В тесте и нет ли в данных пользователей, попавших в обе группы А/В теста одновременно "
   ]
  },
  {
   "cell_type": "code",
   "execution_count": 16,
   "metadata": {
    "scrolled": true
   },
   "outputs": [
    {
     "data": {
      "text/html": [
       "<div>\n",
       "<style scoped>\n",
       "    .dataframe tbody tr th:only-of-type {\n",
       "        vertical-align: middle;\n",
       "    }\n",
       "\n",
       "    .dataframe tbody tr th {\n",
       "        vertical-align: top;\n",
       "    }\n",
       "\n",
       "    .dataframe thead th {\n",
       "        text-align: right;\n",
       "    }\n",
       "</style>\n",
       "<table border=\"1\" class=\"dataframe\">\n",
       "  <thead>\n",
       "    <tr style=\"text-align: right;\">\n",
       "      <th></th>\n",
       "      <th>visitor_id</th>\n",
       "    </tr>\n",
       "    <tr>\n",
       "      <th>group</th>\n",
       "      <th></th>\n",
       "    </tr>\n",
       "  </thead>\n",
       "  <tbody>\n",
       "    <tr>\n",
       "      <th>A</th>\n",
       "      <td>503</td>\n",
       "    </tr>\n",
       "    <tr>\n",
       "      <th>B</th>\n",
       "      <td>586</td>\n",
       "    </tr>\n",
       "  </tbody>\n",
       "</table>\n",
       "</div>"
      ],
      "text/plain": [
       "       visitor_id\n",
       "group            \n",
       "A             503\n",
       "B             586"
      ]
     },
     "execution_count": 16,
     "metadata": {},
     "output_type": "execute_result"
    }
   ],
   "source": [
    "# Проверим, сколько групп в А/В тесте, а также сколько пользователей в каждой из этих групп: \n",
    "orders.groupby('group').agg({'visitor_id': 'nunique'})"
   ]
  },
  {
   "cell_type": "markdown",
   "metadata": {},
   "source": [
    "В данном А/В тесте пользователей поделили на 2 группы, т.е. он парный, причем пользователей в группе В больше, чем в группе А на 16,5 %. В связи с этим, далее проверим, не попала ли часть пользователей в обе группы одновременно."
   ]
  },
  {
   "cell_type": "code",
   "execution_count": 17,
   "metadata": {},
   "outputs": [
    {
     "data": {
      "text/plain": [
       "1031"
      ]
     },
     "execution_count": 17,
     "metadata": {},
     "output_type": "execute_result"
    }
   ],
   "source": [
    "# Посчитаем сколько всего уникальных пользователей участвует в А/В тесте:\n",
    "orders['visitor_id'].nunique()"
   ]
  },
  {
   "cell_type": "code",
   "execution_count": 18,
   "metadata": {
    "scrolled": true
   },
   "outputs": [
    {
     "data": {
      "text/plain": [
       "group    58\n",
       "dtype: int64"
      ]
     },
     "execution_count": 18,
     "metadata": {},
     "output_type": "execute_result"
    }
   ],
   "source": [
    "# Найдем количество уникальных пользователей, которые встречаются в двух группах одноверменно\n",
    "orders.groupby('visitor_id').agg({'group' : 'nunique'}).query('group>1').count()"
   ]
  },
  {
   "cell_type": "markdown",
   "metadata": {},
   "source": [
    "Таким образом, количество количество пользователей, попавших в обе группы одновременно, составляет чуть больше 5 % от общего числа пользователей, поэтому удалять их не будем, тем более из таблицы visitors их удалить не получится в любом случае.  "
   ]
  },
  {
   "cell_type": "markdown",
   "metadata": {},
   "source": [
    "*Выводы по разделу 1:*\n",
    "\n",
    "- В анализируемых данных пропуски и явные дубликаты не обнаружены; \n",
    "- Проведена следующая подготовка данных: типы данных во всех колонках соответствуют записанным в них значениям, названия колонок таблицы с гипотезами hypothesis приведены к нижнему регистру, а таблицы с заказами - к нижнему и «змеиному» регистрам.\n",
    "- В А/В тесте 2 группы. Процент пользователей, попавших в обе группы А/В теста чуть более 5 %. Их решено было не удалять. "
   ]
  },
  {
   "cell_type": "markdown",
   "metadata": {},
   "source": [
    "## Приоритизация гипотез по увеличению выручки интернет-магазина "
   ]
  },
  {
   "cell_type": "markdown",
   "metadata": {},
   "source": [
    "### Применим фреймворк ICE для приоритизации гипотез"
   ]
  },
  {
   "cell_type": "code",
   "execution_count": 19,
   "metadata": {},
   "outputs": [],
   "source": [
    "# Рассчитаем  ICE и добавим в датафрейм hypothesis новый столбец ice:\n",
    "hypothesis['ice'] = hypothesis['impact'] * hypothesis['confidence'] / hypothesis['efforts']\n",
    "hypothesis['ice'] = round(hypothesis['ice'])"
   ]
  },
  {
   "cell_type": "code",
   "execution_count": 20,
   "metadata": {
    "scrolled": false
   },
   "outputs": [
    {
     "data": {
      "text/html": [
       "<div>\n",
       "<style scoped>\n",
       "    .dataframe tbody tr th:only-of-type {\n",
       "        vertical-align: middle;\n",
       "    }\n",
       "\n",
       "    .dataframe tbody tr th {\n",
       "        vertical-align: top;\n",
       "    }\n",
       "\n",
       "    .dataframe thead th {\n",
       "        text-align: right;\n",
       "    }\n",
       "</style>\n",
       "<table border=\"1\" class=\"dataframe\">\n",
       "  <thead>\n",
       "    <tr style=\"text-align: right;\">\n",
       "      <th></th>\n",
       "      <th>hypothesis</th>\n",
       "      <th>ice</th>\n",
       "    </tr>\n",
       "  </thead>\n",
       "  <tbody>\n",
       "    <tr>\n",
       "      <th>8</th>\n",
       "      <td>Запустить акцию, дающую скидку на товар в день рождения</td>\n",
       "      <td>16.0</td>\n",
       "    </tr>\n",
       "    <tr>\n",
       "      <th>0</th>\n",
       "      <td>Добавить два новых канала привлечения трафика, что позволит привлекать на 30% больше пользователей</td>\n",
       "      <td>13.0</td>\n",
       "    </tr>\n",
       "    <tr>\n",
       "      <th>7</th>\n",
       "      <td>Добавить форму подписки на все основные страницы, чтобы собрать базу клиентов для email-рассылок</td>\n",
       "      <td>11.0</td>\n",
       "    </tr>\n",
       "    <tr>\n",
       "      <th>6</th>\n",
       "      <td>Показать на главной странице баннеры с актуальными акциями и распродажами, чтобы увеличить конверсию</td>\n",
       "      <td>8.0</td>\n",
       "    </tr>\n",
       "    <tr>\n",
       "      <th>2</th>\n",
       "      <td>Добавить блоки рекомендаций товаров на сайт интернет магазина, чтобы повысить конверсию и средний чек заказа</td>\n",
       "      <td>7.0</td>\n",
       "    </tr>\n",
       "    <tr>\n",
       "      <th>1</th>\n",
       "      <td>Запустить собственную службу доставки, что сократит срок доставки заказов</td>\n",
       "      <td>2.0</td>\n",
       "    </tr>\n",
       "    <tr>\n",
       "      <th>3</th>\n",
       "      <td>Изменить структура категорий, что увеличит конверсию, т.к. пользователи быстрее найдут нужный товар</td>\n",
       "      <td>1.0</td>\n",
       "    </tr>\n",
       "    <tr>\n",
       "      <th>4</th>\n",
       "      <td>Изменить цвет фона главной страницы, чтобы увеличить вовлеченность пользователей</td>\n",
       "      <td>1.0</td>\n",
       "    </tr>\n",
       "    <tr>\n",
       "      <th>5</th>\n",
       "      <td>Добавить страницу отзывов клиентов о магазине, что позволит увеличить количество заказов</td>\n",
       "      <td>1.0</td>\n",
       "    </tr>\n",
       "  </tbody>\n",
       "</table>\n",
       "</div>"
      ],
      "text/plain": [
       "                                                                                                     hypothesis  \\\n",
       "8                                                       Запустить акцию, дающую скидку на товар в день рождения   \n",
       "0            Добавить два новых канала привлечения трафика, что позволит привлекать на 30% больше пользователей   \n",
       "7              Добавить форму подписки на все основные страницы, чтобы собрать базу клиентов для email-рассылок   \n",
       "6          Показать на главной странице баннеры с актуальными акциями и распродажами, чтобы увеличить конверсию   \n",
       "2  Добавить блоки рекомендаций товаров на сайт интернет магазина, чтобы повысить конверсию и средний чек заказа   \n",
       "1                                     Запустить собственную службу доставки, что сократит срок доставки заказов   \n",
       "3           Изменить структура категорий, что увеличит конверсию, т.к. пользователи быстрее найдут нужный товар   \n",
       "4                              Изменить цвет фона главной страницы, чтобы увеличить вовлеченность пользователей   \n",
       "5                      Добавить страницу отзывов клиентов о магазине, что позволит увеличить количество заказов   \n",
       "\n",
       "    ice  \n",
       "8  16.0  \n",
       "0  13.0  \n",
       "7  11.0  \n",
       "6   8.0  \n",
       "2   7.0  \n",
       "1   2.0  \n",
       "3   1.0  \n",
       "4   1.0  \n",
       "5   1.0  "
      ]
     },
     "execution_count": 20,
     "metadata": {},
     "output_type": "execute_result"
    }
   ],
   "source": [
    "# Отсортируем гипотезы по убыванию приоритета:\n",
    "hypothesis[['hypothesis', 'ice']].sort_values(by='ice', ascending=False)"
   ]
  },
  {
   "cell_type": "markdown",
   "metadata": {},
   "source": [
    "*Топ 4 наиболее перспективных гипотез по* **ICE**: \n",
    "- Запустить акцию, дающую скидку на товар в день рождения;\n",
    "- Добавить два новых канала привлечения трафика, что позволит привлекать на 30% больше пользователей;\n",
    "- Добавить форму подписки на все основные страницы, чтобы собрать базу клиентов для email-рассылок;\n",
    "- Показать на главной странице баннеры с актуальными акциями и распродажами, чтобы увеличить конверсию."
   ]
  },
  {
   "cell_type": "markdown",
   "metadata": {},
   "source": [
    "*Самая неперспективная гипотеза*:\n",
    "- Изменить цвет фона главной страницы, чтобы увеличить вовлеченность пользователей"
   ]
  },
  {
   "cell_type": "markdown",
   "metadata": {},
   "source": [
    "### Применим фреймворк RICE для приоритизации гипотез"
   ]
  },
  {
   "cell_type": "code",
   "execution_count": 21,
   "metadata": {},
   "outputs": [],
   "source": [
    "# Рассчитаем  RICE и добавим в датафрейм hypothesis новый столбец rice:\n",
    "hypothesis['rice'] = hypothesis['reach'] * hypothesis['impact'] * hypothesis['confidence'] / hypothesis['efforts']"
   ]
  },
  {
   "cell_type": "code",
   "execution_count": 22,
   "metadata": {},
   "outputs": [
    {
     "data": {
      "text/html": [
       "<div>\n",
       "<style scoped>\n",
       "    .dataframe tbody tr th:only-of-type {\n",
       "        vertical-align: middle;\n",
       "    }\n",
       "\n",
       "    .dataframe tbody tr th {\n",
       "        vertical-align: top;\n",
       "    }\n",
       "\n",
       "    .dataframe thead th {\n",
       "        text-align: right;\n",
       "    }\n",
       "</style>\n",
       "<table border=\"1\" class=\"dataframe\">\n",
       "  <thead>\n",
       "    <tr style=\"text-align: right;\">\n",
       "      <th></th>\n",
       "      <th>hypothesis</th>\n",
       "      <th>rice</th>\n",
       "    </tr>\n",
       "  </thead>\n",
       "  <tbody>\n",
       "    <tr>\n",
       "      <th>7</th>\n",
       "      <td>Добавить форму подписки на все основные страницы, чтобы собрать базу клиентов для email-рассылок</td>\n",
       "      <td>112.0</td>\n",
       "    </tr>\n",
       "    <tr>\n",
       "      <th>2</th>\n",
       "      <td>Добавить блоки рекомендаций товаров на сайт интернет магазина, чтобы повысить конверсию и средний чек заказа</td>\n",
       "      <td>56.0</td>\n",
       "    </tr>\n",
       "    <tr>\n",
       "      <th>0</th>\n",
       "      <td>Добавить два новых канала привлечения трафика, что позволит привлекать на 30% больше пользователей</td>\n",
       "      <td>40.0</td>\n",
       "    </tr>\n",
       "    <tr>\n",
       "      <th>6</th>\n",
       "      <td>Показать на главной странице баннеры с актуальными акциями и распродажами, чтобы увеличить конверсию</td>\n",
       "      <td>40.0</td>\n",
       "    </tr>\n",
       "    <tr>\n",
       "      <th>8</th>\n",
       "      <td>Запустить акцию, дающую скидку на товар в день рождения</td>\n",
       "      <td>16.2</td>\n",
       "    </tr>\n",
       "    <tr>\n",
       "      <th>3</th>\n",
       "      <td>Изменить структура категорий, что увеличит конверсию, т.к. пользователи быстрее найдут нужный товар</td>\n",
       "      <td>9.0</td>\n",
       "    </tr>\n",
       "    <tr>\n",
       "      <th>1</th>\n",
       "      <td>Запустить собственную службу доставки, что сократит срок доставки заказов</td>\n",
       "      <td>4.0</td>\n",
       "    </tr>\n",
       "    <tr>\n",
       "      <th>5</th>\n",
       "      <td>Добавить страницу отзывов клиентов о магазине, что позволит увеличить количество заказов</td>\n",
       "      <td>4.0</td>\n",
       "    </tr>\n",
       "    <tr>\n",
       "      <th>4</th>\n",
       "      <td>Изменить цвет фона главной страницы, чтобы увеличить вовлеченность пользователей</td>\n",
       "      <td>3.0</td>\n",
       "    </tr>\n",
       "  </tbody>\n",
       "</table>\n",
       "</div>"
      ],
      "text/plain": [
       "                                                                                                     hypothesis  \\\n",
       "7              Добавить форму подписки на все основные страницы, чтобы собрать базу клиентов для email-рассылок   \n",
       "2  Добавить блоки рекомендаций товаров на сайт интернет магазина, чтобы повысить конверсию и средний чек заказа   \n",
       "0            Добавить два новых канала привлечения трафика, что позволит привлекать на 30% больше пользователей   \n",
       "6          Показать на главной странице баннеры с актуальными акциями и распродажами, чтобы увеличить конверсию   \n",
       "8                                                       Запустить акцию, дающую скидку на товар в день рождения   \n",
       "3           Изменить структура категорий, что увеличит конверсию, т.к. пользователи быстрее найдут нужный товар   \n",
       "1                                     Запустить собственную службу доставки, что сократит срок доставки заказов   \n",
       "5                      Добавить страницу отзывов клиентов о магазине, что позволит увеличить количество заказов   \n",
       "4                              Изменить цвет фона главной страницы, чтобы увеличить вовлеченность пользователей   \n",
       "\n",
       "    rice  \n",
       "7  112.0  \n",
       "2   56.0  \n",
       "0   40.0  \n",
       "6   40.0  \n",
       "8   16.2  \n",
       "3    9.0  \n",
       "1    4.0  \n",
       "5    4.0  \n",
       "4    3.0  "
      ]
     },
     "execution_count": 22,
     "metadata": {},
     "output_type": "execute_result"
    }
   ],
   "source": [
    "# Отсортируем гипотезы по убыванию приоритета:\n",
    "hypothesis[['hypothesis', 'rice']].sort_values(by='rice', ascending=False)"
   ]
  },
  {
   "cell_type": "markdown",
   "metadata": {},
   "source": [
    "*Топ 4 наиболее перспективных гипотез по* **RICE**: \n",
    "- Добавить форму подписки на все основные страницы, чтобы собрать базу клиентов для email-рассылок;\n",
    "- Добавить блоки рекомендаций товаров на сайт интернет магазина, чтобы повысить конверсию и средний чек заказа;\n",
    "- Добавить два новых канала привлечения трафика, что позволит привлекать на 30% больше пользователей;\n",
    "- Показать на главной странице баннеры с актуальными акциями и распродажами, чтобы увеличить конверсию."
   ]
  },
  {
   "cell_type": "markdown",
   "metadata": {},
   "source": [
    "*Самая неперспективная гипотеза*:\n",
    "- Изменить цвет фона главной страницы, чтобы увеличить вовлеченность пользователей"
   ]
  },
  {
   "cell_type": "markdown",
   "metadata": {},
   "source": [
    "Выводы по разделу 2:\n",
    "\n",
    "- В топ 4 наиболее популярных гипотез, приоритезированных по фраймворку  **RICE**, входят  3 гипотезы, приоритезированные по фраймворку **ICE**, однако у них другая последовательность. Вполне вероятно, что разный порядок приоритизации связан с тем, что фраймворк **RICE** учитывает, скольких пользователей затронет изменение, которое мы хотим внести, а **ICE** нет;\n",
    "- Самая перспективная гипотеза по **ICE**: *Запустить акцию, дающую скидку на товар в день рождения*, а по **RICE**: *Добавить форму подписки на все основные страницы, чтобы собрать базу клиентов для email*-рассылок. Самая непопулярная гипотеза и по **ICE** и по **RICE** одна и та же: *Изменить цвет фона главной страницы, чтобы увеличить вовлеченность пользователей*.     "
   ]
  },
  {
   "cell_type": "markdown",
   "metadata": {},
   "source": [
    "## Анализ A/B-теста"
   ]
  },
  {
   "cell_type": "markdown",
   "metadata": {},
   "source": [
    "### Построим график кумулятивной выручки по группам"
   ]
  },
  {
   "cell_type": "markdown",
   "metadata": {},
   "source": [
    "Объединим таблицы **orders** и **visitors** в одну с понятными названиями столбцов. "
   ]
  },
  {
   "cell_type": "code",
   "execution_count": 23,
   "metadata": {
    "scrolled": true
   },
   "outputs": [
    {
     "name": "stdout",
     "output_type": "stream",
     "text": [
      "        date group  orders  buyers  revenue  visitors\n",
      "0 2019-08-01     A      24      20   148579       719\n",
      "1 2019-08-01     B      21      20   101217       713\n",
      "2 2019-08-02     A      44      38   242401      1338\n",
      "3 2019-08-02     B      45      43   266748      1294\n",
      "4 2019-08-03     A      68      62   354874      1845\n"
     ]
    }
   ],
   "source": [
    "# создаем массив уникальных пар значений дат и групп теста\n",
    "datesGroups = orders[['date','group']].drop_duplicates()\n",
    "\n",
    "# получаем агрегированные кумулятивные по дням данные о заказах \n",
    "ordersAggregated = datesGroups.apply(lambda x: orders[np.logical_and(orders['date'] <= x['date'], orders['group'] == x['group'])].agg({'date' : 'max', 'group' : 'max', 'transaction_id' : 'nunique', 'visitor_id' : 'nunique', 'revenue' : 'sum'}), axis=1).sort_values(by=['date','group'])\n",
    "\n",
    "# получаем агрегированные кумулятивные по дням данные о посетителях интернет-магазина \n",
    "visitorsAggregated = datesGroups.apply(lambda x: visitors[np.logical_and(visitors['date'] <= x['date'], visitors['group'] == x['group'])].agg({'date' : 'max', 'group' : 'max', 'visitors' : 'sum'}), axis=1).sort_values(by=['date','group'])\n",
    "\n",
    "# объединяем кумулятивные данные в одной таблице и присваиваем ее столбцам понятные названия\n",
    "cumulativeData = ordersAggregated.merge(visitorsAggregated, left_on=['date', 'group'], right_on=['date', 'group'])\n",
    "cumulativeData.columns = ['date', 'group', 'orders', 'buyers', 'revenue', 'visitors']\n",
    "\n",
    "# Посмотрим на полученную таблицу:\n",
    "print(cumulativeData.head(5)) "
   ]
  },
  {
   "cell_type": "markdown",
   "metadata": {},
   "source": [
    "Построим графики кумулятивной выручки по дням и группам A/B-тестирования:"
   ]
  },
  {
   "cell_type": "code",
   "execution_count": 24,
   "metadata": {},
   "outputs": [
    {
     "data": {
      "image/png": "[encoded data removed]",
      "text/plain": [
       "<Figure size 720x360 with 1 Axes>"
      ]
     },
     "metadata": {
      "image/png": {
       "height": 377,
       "width": 609
      },
      "needs_background": "light"
     },
     "output_type": "display_data"
    }
   ],
   "source": [
    "# датафрейм с кумулятивным количеством заказов и кумулятивной выручкой по дням в группе А\n",
    "cumulativeRevenueA = cumulativeData[cumulativeData['group']=='A'][['date','revenue', 'orders']]\n",
    "\n",
    "# датафрейм с кумулятивным количеством заказов и кумулятивной выручкой по дням в группе B\n",
    "cumulativeRevenueB = cumulativeData[cumulativeData['group']=='B'][['date','revenue', 'orders']]\n",
    "\n",
    "plt.figure(figsize=(10, 5))\n",
    "\n",
    "# Строим график выручки группы А\n",
    "plt.plot(cumulativeRevenueA['date'], cumulativeRevenueA['revenue'], label='A')\n",
    "\n",
    "# Строим график выручки группы B\n",
    "plt.plot(cumulativeRevenueB['date'], cumulativeRevenueB['revenue'], label='B')\n",
    "plt.xticks(rotation=60)\n",
    "\n",
    "plt.title('Кумулятивная выручка по группам')\n",
    "plt.legend()\n",
    "plt.ylabel('Выручка, руб')\n",
    "plt.xlabel('Дата');"
   ]
  },
  {
   "cell_type": "markdown",
   "metadata": {},
   "source": [
    "Выручка обеих групп увеличивается в течение всего теста: в группе А почти равномерно в течение всего теста, а в группе В наблюдается резкий рост с 18 по 19 августа, что может быть связано с резким ростом числа заказов, либо с появлением очень дорогих заказов в выборке."
   ]
  },
  {
   "cell_type": "markdown",
   "metadata": {},
   "source": [
    "### Построим график кумулятивного среднего чека по группам"
   ]
  },
  {
   "cell_type": "code",
   "execution_count": 25,
   "metadata": {},
   "outputs": [
    {
     "data": {
      "image/png": "[encoded data removed]",
      "text/plain": [
       "<Figure size 720x360 with 1 Axes>"
      ]
     },
     "metadata": {
      "image/png": {
       "height": 377,
       "width": 635
      },
      "needs_background": "light"
     },
     "output_type": "display_data"
    }
   ],
   "source": [
    "# Разделим кумулятивную выручку на кумулятивное число заказов и построим график:\n",
    "plt.figure(figsize=(10, 5))\n",
    "plt.plot(cumulativeRevenueA['date'], cumulativeRevenueA['revenue']/cumulativeRevenueA['orders'], label='A')\n",
    "plt.plot(cumulativeRevenueB['date'], cumulativeRevenueB['revenue']/cumulativeRevenueB['orders'], label='B')\n",
    "plt.xticks(rotation=60)\n",
    "plt.ylabel('Средний чек, руб')\n",
    "plt.xlabel('Дата')\n",
    "plt.title('Кумулятивный средний чек по группам')\n",
    "plt.legend();\n"
   ]
  },
  {
   "cell_type": "markdown",
   "metadata": {},
   "source": [
    "Средний чек в группе А становится равномерным, начиная с середины теста, в группе В тенденция к выравниванию с середины теста прерывается резким ростом среднего чека (практически в 1,5 раза) и последующим его плавным уменьшением к концу теста. Такой резкий всплеск на графике может объясняться тем, что в выборку попали крупные заказы. Возможно, в группу B в первой половине теста попали крупные заказы (резкий всплеск на графике). В связи с этим группе В нужно больше данных, чтобы прийти к реальному среднему чеку и установиться на его уровне."
   ]
  },
  {
   "cell_type": "markdown",
   "metadata": {},
   "source": [
    "### Построим график относительного изменения кумулятивного среднего чека группы B к группе A"
   ]
  },
  {
   "cell_type": "code",
   "execution_count": 26,
   "metadata": {},
   "outputs": [
    {
     "data": {
      "image/png": "[encoded data removed]",
      "text/plain": [
       "<Figure size 720x360 with 1 Axes>"
      ]
     },
     "metadata": {
      "image/png": {
       "height": 377,
       "width": 627
      },
      "needs_background": "light"
     },
     "output_type": "display_data"
    }
   ],
   "source": [
    "# собираем данные в одном датафрейме\n",
    "mergedCumulativeRevenue = cumulativeRevenueA.merge(cumulativeRevenueB, left_on='date', right_on='date', how='left', suffixes=['A', 'B'])\n",
    "plt.figure(figsize=(10, 5))\n",
    "# cтроим отношение средних чеков\n",
    "\n",
    "plt.plot(mergedCumulativeRevenue['date'], (mergedCumulativeRevenue['revenueB']/mergedCumulativeRevenue['ordersB'])/(mergedCumulativeRevenue['revenueA']/mergedCumulativeRevenue['ordersA'])-1)\n",
    "\n",
    "# добавляем ось X методом axhline():\n",
    "plt.axhline(y=0, color='black', linestyle='--')\n",
    "plt.xticks(rotation=60)\n",
    "plt.ylabel('Отношение среднего чека группы В к группе А')\n",
    "plt.xlabel('Дата')\n",
    "plt.title('Изменение отношения среднего чека группы В к группе А');\n"
   ]
  },
  {
   "cell_type": "markdown",
   "metadata": {},
   "source": [
    "В период с 8 по 17 августа график различия между сегментами резко падает и тут же растет, что подтверждает предположение о присутствии в выборке крупных заказов и выбросов, которые попробуем обнаружить позже. Вне этого диапазона средний чек пользователей из группы В выше, чем из группы А."
   ]
  },
  {
   "cell_type": "markdown",
   "metadata": {},
   "source": [
    "### Построим график кумулятивного среднего количества заказов на посетителя по группам"
   ]
  },
  {
   "cell_type": "code",
   "execution_count": 27,
   "metadata": {},
   "outputs": [
    {
     "data": {
      "image/png": "[encoded data removed]",
      "text/plain": [
       "<Figure size 720x360 with 1 Axes>"
      ]
     },
     "metadata": {
      "image/png": {
       "height": 377,
       "width": 640
      },
      "needs_background": "light"
     },
     "output_type": "display_data"
    }
   ],
   "source": [
    "# считаем кумулятивное среднее количество заказов на посетителя по группам\n",
    "cumulativeData['conversion'] = cumulativeData['orders']/cumulativeData['visitors']\n",
    "\n",
    "# отделяем данные по группе A\n",
    "cumulativeDataA = cumulativeData[cumulativeData['group']=='A']\n",
    "\n",
    "# отделяем данные по группе B\n",
    "cumulativeDataB = cumulativeData[cumulativeData['group']=='B']\n",
    "\n",
    "# строим графики\n",
    "plt.figure(figsize=(10, 5))\n",
    "plt.plot(cumulativeDataA['date'], cumulativeDataA['conversion'], label='A')\n",
    "plt.plot(cumulativeDataB['date'], cumulativeDataB['conversion'], label='B')\n",
    "\n",
    "plt.xticks(rotation=60)\n",
    "plt.ylabel('Среднее количество заказов на посетителя')\n",
    "plt.xlabel('Дата')\n",
    "plt.title('Изменение среднего количества заказов на посетителя по группам');\n",
    "plt.legend()\n",
    "# задаем масштаб осей\n",
    "plt.axis([dt.datetime(2019,7,31), dt.datetime(2019,9,1), 0.028, 0.038]); "
   ]
  },
  {
   "cell_type": "markdown",
   "metadata": {},
   "source": [
    "На 4-й день теста среднее количество заказов на посетителя группы А и В сравнялось, после чего среднее количество заказов на посетителя группы В вырвалось вперед, а группы А снизилось, а далее значения обеих группах зафиксировались на определенном уровне. Среднее количество заказов на пользователя в группе В практически зафиксировалось на уровне на 16 % больше среднего количества заказов на пользователя в группе А.  "
   ]
  },
  {
   "cell_type": "markdown",
   "metadata": {},
   "source": [
    "### Построим график относительного изменения кумулятивного среднего количества заказов на посетителя группы B к группе A"
   ]
  },
  {
   "cell_type": "code",
   "execution_count": 28,
   "metadata": {},
   "outputs": [
    {
     "data": {
      "image/png": "[encoded data removed]",
      "text/plain": [
       "<Figure size 720x360 with 1 Axes>"
      ]
     },
     "metadata": {
      "image/png": {
       "height": 377,
       "width": 642
      },
      "needs_background": "light"
     },
     "output_type": "display_data"
    }
   ],
   "source": [
    "# Построим график относительного изменения кумулятивного среднего количества заказов на посетителя группы B к группе A:\n",
    "\n",
    "mergedCumulativeConversions = (cumulativeDataA[['date','conversion']].merge(cumulativeDataB[['date','conversion']], \n",
    "                                                                           left_on='date', right_on='date', how='left', \n",
    "                                                                           suffixes=['A', 'B']))\n",
    "\n",
    "plt.figure(figsize=(10, 5))\n",
    "(\n",
    "plt.plot(mergedCumulativeConversions['date'], mergedCumulativeConversions['conversionB']/\n",
    "         mergedCumulativeConversions['conversionA']-1)\n",
    ")\n",
    "plt.xticks(rotation=60)\n",
    "plt.axhline(y=0, color='black', linestyle='--')\n",
    "#plt.axhline(y=-0.1, color='grey', linestyle='--')\n",
    "plt.axis([dt.datetime(2019,7,31), dt.datetime(2019,9,1), -0.15, 0.25])\n",
    "plt.ylabel('Отношение среднего количества заказов на посетителя')\n",
    "plt.xlabel('Дата')\n",
    "plt.title('Изменение отношения среднего количества заказов на посетителя группы B к группе A');"
   ]
  },
  {
   "cell_type": "markdown",
   "metadata": {},
   "source": [
    "Начиная с 5 дня теста группа B значительно вырвалась вперед и не пригрывала группе А вплоть до конца теста. В целом, кажется, что отношение среднего количества заказов ещё не установилось, но близко к этому. Но делать какие-либо однозначные выводы до анализа аномалий и последующего теста не стоит. "
   ]
  },
  {
   "cell_type": "markdown",
   "metadata": {},
   "source": [
    "### Построим точечный график количества заказов по пользователям"
   ]
  },
  {
   "cell_type": "code",
   "execution_count": 29,
   "metadata": {
    "scrolled": true
   },
   "outputs": [
    {
     "name": "stdout",
     "output_type": "stream",
     "text": [
      "      visitor_id  orders\n",
      "1023  4256040402      11\n",
      "591   2458001652      11\n",
      "569   2378935119       9\n",
      "487   2038680547       8\n",
      "44     199603092       5\n",
      "744   3062433592       5\n",
      "55     237748145       5\n",
      "917   3803269165       5\n",
      "299   1230306981       5\n",
      "897   3717692402       5\n"
     ]
    }
   ],
   "source": [
    "# Подсчитаем количество заказов по пользователям и посмотрим на результат:\n",
    "\n",
    "ordersByUsers = (\n",
    "    orders.groupby('visitor_id', as_index=False)\n",
    "    .agg({'transaction_id': 'nunique'})\n",
    ")\n",
    "\n",
    "ordersByUsers.columns = ['visitor_id', 'orders']\n",
    "\n",
    "print(ordersByUsers.sort_values(by='orders', ascending=False).head(10)) "
   ]
  },
  {
   "cell_type": "markdown",
   "metadata": {},
   "source": [
    "В данных есть пользователи, которые совершали 5, 8, и 11 заказов, т.е. значительно больше, чем обычный пользователь."
   ]
  },
  {
   "cell_type": "code",
   "execution_count": 30,
   "metadata": {
    "scrolled": false
   },
   "outputs": [
    {
     "data": {
      "image/png": "[encoded data removed]",
      "text/plain": [
       "<Figure size 720x360 with 1 Axes>"
      ]
     },
     "metadata": {
      "image/png": {
       "height": 331,
       "width": 605
      },
      "needs_background": "light"
     },
     "output_type": "display_data"
    }
   ],
   "source": [
    "# Построим точечную диаграмму числа заказов на одного пользователя:\n",
    "x_values = pd.Series(range(0,len(ordersByUsers)))\n",
    "plt.figure(figsize=(10, 5))\n",
    "plt.scatter(x_values, ordersByUsers['orders'])\n",
    "plt.ylabel('Число заказов')\n",
    "plt.xlabel('Пользователь')\n",
    "plt.title('Диаграмма распределения числа заказов на пользователя'); "
   ]
  },
  {
   "cell_type": "markdown",
   "metadata": {},
   "source": [
    "Большинство покупателей заказывали только один раз. Однако доля пользователей с 2 и 3 заказами тоже значительна. Для более точного определения границы аномальных пользователей далее посчитаем перцентили."
   ]
  },
  {
   "cell_type": "markdown",
   "metadata": {},
   "source": [
    "### Посчитаем 95-й и 99-й перцентили количества заказов на пользователя"
   ]
  },
  {
   "cell_type": "code",
   "execution_count": 31,
   "metadata": {},
   "outputs": [
    {
     "name": "stdout",
     "output_type": "stream",
     "text": [
      "[2. 4.]\n"
     ]
    }
   ],
   "source": [
    "# Поcчитаем перцентили:\n",
    "print(np.percentile(ordersByUsers['orders'], [95, 99]))"
   ]
  },
  {
   "cell_type": "markdown",
   "metadata": {},
   "source": [
    "Не более 5 % пользователей оформляли больше 2 заказов, не более 1 % больше 4-х. \n",
    "\n",
    "За верхнюю границу числа заказов выберем 2 заказа, и далее будем удалять аномальных пользователей по ней."
   ]
  },
  {
   "cell_type": "markdown",
   "metadata": {},
   "source": [
    "### Построим точечный график стоимостей заказов"
   ]
  },
  {
   "cell_type": "code",
   "execution_count": 32,
   "metadata": {
    "scrolled": true
   },
   "outputs": [
    {
     "data": {
      "image/png": "[encoded data removed]",
      "text/plain": [
       "<Figure size 720x360 with 1 Axes>"
      ]
     },
     "metadata": {
      "image/png": {
       "height": 331,
       "width": 609
      },
      "needs_background": "light"
     },
     "output_type": "display_data"
    }
   ],
   "source": [
    "# Оценим стоимость заказов, построив точечную диаграмму:\n",
    "plt.figure(figsize=(10, 5))\n",
    "x_values = pd.Series(range(0,len(orders['revenue'])))\n",
    "plt.scatter(x_values, orders['revenue'])\n",
    "plt.xlabel('Заказ')\n",
    "plt.ylabel('Стоимость, руб')\n",
    "plt.title('Диаграмма распределения стоимости заказов'); "
   ]
  },
  {
   "cell_type": "markdown",
   "metadata": {},
   "source": [
    "На диаграмме видно, что сильно выбиваются два значения: заказ более 1,2 млн рублей и заказ около 200 000 руб. Для того, чтобы посмотреть, как распределены остальные заказы, изменим масштаб диаграммы по оси оу."
   ]
  },
  {
   "cell_type": "code",
   "execution_count": 33,
   "metadata": {
    "scrolled": true
   },
   "outputs": [
    {
     "data": {
      "image/png": "[encoded data removed]",
      "text/plain": [
       "<Figure size 720x360 with 1 Axes>"
      ]
     },
     "metadata": {
      "image/png": {
       "height": 331,
       "width": 631
      },
      "needs_background": "light"
     },
     "output_type": "display_data"
    }
   ],
   "source": [
    "# Построим точечную диаграмму и изменим масштаб по оси оу:\n",
    "plt.figure(figsize=(10, 5))\n",
    "x_values = pd.Series(range(0,len(orders['revenue'])))\n",
    "plt.scatter(x_values, orders['revenue'])\n",
    "plt.ylim(0, 0.1*1e6)\n",
    "plt.xlabel('Заказ')\n",
    "plt.ylabel('Стоимость, руб')\n",
    "plt.title('Диаграмма распределения стоимости заказов'); "
   ]
  },
  {
   "cell_type": "markdown",
   "metadata": {},
   "source": [
    "Стоимость большей части заказов менее 20 000 руб, однако не малая часть заказов находится в диапазоне от 20 000 до 40 000 руб. Чтобы точнее определить границу аномальных заказов, посчитаем перцентили."
   ]
  },
  {
   "cell_type": "markdown",
   "metadata": {},
   "source": [
    "### Посчитаем 95-й и 99-й перцентили стоимости заказов"
   ]
  },
  {
   "cell_type": "code",
   "execution_count": 34,
   "metadata": {},
   "outputs": [
    {
     "name": "stdout",
     "output_type": "stream",
     "text": [
      "[28000.  58233.2]\n"
     ]
    }
   ],
   "source": [
    "print(np.percentile(orders['revenue'], [95, 99])) "
   ]
  },
  {
   "cell_type": "markdown",
   "metadata": {},
   "source": [
    "Не более 5 % заказов дороже 28 000 рублей и не более 1 % дороже 58 233 рублей. \n",
    "\n",
    "За границу аномальной стоимости заказов примем значение в 28 000 руб."
   ]
  },
  {
   "cell_type": "markdown",
   "metadata": {},
   "source": [
    "### Посчитаем статистическую значимость различий в среднем количестве заказов на посетителя между группами по «сырым» данным"
   ]
  },
  {
   "cell_type": "markdown",
   "metadata": {},
   "source": [
    "Посчитаем статистическую значимость различий в среднем числе заказов на посетителя и среднем чеке между группами *без удаления аномальных пользователей*."
   ]
  },
  {
   "cell_type": "markdown",
   "metadata": {},
   "source": [
    "Сформулируем гипотезы:\n",
    "- Нулевая: различий в среднем количестве заказов на посетителя между группами нет;\n",
    "- Альтернативная: различия в среднем количестве заказов на посетителя между группами есть."
   ]
  },
  {
   "cell_type": "markdown",
   "metadata": {},
   "source": [
    "Подготовим данные."
   ]
  },
  {
   "cell_type": "code",
   "execution_count": 35,
   "metadata": {
    "scrolled": true
   },
   "outputs": [
    {
     "name": "stdout",
     "output_type": "stream",
     "text": [
      "        date  ordersPerDateA  revenuePerDateA  ordersPerDateB  \\\n",
      "0 2019-08-01              24           148579              21   \n",
      "1 2019-08-02              20            93822              24   \n",
      "2 2019-08-03              24           112473              16   \n",
      "3 2019-08-04              16            70825              17   \n",
      "4 2019-08-05              25           124218              23   \n",
      "\n",
      "   revenuePerDateB  ordersCummulativeA  revenueCummulativeA  \\\n",
      "0           101217                  24               148579   \n",
      "1           165531                  44               242401   \n",
      "2           114248                  68               354874   \n",
      "3           108571                  84               425699   \n",
      "4            92428                 109               549917   \n",
      "\n",
      "   ordersCummulativeB  revenueCummulativeB  visitorsPerDateA  \\\n",
      "0                  21               101217               719   \n",
      "1                  45               266748               619   \n",
      "2                  61               380996               507   \n",
      "3                  78               489567               717   \n",
      "4                 101               581995               756   \n",
      "\n",
      "   visitorsPerDateB  visitorsCummulativeA  visitorsCummulativeB  \n",
      "0               713                   719                   713  \n",
      "1               581                  1338                  1294  \n",
      "2               509                  1845                  1803  \n",
      "3               770                  2562                  2573  \n",
      "4               707                  3318                  3280  \n"
     ]
    }
   ],
   "source": [
    "visitorsADaily = visitors[visitors['group'] == 'A'][['date', 'visitors']]\n",
    "visitorsADaily.columns = ['date', 'visitorsPerDateA']\n",
    "\n",
    "visitorsACummulative = visitorsADaily.apply(\n",
    "    lambda x: visitorsADaily[visitorsADaily['date'] <= x['date']].agg(\n",
    "        {'date': 'max', 'visitorsPerDateA': 'sum'}\n",
    "    ),\n",
    "    axis=1,\n",
    ")\n",
    "visitorsACummulative.columns = ['date', 'visitorsCummulativeA']\n",
    "\n",
    "visitorsBDaily = visitors[visitors['group'] == 'B'][['date', 'visitors']]\n",
    "visitorsBDaily.columns = ['date', 'visitorsPerDateB']\n",
    "\n",
    "visitorsBCummulative = visitorsBDaily.apply(\n",
    "    lambda x: visitorsBDaily[visitorsBDaily['date'] <= x['date']].agg(\n",
    "        {'date': 'max', 'visitorsPerDateB': 'sum'}\n",
    "    ),\n",
    "    axis=1,\n",
    ")\n",
    "visitorsBCummulative.columns = ['date', 'visitorsCummulativeB']\n",
    "\n",
    "ordersADaily = (\n",
    "    orders[orders['group'] == 'A'][['date', 'transaction_id', 'visitor_id', 'revenue']]\n",
    "    .groupby('date', as_index=False)\n",
    "    .agg({'transaction_id': pd.Series.nunique, 'revenue': 'sum'})\n",
    ")\n",
    "ordersADaily.columns = ['date', 'ordersPerDateA', 'revenuePerDateA']\n",
    "\n",
    "ordersACummulative = ordersADaily.apply(\n",
    "    lambda x: ordersADaily[ordersADaily['date'] <= x['date']].agg(\n",
    "        {'date': 'max', 'ordersPerDateA': 'sum', 'revenuePerDateA': 'sum'}\n",
    "    ),\n",
    "    axis=1,\n",
    ").sort_values(by=['date'])\n",
    "ordersACummulative.columns = [\n",
    "    'date',\n",
    "    'ordersCummulativeA',\n",
    "    'revenueCummulativeA',\n",
    "]\n",
    "\n",
    "ordersBDaily = (\n",
    "    orders[orders['group'] == 'B'][['date', 'transaction_id', 'visitor_id', 'revenue']]\n",
    "    .groupby('date', as_index=False)\n",
    "    .agg({'transaction_id': pd.Series.nunique, 'revenue': 'sum'})\n",
    ")\n",
    "ordersBDaily.columns = ['date', 'ordersPerDateB', 'revenuePerDateB']\n",
    "\n",
    "ordersBCummulative = ordersBDaily.apply(\n",
    "    lambda x: ordersBDaily[ordersBDaily['date'] <= x['date']].agg(\n",
    "        {'date': 'max', 'ordersPerDateB': 'sum', 'revenuePerDateB': 'sum'}\n",
    "    ),\n",
    "    axis=1,\n",
    ").sort_values(by=['date'])\n",
    "ordersBCummulative.columns = [\n",
    "    'date',\n",
    "    'ordersCummulativeB',\n",
    "    'revenueCummulativeB',\n",
    "]\n",
    "\n",
    "data = (\n",
    "    ordersADaily.merge(\n",
    "        ordersBDaily, left_on='date', right_on='date', how='left'\n",
    "    )\n",
    "    .merge(ordersACummulative, left_on='date', right_on='date', how='left')\n",
    "    .merge(ordersBCummulative, left_on='date', right_on='date', how='left')\n",
    "    .merge(visitorsADaily, left_on='date', right_on='date', how='left')\n",
    "    .merge(visitorsBDaily, left_on='date', right_on='date', how='left')\n",
    "    .merge(visitorsACummulative, left_on='date', right_on='date', how='left')\n",
    "    .merge(visitorsBCummulative, left_on='date', right_on='date', how='left')\n",
    ")\n",
    "\n",
    "print(data.head(5)) "
   ]
  },
  {
   "cell_type": "code",
   "execution_count": 36,
   "metadata": {
    "scrolled": true
   },
   "outputs": [
    {
     "data": {
      "text/html": [
       "<div>\n",
       "<style scoped>\n",
       "    .dataframe tbody tr th:only-of-type {\n",
       "        vertical-align: middle;\n",
       "    }\n",
       "\n",
       "    .dataframe tbody tr th {\n",
       "        vertical-align: top;\n",
       "    }\n",
       "\n",
       "    .dataframe thead th {\n",
       "        text-align: right;\n",
       "    }\n",
       "</style>\n",
       "<table border=\"1\" class=\"dataframe\">\n",
       "  <thead>\n",
       "    <tr style=\"text-align: right;\">\n",
       "      <th></th>\n",
       "      <th>transaction_id</th>\n",
       "      <th>visitor_id</th>\n",
       "      <th>date</th>\n",
       "      <th>revenue</th>\n",
       "      <th>group</th>\n",
       "    </tr>\n",
       "  </thead>\n",
       "  <tbody>\n",
       "    <tr>\n",
       "      <th>0</th>\n",
       "      <td>3667963787</td>\n",
       "      <td>3312258926</td>\n",
       "      <td>2019-08-15</td>\n",
       "      <td>1650</td>\n",
       "      <td>B</td>\n",
       "    </tr>\n",
       "    <tr>\n",
       "      <th>1</th>\n",
       "      <td>2804400009</td>\n",
       "      <td>3642806036</td>\n",
       "      <td>2019-08-15</td>\n",
       "      <td>730</td>\n",
       "      <td>B</td>\n",
       "    </tr>\n",
       "    <tr>\n",
       "      <th>2</th>\n",
       "      <td>2961555356</td>\n",
       "      <td>4069496402</td>\n",
       "      <td>2019-08-15</td>\n",
       "      <td>400</td>\n",
       "      <td>A</td>\n",
       "    </tr>\n",
       "    <tr>\n",
       "      <th>3</th>\n",
       "      <td>3797467345</td>\n",
       "      <td>1196621759</td>\n",
       "      <td>2019-08-15</td>\n",
       "      <td>9759</td>\n",
       "      <td>B</td>\n",
       "    </tr>\n",
       "    <tr>\n",
       "      <th>4</th>\n",
       "      <td>2282983706</td>\n",
       "      <td>2322279887</td>\n",
       "      <td>2019-08-15</td>\n",
       "      <td>2308</td>\n",
       "      <td>B</td>\n",
       "    </tr>\n",
       "    <tr>\n",
       "      <th>...</th>\n",
       "      <td>...</td>\n",
       "      <td>...</td>\n",
       "      <td>...</td>\n",
       "      <td>...</td>\n",
       "      <td>...</td>\n",
       "    </tr>\n",
       "    <tr>\n",
       "      <th>1192</th>\n",
       "      <td>2662137336</td>\n",
       "      <td>3733762160</td>\n",
       "      <td>2019-08-14</td>\n",
       "      <td>6490</td>\n",
       "      <td>B</td>\n",
       "    </tr>\n",
       "    <tr>\n",
       "      <th>1193</th>\n",
       "      <td>2203539145</td>\n",
       "      <td>370388673</td>\n",
       "      <td>2019-08-14</td>\n",
       "      <td>3190</td>\n",
       "      <td>A</td>\n",
       "    </tr>\n",
       "    <tr>\n",
       "      <th>1194</th>\n",
       "      <td>1807773912</td>\n",
       "      <td>573423106</td>\n",
       "      <td>2019-08-14</td>\n",
       "      <td>10550</td>\n",
       "      <td>A</td>\n",
       "    </tr>\n",
       "    <tr>\n",
       "      <th>1195</th>\n",
       "      <td>1947021204</td>\n",
       "      <td>1614305549</td>\n",
       "      <td>2019-08-14</td>\n",
       "      <td>100</td>\n",
       "      <td>A</td>\n",
       "    </tr>\n",
       "    <tr>\n",
       "      <th>1196</th>\n",
       "      <td>3936777065</td>\n",
       "      <td>2108080724</td>\n",
       "      <td>2019-08-15</td>\n",
       "      <td>202740</td>\n",
       "      <td>B</td>\n",
       "    </tr>\n",
       "  </tbody>\n",
       "</table>\n",
       "<p>1197 rows × 5 columns</p>\n",
       "</div>"
      ],
      "text/plain": [
       "      transaction_id  visitor_id       date  revenue group\n",
       "0         3667963787  3312258926 2019-08-15     1650     B\n",
       "1         2804400009  3642806036 2019-08-15      730     B\n",
       "2         2961555356  4069496402 2019-08-15      400     A\n",
       "3         3797467345  1196621759 2019-08-15     9759     B\n",
       "4         2282983706  2322279887 2019-08-15     2308     B\n",
       "...              ...         ...        ...      ...   ...\n",
       "1192      2662137336  3733762160 2019-08-14     6490     B\n",
       "1193      2203539145   370388673 2019-08-14     3190     A\n",
       "1194      1807773912   573423106 2019-08-14    10550     A\n",
       "1195      1947021204  1614305549 2019-08-14      100     A\n",
       "1196      3936777065  2108080724 2019-08-15   202740     B\n",
       "\n",
       "[1197 rows x 5 columns]"
      ]
     },
     "execution_count": 36,
     "metadata": {},
     "output_type": "execute_result"
    }
   ],
   "source": [
    "orders"
   ]
  },
  {
   "cell_type": "code",
   "execution_count": 37,
   "metadata": {},
   "outputs": [],
   "source": [
    "# Создадим переменные ordersByUsersA и ordersByUsersB. В них для пользователей, которые заказывали \n",
    "# хотя бы 1 раз, укажем число совершённых заказов:\n",
    "\n",
    "ordersByUsersA = (\n",
    "    orders[orders['group'] == 'A']\n",
    "    .groupby('visitor_id', as_index=False)\n",
    "    .agg({'transaction_id': pd.Series.nunique})\n",
    ")\n",
    "ordersByUsersA.columns = ['visitor_id', 'orders']\n",
    "\n",
    "ordersByUsersB = (\n",
    "    orders[orders['group'] == 'B']\n",
    "    .groupby('visitor_id', as_index=False)\n",
    "    .agg({'transaction_id': pd.Series.nunique})\n",
    ")\n",
    "ordersByUsersB.columns = ['visitor_id', 'orders'] "
   ]
  },
  {
   "cell_type": "markdown",
   "metadata": {},
   "source": [
    "Объявим переменные sampleA и sampleB, в которых пользователям из разных групп будет соответствовать количество заказов. Тем, кто ничего не заказал, будут соответствовать нули.\n",
    "Таким образом, мы подготавливаем выборку к проверке **критерием Манна-Уитни**. Данный критерий выбираем для анализа, потому что он применим даже в том случае, если распределение ненормальное и в данных есть выбросы."
   ]
  },
  {
   "cell_type": "markdown",
   "metadata": {},
   "source": [
    "За критический уровень статистической значимости примем значение 0.05."
   ]
  },
  {
   "cell_type": "code",
   "execution_count": 38,
   "metadata": {},
   "outputs": [],
   "source": [
    "sampleA = (pd.concat([ordersByUsersA['orders'],pd.Series(0, index=np.arange(data['visitorsPerDateA'].\n",
    "                                     sum() - len(ordersByUsersA['orders'])), name='orders')],axis=0))\n",
    "\n",
    "sampleB = (pd.concat([ordersByUsersB['orders'],pd.Series(0, index=np.arange(data['visitorsPerDateB'].\n",
    "                                    sum() - len(ordersByUsersB['orders'])), name='orders')],axis=0)) "
   ]
  },
  {
   "cell_type": "code",
   "execution_count": 39,
   "metadata": {},
   "outputs": [
    {
     "name": "stdout",
     "output_type": "stream",
     "text": [
      "p-value: 0.017\n",
      "Прирост среднего числа заказов на посетителя группы В: 0.138\n"
     ]
    }
   ],
   "source": [
    "# Применим критерий и отформатируем p-value, округлив его до трёх знаков после запятой.\n",
    "print(\"p-value: {0:.3f}\".format(stats.mannwhitneyu(sampleA, sampleB)[1]))\n",
    "# Выведем относительный прирост среднего числа заказов на посетителя группы B: \n",
    "print(\"Прирост среднего числа заказов на посетителя группы В: {0:.3f}\".format(sampleB.mean() / sampleA.mean() - 1))"
   ]
  },
  {
   "cell_type": "markdown",
   "metadata": {},
   "source": [
    "Отвергаем нулевую гипотезу: по «сырым» данным различие в среднем количестве заказов на посетителя между группами есть."
   ]
  },
  {
   "cell_type": "markdown",
   "metadata": {},
   "source": [
    "Прирост среднего числа заказов на посетителя группы B - 13,8 %."
   ]
  },
  {
   "cell_type": "markdown",
   "metadata": {},
   "source": [
    "### Посчитаем статистическую значимость различий в среднем чеке заказа между группами по «сырым» данным"
   ]
  },
  {
   "cell_type": "markdown",
   "metadata": {},
   "source": [
    "Сформулируем гипотезы:\n",
    "- Нулевая: различий в среднем чеке заказа между группами нет;\n",
    "- Альтернативная: различия в среднем чеке заказа между группами есть."
   ]
  },
  {
   "cell_type": "markdown",
   "metadata": {},
   "source": [
    "Критический уровень статистической значимости остается тем же 0.05."
   ]
  },
  {
   "cell_type": "code",
   "execution_count": 40,
   "metadata": {},
   "outputs": [
    {
     "name": "stdout",
     "output_type": "stream",
     "text": [
      "p-value: 0.729\n",
      "Прирост среднего чека заказа группы В: 0.259\n"
     ]
    }
   ],
   "source": [
    "# Найдём относительные различия в среднем чеке между группами:\n",
    "(\n",
    "print('p-value: {0:.3f}'.format(stats.mannwhitneyu(orders[orders['group']=='A']['revenue'], \n",
    "                                                   orders[orders['group']=='B']['revenue'])[1]))\n",
    ")\n",
    "(\n",
    "print('Прирост среднего чека заказа группы В: {0:.3f}'.format(orders[orders['group']=='B']['revenue'].mean()/\n",
    "                                                                orders[orders['group']=='A']['revenue'].mean()-1))\n",
    ")    "
   ]
  },
  {
   "cell_type": "markdown",
   "metadata": {},
   "source": [
    "P-value значительно больше 0.05. Значит, причин отвергать нулевую гипотезу и считать, что в среднем чеке есть различия, нет. В то же время, средний чек группы B выше среднего чека группы A на 25,9 %."
   ]
  },
  {
   "cell_type": "markdown",
   "metadata": {},
   "source": [
    "### Посчитаем статистическую значимость различий в среднем количестве заказов на посетителя между группами по «очищенным» данным"
   ]
  },
  {
   "cell_type": "markdown",
   "metadata": {},
   "source": [
    "Узнаем, сколько всего аномальных пользователей атрибутом shape."
   ]
  },
  {
   "cell_type": "code",
   "execution_count": 41,
   "metadata": {
    "scrolled": true
   },
   "outputs": [
    {
     "name": "stdout",
     "output_type": "stream",
     "text": [
      "1099    148427295\n",
      "18      199603092\n",
      "928     204675465\n",
      "23      237748145\n",
      "37      249864742\n",
      "Name: visitor_id, dtype: int64\n",
      "Аномальные пользователи: 74\n",
      "Процент аномальных пользователей: 7.2\n"
     ]
    }
   ],
   "source": [
    "usersWithManyOrders = pd.concat(\n",
    "    [\n",
    "        ordersByUsersA[ordersByUsersA['orders'] > np.percentile(ordersByUsersA['orders'], 95)]['visitor_id'],\n",
    "        ordersByUsersB[ordersByUsersB['orders'] > np.percentile(ordersByUsersA['orders'], 95)]['visitor_id'],\n",
    "    ],\n",
    "    axis=0,\n",
    ")\n",
    "usersWithExpensiveOrders = orders[orders['revenue'] > np.percentile(orders['revenue'], 95)]['visitor_id']\n",
    "abnormalUsers = (\n",
    "    pd.concat([usersWithManyOrders, usersWithExpensiveOrders], axis=0)\n",
    "    .drop_duplicates()\n",
    "    .sort_values()\n",
    ")\n",
    "\n",
    "print(abnormalUsers.head(5))\n",
    "print('Аномальные пользователи:', abnormalUsers.shape[0])\n",
    "print('Процент аномальных пользователей:', round(abnormalUsers.shape[0]*100 / orders['visitor_id'].nunique(), 1))"
   ]
  },
  {
   "cell_type": "markdown",
   "metadata": {},
   "source": [
    "Всего получилось 74 аномальных пользователя, 7.2  % от общего числа пользователей, принявших участие в А/В тесте."
   ]
  },
  {
   "cell_type": "markdown",
   "metadata": {},
   "source": [
    "Посчитаем статистическую значимость различий в среднем количестве заказов между группами теста по очищенным данным. "
   ]
  },
  {
   "cell_type": "code",
   "execution_count": 42,
   "metadata": {},
   "outputs": [],
   "source": [
    "### Подготовим выборки количества заказов по пользователям по группам теста:\n",
    "sampleAFiltered = pd.concat(\n",
    "    [\n",
    "        ordersByUsersA[\n",
    "            np.logical_not(ordersByUsersA['visitor_id'].isin(abnormalUsers))\n",
    "        ]['orders'],\n",
    "        pd.Series(\n",
    "            0,\n",
    "            index=np.arange(\n",
    "                data['visitorsPerDateA'].sum() - len(ordersByUsersA['orders'])\n",
    "            ),\n",
    "            name='orders',\n",
    "        ),\n",
    "    ],\n",
    "    axis=0,\n",
    ")\n",
    "\n",
    "sampleBFiltered = pd.concat(\n",
    "    [\n",
    "        ordersByUsersB[\n",
    "            np.logical_not(ordersByUsersB['visitor_id'].isin(abnormalUsers))\n",
    "        ]['orders'],\n",
    "        pd.Series(\n",
    "            0,\n",
    "            index=np.arange(\n",
    "                data['visitorsPerDateB'].sum() - len(ordersByUsersB['orders'])\n",
    "            ),\n",
    "            name='orders',\n",
    "        ),\n",
    "    ],\n",
    "    axis=0,\n",
    ") "
   ]
  },
  {
   "cell_type": "code",
   "execution_count": 43,
   "metadata": {},
   "outputs": [
    {
     "name": "stdout",
     "output_type": "stream",
     "text": [
      "p-value: 0.013\n",
      "Прирост среднего числа заказов на посетителя группы В: 0.173\n"
     ]
    }
   ],
   "source": [
    "# Применим статистический критерий Манна-Уитни к полученным выборкам:\n",
    "print('p-value: {0:.3f}'.format(stats.mannwhitneyu(sampleAFiltered, sampleBFiltered)[1]))\n",
    "print('Прирост среднего числа заказов на посетителя группы В: {0:.3f}'.format(sampleBFiltered.mean()/sampleAFiltered.mean()-1)) "
   ]
  },
  {
   "cell_type": "markdown",
   "metadata": {},
   "source": [
    "Результаты по среднему количеству заказов на посетителя практически не изменились. \n",
    "Как оказалось, аномальные пользователи не повлияли на результаты теста.\n",
    "Как и в случае с «сырыми» данными, мы отвергаем нулевую гипотезу: по «очищенным» данным различие в среднем количестве заказов на посетителя между группами есть."
   ]
  },
  {
   "cell_type": "markdown",
   "metadata": {},
   "source": [
    "Прирост среднего числа заказов на посетителя группы B по «очищенным» данным несколько выше, чем по «сырым» - 17,3 %."
   ]
  },
  {
   "cell_type": "markdown",
   "metadata": {},
   "source": [
    "### Посчитаем статистическую значимость различий в среднем чеке заказа между группами по «очищенным» данным."
   ]
  },
  {
   "cell_type": "code",
   "execution_count": 44,
   "metadata": {},
   "outputs": [
    {
     "name": "stdout",
     "output_type": "stream",
     "text": [
      "p-value: 0.738\n",
      "Прирост среднего чека заказа группы В: -0.020\n"
     ]
    }
   ],
   "source": [
    "# Найдём относительные различия в среднем чеке между группами по «очищенным» данным:\n",
    "print(\n",
    "    'p-value: {0:.3f}'.format(\n",
    "        stats.mannwhitneyu(\n",
    "            orders[\n",
    "                np.logical_and(\n",
    "                    orders['group'] == 'A',\n",
    "                    np.logical_not(orders['visitor_id'].isin(abnormalUsers)),\n",
    "                )\n",
    "            ]['revenue'],\n",
    "            orders[\n",
    "                np.logical_and(\n",
    "                    orders['group'] == 'B',\n",
    "                    np.logical_not(orders['visitor_id'].isin(abnormalUsers)),\n",
    "                )\n",
    "            ]['revenue'],\n",
    "        )[1]\n",
    "    )\n",
    ")\n",
    "\n",
    "print(\n",
    "    \"Прирост среднего чека заказа группы В: {0:.3f}\".format(\n",
    "        orders[\n",
    "            np.logical_and(\n",
    "                orders['group'] == 'B',\n",
    "                np.logical_not(orders['visitor_id'].isin(abnormalUsers)),\n",
    "            )\n",
    "        ]['revenue'].mean()\n",
    "        / orders[\n",
    "            np.logical_and(\n",
    "                orders['group'] == 'A',\n",
    "                np.logical_not(orders['visitor_id'].isin(abnormalUsers)),\n",
    "            )\n",
    "        ]['revenue'].mean()\n",
    "        - 1\n",
    "    )\n",
    ") "
   ]
  },
  {
   "cell_type": "markdown",
   "metadata": {},
   "source": [
    "P-value по «очищенным» данным также значительно больше 0.05. Нулевую гипотезу, что в среднем чеке есть различия, отвергаем. В результате анализа очищенных данных оказалось, что средний чек группы B ниже среднего чека группы A на 2,0 %."
   ]
  },
  {
   "cell_type": "markdown",
   "metadata": {},
   "source": [
    "Выводы по разделу 3:\n",
    "\n",
    "- На основании графика кумулятивной выручки по группам можно сделать вывод, что в группе В выручка больше, чем в группе А;\n",
    "- На графике кумулятивного среднего чека по группам видно, что средний чек в группе В, больше чем группе А. Однако, на этом графике, а также на графике относительного изменения кумулятивного среднего чека группы B к группе A, где также наблюдается явное преимущество группы В, видны резкие всплески, что говорит нам о сильном влиянии аномалий - очень крупных заказах и выбросах; \n",
    "- На графиках кумулятивного среднего количества заказов на посетителя по группам и относительного изменения кумулятивного среднего количества заказов на посетителя группы B к группе A также можно зафиксировать значительное преимущество группы В над А, однако и здесь не стоит исключать наличия аномалий;\n",
    "- С помощью точечных графиков и расчетов перцентилей определены: граница аномальных заказов – 2 заказа и граница аномальной стоимости заказов – 28 000 руб;\n",
    "- Статистически значимое различие по среднему количеству заказов на посетителя между группами как по «сырым», так и по данным после фильтрации аномалий есть. Прирост среднего числа заказов группы B по «сырым» данным - 13,8 %, по «очищенным» данным – 17,3 %;\n",
    "- Нет статистически значимого различия по среднему чеку между группами ни по «сырым», ни по данным после фильтрации аномалий. В то же время средний чек группы B по «сырым» данным выше среднего чека группы A на 25,9 %, а по «очищенным» - ниже на 2 %. \n"
   ]
  },
  {
   "cell_type": "markdown",
   "metadata": {},
   "source": [
    "## Общий вывод"
   ]
  },
  {
   "cell_type": "markdown",
   "metadata": {},
   "source": [
    "- Исходные данные проверены на наличие пропусков и явных дубликатов, заголовки столбцов приведены к нижнему и «змеиному» регистрам, тип данных в столбцах с датой переведен в формат datetime, проведена приоритизация гипотез, определено, сколько групп в А/В тесте, сколько пользователей попало в обе группы одновременно и принято решение не удалять таких пользователей,т.к. их процент мал, выполнена приоритизация гипотез методами ICE и RICE, проведен А/В тест: определены границы аномальных пользователей и стоимости заказов, посчитана статистическая значимость различий в среднем количестве заказов на посетителя между группами и статистическая значимость различий в среднем чеке заказа между группами как по «сырым», так и «очищенным» данным."
   ]
  },
  {
   "cell_type": "markdown",
   "metadata": {},
   "source": [
    "- Самая перспективная гипотеза, которую можно порекомендовать после приоритизации всех гипотез по фреймворку ICE: *Запустить акцию, дающую скидку на товар в день рождения*. А самая перспективная гипотеза,  которую можно порекомендовать после приоритизации всех гипотез по фреймворку RICE, т.е. с учетом того, скольких пользователей затронет изменение: *Добавить форму подписки на все основные страницы, чтобы собрать базу клиентов для email-рассылок*."
   ]
  },
  {
   "cell_type": "markdown",
   "metadata": {},
   "source": [
    "- Статистически значимого различия по среднему чеку между группами как по «сырым» данным, так и после удаления аномалий нет. "
   ]
  },
  {
   "cell_type": "markdown",
   "metadata": {},
   "source": [
    "- Как по «сырым» так и по «очищенным» есть статистически значимое различие по среднему количеству заказов на посетителя между группами. Среднее число заказов на посетителя группы B больше, чем в группы А на 17,3 % (по «сырым» данным на 13,8 %)."
   ]
  },
  {
   "cell_type": "markdown",
   "metadata": {},
   "source": [
    "- График различия среднего количества заказов на посетителя между группами также подтверждает, что результаты группы B лучше группы A на протяжении всего теста: имеют тенденцию к росту, либо зафиксировались около среднего значения."
   ]
  },
  {
   "cell_type": "markdown",
   "metadata": {},
   "source": [
    "- Таким образом, можно принять решение об остановке теста и зафиксировать победу группы В."
   ]
  },
  {
   "cell_type": "markdown",
   "metadata": {},
   "source": [
    "- В дальнейшем рекомендуется более тщательно подходить к разделению пользователей на группы, чтобы один и тот же пользователь не попадал в обе группы одновременно,а также стараться набирать близкие по числу пользователей группы. "
   ]
  }
 ],
 "metadata": {
  "ExecuteTimeLog": [
   {
    "duration": 1297,
    "start_time": "2023-04-21T13:11:45.455Z"
   },
   {
    "duration": 236,
    "start_time": "2023-04-21T14:52:17.583Z"
   },
   {
    "duration": 12,
    "start_time": "2023-04-21T15:06:58.570Z"
   },
   {
    "duration": 97,
    "start_time": "2023-04-21T15:14:25.630Z"
   },
   {
    "duration": 11,
    "start_time": "2023-04-21T15:14:43.749Z"
   },
   {
    "duration": 7,
    "start_time": "2023-04-21T15:15:29.924Z"
   },
   {
    "duration": 8,
    "start_time": "2023-04-21T15:17:48.136Z"
   },
   {
    "duration": 19,
    "start_time": "2023-04-21T15:18:56.259Z"
   },
   {
    "duration": 24,
    "start_time": "2023-04-21T15:19:18.499Z"
   },
   {
    "duration": 11,
    "start_time": "2023-04-21T15:26:24.220Z"
   },
   {
    "duration": 10,
    "start_time": "2023-04-21T15:26:27.609Z"
   },
   {
    "duration": 11,
    "start_time": "2023-04-21T15:26:29.406Z"
   },
   {
    "duration": 3,
    "start_time": "2023-04-21T15:47:59.373Z"
   },
   {
    "duration": 6,
    "start_time": "2023-04-21T15:50:35.967Z"
   },
   {
    "duration": 6,
    "start_time": "2023-04-21T15:50:51.635Z"
   },
   {
    "duration": 7,
    "start_time": "2023-04-21T15:51:04.428Z"
   },
   {
    "duration": 6,
    "start_time": "2023-04-21T15:51:08.130Z"
   },
   {
    "duration": 6,
    "start_time": "2023-04-21T15:51:08.498Z"
   },
   {
    "duration": 7,
    "start_time": "2023-04-21T15:51:08.877Z"
   },
   {
    "duration": 49,
    "start_time": "2023-04-21T15:51:39.483Z"
   },
   {
    "duration": 8,
    "start_time": "2023-04-21T15:57:08.621Z"
   },
   {
    "duration": 5,
    "start_time": "2023-04-21T15:57:15.357Z"
   },
   {
    "duration": 6,
    "start_time": "2023-04-21T15:57:28.436Z"
   },
   {
    "duration": 5,
    "start_time": "2023-04-21T15:57:28.969Z"
   },
   {
    "duration": 42,
    "start_time": "2023-04-21T15:57:47.467Z"
   },
   {
    "duration": 3,
    "start_time": "2023-04-21T16:08:30.149Z"
   },
   {
    "duration": 5,
    "start_time": "2023-04-21T16:21:15.023Z"
   },
   {
    "duration": 4,
    "start_time": "2023-04-21T16:22:43.630Z"
   },
   {
    "duration": 8,
    "start_time": "2023-04-21T16:22:50.411Z"
   },
   {
    "duration": 20,
    "start_time": "2023-04-21T16:25:37.683Z"
   },
   {
    "duration": 13,
    "start_time": "2023-04-21T16:25:44.052Z"
   },
   {
    "duration": 16,
    "start_time": "2023-04-21T16:26:00.271Z"
   },
   {
    "duration": 12,
    "start_time": "2023-04-21T16:26:25.837Z"
   },
   {
    "duration": 4,
    "start_time": "2023-04-21T16:26:40.193Z"
   },
   {
    "duration": 8,
    "start_time": "2023-04-21T16:27:21.988Z"
   },
   {
    "duration": 8,
    "start_time": "2023-04-21T16:27:26.621Z"
   },
   {
    "duration": 9,
    "start_time": "2023-04-21T16:28:14.950Z"
   },
   {
    "duration": 2,
    "start_time": "2023-04-21T16:28:27.856Z"
   },
   {
    "duration": 7,
    "start_time": "2023-04-21T16:30:46.537Z"
   },
   {
    "duration": 9,
    "start_time": "2023-04-21T16:30:59.582Z"
   },
   {
    "duration": 6,
    "start_time": "2023-04-21T16:52:46.453Z"
   },
   {
    "duration": 10,
    "start_time": "2023-04-21T16:54:00.484Z"
   },
   {
    "duration": 11,
    "start_time": "2023-04-21T17:59:07.273Z"
   },
   {
    "duration": 9,
    "start_time": "2023-04-21T17:59:52.126Z"
   },
   {
    "duration": 4,
    "start_time": "2023-04-21T18:11:21.278Z"
   },
   {
    "duration": 9,
    "start_time": "2023-04-21T18:11:21.950Z"
   },
   {
    "duration": 9,
    "start_time": "2023-04-21T18:11:36.651Z"
   },
   {
    "duration": 4,
    "start_time": "2023-04-21T18:12:34.415Z"
   },
   {
    "duration": 58,
    "start_time": "2023-04-21T18:12:34.563Z"
   },
   {
    "duration": 202,
    "start_time": "2023-04-21T20:50:54.134Z"
   },
   {
    "duration": 1084,
    "start_time": "2023-04-21T20:51:09.147Z"
   },
   {
    "duration": 77,
    "start_time": "2023-04-21T20:51:10.233Z"
   },
   {
    "duration": 24,
    "start_time": "2023-04-21T20:51:10.312Z"
   },
   {
    "duration": 25,
    "start_time": "2023-04-21T20:51:10.337Z"
   },
   {
    "duration": 12,
    "start_time": "2023-04-21T20:51:10.364Z"
   },
   {
    "duration": 18,
    "start_time": "2023-04-21T20:51:10.377Z"
   },
   {
    "duration": 15,
    "start_time": "2023-04-21T20:51:10.396Z"
   },
   {
    "duration": 12,
    "start_time": "2023-04-21T20:51:10.413Z"
   },
   {
    "duration": 14,
    "start_time": "2023-04-21T20:51:10.426Z"
   },
   {
    "duration": 11,
    "start_time": "2023-04-21T20:51:10.441Z"
   },
   {
    "duration": 16,
    "start_time": "2023-04-21T20:51:10.453Z"
   },
   {
    "duration": 22,
    "start_time": "2023-04-21T20:51:10.471Z"
   },
   {
    "duration": 19,
    "start_time": "2023-04-21T20:51:10.494Z"
   },
   {
    "duration": 9,
    "start_time": "2023-04-21T20:51:10.516Z"
   },
   {
    "duration": 305,
    "start_time": "2023-04-21T20:51:10.526Z"
   },
   {
    "duration": 0,
    "start_time": "2023-04-21T20:51:10.833Z"
   },
   {
    "duration": 0,
    "start_time": "2023-04-21T20:51:10.835Z"
   },
   {
    "duration": 0,
    "start_time": "2023-04-21T20:51:10.836Z"
   },
   {
    "duration": 0,
    "start_time": "2023-04-21T20:51:10.837Z"
   },
   {
    "duration": 1204,
    "start_time": "2023-04-21T20:55:08.873Z"
   },
   {
    "duration": 81,
    "start_time": "2023-04-21T20:55:10.079Z"
   },
   {
    "duration": 36,
    "start_time": "2023-04-21T20:55:10.161Z"
   },
   {
    "duration": 14,
    "start_time": "2023-04-21T20:55:10.199Z"
   },
   {
    "duration": 16,
    "start_time": "2023-04-21T20:55:10.215Z"
   },
   {
    "duration": 19,
    "start_time": "2023-04-21T20:55:10.233Z"
   },
   {
    "duration": 12,
    "start_time": "2023-04-21T20:55:10.254Z"
   },
   {
    "duration": 29,
    "start_time": "2023-04-21T20:55:10.268Z"
   },
   {
    "duration": 19,
    "start_time": "2023-04-21T20:55:10.298Z"
   },
   {
    "duration": 14,
    "start_time": "2023-04-21T20:55:10.319Z"
   },
   {
    "duration": 15,
    "start_time": "2023-04-21T20:55:10.335Z"
   },
   {
    "duration": 6,
    "start_time": "2023-04-21T20:55:10.351Z"
   },
   {
    "duration": 14,
    "start_time": "2023-04-21T20:55:10.358Z"
   },
   {
    "duration": 20,
    "start_time": "2023-04-21T20:55:10.374Z"
   },
   {
    "duration": 311,
    "start_time": "2023-04-21T20:55:10.396Z"
   },
   {
    "duration": 0,
    "start_time": "2023-04-21T20:55:10.709Z"
   },
   {
    "duration": 0,
    "start_time": "2023-04-21T20:55:10.710Z"
   },
   {
    "duration": 0,
    "start_time": "2023-04-21T20:55:10.712Z"
   },
   {
    "duration": 0,
    "start_time": "2023-04-21T20:55:10.713Z"
   },
   {
    "duration": 1120,
    "start_time": "2023-04-21T20:55:30.873Z"
   },
   {
    "duration": 75,
    "start_time": "2023-04-21T20:55:31.995Z"
   },
   {
    "duration": 45,
    "start_time": "2023-04-21T20:55:32.074Z"
   },
   {
    "duration": 11,
    "start_time": "2023-04-21T20:55:32.121Z"
   },
   {
    "duration": 42,
    "start_time": "2023-04-21T20:55:32.133Z"
   },
   {
    "duration": 44,
    "start_time": "2023-04-21T20:55:32.176Z"
   },
   {
    "duration": 25,
    "start_time": "2023-04-21T20:55:32.221Z"
   },
   {
    "duration": 28,
    "start_time": "2023-04-21T20:55:32.248Z"
   },
   {
    "duration": 32,
    "start_time": "2023-04-21T20:55:32.278Z"
   },
   {
    "duration": 23,
    "start_time": "2023-04-21T20:55:32.311Z"
   },
   {
    "duration": 19,
    "start_time": "2023-04-21T20:55:32.335Z"
   },
   {
    "duration": 24,
    "start_time": "2023-04-21T20:55:32.355Z"
   },
   {
    "duration": 34,
    "start_time": "2023-04-21T20:55:32.381Z"
   },
   {
    "duration": 13,
    "start_time": "2023-04-21T20:55:32.416Z"
   },
   {
    "duration": 14,
    "start_time": "2023-04-21T20:55:32.430Z"
   },
   {
    "duration": 15,
    "start_time": "2023-04-21T20:55:32.446Z"
   },
   {
    "duration": 14,
    "start_time": "2023-04-21T20:55:32.463Z"
   },
   {
    "duration": 40,
    "start_time": "2023-04-21T20:55:32.479Z"
   },
   {
    "duration": 25,
    "start_time": "2023-04-21T20:55:32.521Z"
   },
   {
    "duration": 121,
    "start_time": "2023-04-21T21:00:03.647Z"
   },
   {
    "duration": 8,
    "start_time": "2023-04-21T21:00:56.753Z"
   },
   {
    "duration": 8,
    "start_time": "2023-04-21T21:02:48.397Z"
   },
   {
    "duration": 287,
    "start_time": "2023-04-21T21:05:38.180Z"
   },
   {
    "duration": 52,
    "start_time": "2023-04-22T10:57:15.122Z"
   },
   {
    "duration": 8,
    "start_time": "2023-04-22T10:57:25.136Z"
   },
   {
    "duration": 1208,
    "start_time": "2023-04-22T10:57:47.670Z"
   },
   {
    "duration": 186,
    "start_time": "2023-04-22T10:57:48.880Z"
   },
   {
    "duration": 28,
    "start_time": "2023-04-22T10:57:49.067Z"
   },
   {
    "duration": 10,
    "start_time": "2023-04-22T10:57:49.097Z"
   },
   {
    "duration": 23,
    "start_time": "2023-04-22T10:57:49.109Z"
   },
   {
    "duration": 17,
    "start_time": "2023-04-22T10:57:49.134Z"
   },
   {
    "duration": 22,
    "start_time": "2023-04-22T10:57:49.153Z"
   },
   {
    "duration": 16,
    "start_time": "2023-04-22T10:57:49.177Z"
   },
   {
    "duration": 39,
    "start_time": "2023-04-22T10:57:49.195Z"
   },
   {
    "duration": 21,
    "start_time": "2023-04-22T10:57:49.236Z"
   },
   {
    "duration": 26,
    "start_time": "2023-04-22T10:57:49.258Z"
   },
   {
    "duration": 11,
    "start_time": "2023-04-22T10:57:49.285Z"
   },
   {
    "duration": 14,
    "start_time": "2023-04-22T10:57:49.298Z"
   },
   {
    "duration": 14,
    "start_time": "2023-04-22T10:57:49.314Z"
   },
   {
    "duration": 7,
    "start_time": "2023-04-22T10:57:49.330Z"
   },
   {
    "duration": 22,
    "start_time": "2023-04-22T10:57:49.338Z"
   },
   {
    "duration": 13,
    "start_time": "2023-04-22T10:57:49.361Z"
   },
   {
    "duration": 12,
    "start_time": "2023-04-22T10:57:49.375Z"
   },
   {
    "duration": 11,
    "start_time": "2023-04-22T10:57:49.388Z"
   },
   {
    "duration": 17,
    "start_time": "2023-04-22T10:57:49.401Z"
   },
   {
    "duration": 21,
    "start_time": "2023-04-22T10:57:49.420Z"
   },
   {
    "duration": 267,
    "start_time": "2023-04-22T10:57:49.443Z"
   },
   {
    "duration": 312,
    "start_time": "2023-04-22T10:57:49.712Z"
   },
   {
    "duration": 240,
    "start_time": "2023-04-22T10:58:04.606Z"
   },
   {
    "duration": 218,
    "start_time": "2023-04-22T11:00:11.409Z"
   },
   {
    "duration": 258,
    "start_time": "2023-04-22T11:00:25.047Z"
   },
   {
    "duration": 212,
    "start_time": "2023-04-22T11:00:32.503Z"
   },
   {
    "duration": 209,
    "start_time": "2023-04-22T11:00:40.306Z"
   },
   {
    "duration": 229,
    "start_time": "2023-04-22T11:00:59.695Z"
   },
   {
    "duration": 267,
    "start_time": "2023-04-22T11:01:09.509Z"
   },
   {
    "duration": 209,
    "start_time": "2023-04-22T11:01:18.438Z"
   },
   {
    "duration": 299,
    "start_time": "2023-04-22T11:02:00.750Z"
   },
   {
    "duration": 217,
    "start_time": "2023-04-22T11:02:08.538Z"
   },
   {
    "duration": 207,
    "start_time": "2023-04-22T11:02:21.704Z"
   },
   {
    "duration": 227,
    "start_time": "2023-04-22T11:03:17.155Z"
   },
   {
    "duration": 336,
    "start_time": "2023-04-22T11:04:30.865Z"
   },
   {
    "duration": 236,
    "start_time": "2023-04-22T11:06:43.871Z"
   },
   {
    "duration": 223,
    "start_time": "2023-04-22T11:07:16.951Z"
   },
   {
    "duration": 210,
    "start_time": "2023-04-22T11:09:14.909Z"
   },
   {
    "duration": 259,
    "start_time": "2023-04-22T11:09:24.405Z"
   },
   {
    "duration": 204,
    "start_time": "2023-04-22T11:10:09.197Z"
   },
   {
    "duration": 227,
    "start_time": "2023-04-22T11:10:18.898Z"
   },
   {
    "duration": 157,
    "start_time": "2023-04-22T11:15:36.105Z"
   },
   {
    "duration": 94,
    "start_time": "2023-04-22T11:15:50.380Z"
   },
   {
    "duration": 234,
    "start_time": "2023-04-22T11:15:57.380Z"
   },
   {
    "duration": 235,
    "start_time": "2023-04-22T11:16:03.842Z"
   },
   {
    "duration": 260,
    "start_time": "2023-04-22T11:16:56.139Z"
   },
   {
    "duration": 315,
    "start_time": "2023-04-22T11:17:05.705Z"
   },
   {
    "duration": 302,
    "start_time": "2023-04-22T11:17:21.189Z"
   },
   {
    "duration": 292,
    "start_time": "2023-04-22T11:17:37.460Z"
   },
   {
    "duration": 295,
    "start_time": "2023-04-22T11:17:45.411Z"
   },
   {
    "duration": 277,
    "start_time": "2023-04-22T11:20:05.585Z"
   },
   {
    "duration": 3,
    "start_time": "2023-04-22T11:35:27.480Z"
   },
   {
    "duration": 307,
    "start_time": "2023-04-22T11:37:41.136Z"
   },
   {
    "duration": 279,
    "start_time": "2023-04-22T13:14:04.022Z"
   },
   {
    "duration": 404,
    "start_time": "2023-04-22T13:14:34.219Z"
   },
   {
    "duration": 246,
    "start_time": "2023-04-22T13:28:29.135Z"
   },
   {
    "duration": 315,
    "start_time": "2023-04-22T13:30:35.703Z"
   },
   {
    "duration": 49,
    "start_time": "2023-04-22T19:08:54.559Z"
   },
   {
    "duration": 1376,
    "start_time": "2023-04-22T19:09:06.993Z"
   },
   {
    "duration": 224,
    "start_time": "2023-04-22T19:09:08.371Z"
   },
   {
    "duration": 47,
    "start_time": "2023-04-22T19:09:08.597Z"
   },
   {
    "duration": 11,
    "start_time": "2023-04-22T19:09:08.646Z"
   },
   {
    "duration": 28,
    "start_time": "2023-04-22T19:09:08.659Z"
   },
   {
    "duration": 35,
    "start_time": "2023-04-22T19:09:08.689Z"
   },
   {
    "duration": 32,
    "start_time": "2023-04-22T19:09:08.726Z"
   },
   {
    "duration": 15,
    "start_time": "2023-04-22T19:09:08.760Z"
   },
   {
    "duration": 12,
    "start_time": "2023-04-22T19:09:08.776Z"
   },
   {
    "duration": 15,
    "start_time": "2023-04-22T19:09:08.790Z"
   },
   {
    "duration": 33,
    "start_time": "2023-04-22T19:09:08.807Z"
   },
   {
    "duration": 11,
    "start_time": "2023-04-22T19:09:08.842Z"
   },
   {
    "duration": 10,
    "start_time": "2023-04-22T19:09:08.855Z"
   },
   {
    "duration": 12,
    "start_time": "2023-04-22T19:09:08.868Z"
   },
   {
    "duration": 12,
    "start_time": "2023-04-22T19:09:08.882Z"
   },
   {
    "duration": 15,
    "start_time": "2023-04-22T19:09:08.895Z"
   },
   {
    "duration": 4,
    "start_time": "2023-04-22T19:09:08.912Z"
   },
   {
    "duration": 37,
    "start_time": "2023-04-22T19:09:08.918Z"
   },
   {
    "duration": 14,
    "start_time": "2023-04-22T19:09:08.956Z"
   },
   {
    "duration": 21,
    "start_time": "2023-04-22T19:09:08.972Z"
   },
   {
    "duration": 328,
    "start_time": "2023-04-22T19:09:08.995Z"
   },
   {
    "duration": 466,
    "start_time": "2023-04-22T19:09:09.325Z"
   },
   {
    "duration": 332,
    "start_time": "2023-04-22T19:09:09.793Z"
   },
   {
    "duration": 509,
    "start_time": "2023-04-22T19:09:10.128Z"
   },
   {
    "duration": 281,
    "start_time": "2023-04-22T19:09:10.645Z"
   },
   {
    "duration": 127,
    "start_time": "2023-04-22T19:12:32.674Z"
   },
   {
    "duration": 10,
    "start_time": "2023-04-22T19:13:08.259Z"
   },
   {
    "duration": 23,
    "start_time": "2023-04-22T19:13:36.636Z"
   },
   {
    "duration": 11,
    "start_time": "2023-04-22T19:15:17.175Z"
   },
   {
    "duration": 13,
    "start_time": "2023-04-22T19:15:42.855Z"
   },
   {
    "duration": 17,
    "start_time": "2023-04-22T19:16:31.728Z"
   },
   {
    "duration": 20,
    "start_time": "2023-04-22T19:29:33.035Z"
   },
   {
    "duration": 4,
    "start_time": "2023-04-22T19:30:39.400Z"
   },
   {
    "duration": 9,
    "start_time": "2023-04-22T19:31:49.300Z"
   },
   {
    "duration": 15,
    "start_time": "2023-04-22T19:32:18.788Z"
   },
   {
    "duration": 12,
    "start_time": "2023-04-22T19:32:24.140Z"
   },
   {
    "duration": 9,
    "start_time": "2023-04-22T19:32:29.460Z"
   },
   {
    "duration": 12,
    "start_time": "2023-04-22T19:42:20.372Z"
   },
   {
    "duration": 9,
    "start_time": "2023-04-22T19:42:33.778Z"
   },
   {
    "duration": 11,
    "start_time": "2023-04-22T19:50:58.674Z"
   },
   {
    "duration": 33,
    "start_time": "2023-04-22T19:59:56.707Z"
   },
   {
    "duration": 12,
    "start_time": "2023-04-22T20:00:02.804Z"
   },
   {
    "duration": 34,
    "start_time": "2023-04-22T20:03:01.714Z"
   },
   {
    "duration": 12,
    "start_time": "2023-04-22T20:21:44.741Z"
   },
   {
    "duration": 1286,
    "start_time": "2023-04-22T20:32:21.900Z"
   },
   {
    "duration": 88,
    "start_time": "2023-04-22T20:32:23.189Z"
   },
   {
    "duration": 28,
    "start_time": "2023-04-22T20:32:23.278Z"
   },
   {
    "duration": 17,
    "start_time": "2023-04-22T20:32:23.308Z"
   },
   {
    "duration": 50,
    "start_time": "2023-04-22T20:32:23.331Z"
   },
   {
    "duration": 42,
    "start_time": "2023-04-22T20:32:23.383Z"
   },
   {
    "duration": 53,
    "start_time": "2023-04-22T20:32:23.429Z"
   },
   {
    "duration": 27,
    "start_time": "2023-04-22T20:32:23.483Z"
   },
   {
    "duration": 42,
    "start_time": "2023-04-22T20:32:23.512Z"
   },
   {
    "duration": 13,
    "start_time": "2023-04-22T20:32:23.557Z"
   },
   {
    "duration": 35,
    "start_time": "2023-04-22T20:32:23.572Z"
   },
   {
    "duration": 47,
    "start_time": "2023-04-22T20:32:23.610Z"
   },
   {
    "duration": 20,
    "start_time": "2023-04-22T20:32:23.659Z"
   },
   {
    "duration": 42,
    "start_time": "2023-04-22T20:32:23.680Z"
   },
   {
    "duration": 46,
    "start_time": "2023-04-22T20:32:23.724Z"
   },
   {
    "duration": 39,
    "start_time": "2023-04-22T20:32:23.772Z"
   },
   {
    "duration": 44,
    "start_time": "2023-04-22T20:32:23.813Z"
   },
   {
    "duration": 10,
    "start_time": "2023-04-22T20:32:23.859Z"
   },
   {
    "duration": 13,
    "start_time": "2023-04-22T20:32:23.870Z"
   },
   {
    "duration": 32,
    "start_time": "2023-04-22T20:32:23.884Z"
   },
   {
    "duration": 32,
    "start_time": "2023-04-22T20:32:23.929Z"
   },
   {
    "duration": 9,
    "start_time": "2023-04-22T20:32:23.962Z"
   },
   {
    "duration": 21,
    "start_time": "2023-04-22T20:32:23.973Z"
   },
   {
    "duration": 331,
    "start_time": "2023-04-22T20:32:23.995Z"
   },
   {
    "duration": 499,
    "start_time": "2023-04-22T20:32:24.327Z"
   },
   {
    "duration": 344,
    "start_time": "2023-04-22T20:32:24.828Z"
   },
   {
    "duration": 513,
    "start_time": "2023-04-22T20:32:25.174Z"
   },
   {
    "duration": 313,
    "start_time": "2023-04-22T20:32:25.690Z"
   },
   {
    "duration": 425,
    "start_time": "2023-04-22T20:33:58.457Z"
   },
   {
    "duration": 5,
    "start_time": "2023-04-22T20:37:17.364Z"
   },
   {
    "duration": 315,
    "start_time": "2023-04-22T20:37:27.050Z"
   },
   {
    "duration": 318,
    "start_time": "2023-04-22T20:37:38.875Z"
   },
   {
    "duration": 312,
    "start_time": "2023-04-22T20:37:55.500Z"
   },
   {
    "duration": 1181,
    "start_time": "2023-04-22T20:39:48.505Z"
   },
   {
    "duration": 95,
    "start_time": "2023-04-22T20:39:49.689Z"
   },
   {
    "duration": 28,
    "start_time": "2023-04-22T20:39:49.786Z"
   },
   {
    "duration": 21,
    "start_time": "2023-04-22T20:39:49.815Z"
   },
   {
    "duration": 47,
    "start_time": "2023-04-22T20:39:49.839Z"
   },
   {
    "duration": 17,
    "start_time": "2023-04-22T20:39:49.888Z"
   },
   {
    "duration": 48,
    "start_time": "2023-04-22T20:39:49.906Z"
   },
   {
    "duration": 14,
    "start_time": "2023-04-22T20:39:49.956Z"
   },
   {
    "duration": 17,
    "start_time": "2023-04-22T20:39:49.972Z"
   },
   {
    "duration": 12,
    "start_time": "2023-04-22T20:39:49.991Z"
   },
   {
    "duration": 9,
    "start_time": "2023-04-22T20:39:50.005Z"
   },
   {
    "duration": 36,
    "start_time": "2023-04-22T20:39:50.016Z"
   },
   {
    "duration": 14,
    "start_time": "2023-04-22T20:39:50.053Z"
   },
   {
    "duration": 11,
    "start_time": "2023-04-22T20:39:50.071Z"
   },
   {
    "duration": 22,
    "start_time": "2023-04-22T20:39:50.084Z"
   },
   {
    "duration": 21,
    "start_time": "2023-04-22T20:39:50.108Z"
   },
   {
    "duration": 31,
    "start_time": "2023-04-22T20:39:50.131Z"
   },
   {
    "duration": 4,
    "start_time": "2023-04-22T20:39:50.164Z"
   },
   {
    "duration": 16,
    "start_time": "2023-04-22T20:39:50.170Z"
   },
   {
    "duration": 8,
    "start_time": "2023-04-22T20:39:50.188Z"
   },
   {
    "duration": 13,
    "start_time": "2023-04-22T20:39:50.197Z"
   },
   {
    "duration": 33,
    "start_time": "2023-04-22T20:39:50.212Z"
   },
   {
    "duration": 25,
    "start_time": "2023-04-22T20:39:50.247Z"
   },
   {
    "duration": 320,
    "start_time": "2023-04-22T20:39:50.274Z"
   },
   {
    "duration": 479,
    "start_time": "2023-04-22T20:39:50.596Z"
   },
   {
    "duration": 361,
    "start_time": "2023-04-22T20:39:51.077Z"
   },
   {
    "duration": 445,
    "start_time": "2023-04-22T20:39:51.440Z"
   },
   {
    "duration": 313,
    "start_time": "2023-04-22T20:39:51.887Z"
   },
   {
    "duration": 284,
    "start_time": "2023-04-22T20:40:17.657Z"
   },
   {
    "duration": 297,
    "start_time": "2023-04-22T20:40:28.050Z"
   },
   {
    "duration": 273,
    "start_time": "2023-04-22T20:40:37.841Z"
   },
   {
    "duration": 346,
    "start_time": "2023-04-22T21:06:06.693Z"
   },
   {
    "duration": 1226,
    "start_time": "2023-04-22T21:34:25.439Z"
   },
   {
    "duration": 102,
    "start_time": "2023-04-22T21:34:26.668Z"
   },
   {
    "duration": 27,
    "start_time": "2023-04-22T21:34:26.772Z"
   },
   {
    "duration": 22,
    "start_time": "2023-04-22T21:34:26.801Z"
   },
   {
    "duration": 93,
    "start_time": "2023-04-22T21:34:26.830Z"
   },
   {
    "duration": 64,
    "start_time": "2023-04-22T21:34:26.933Z"
   },
   {
    "duration": 62,
    "start_time": "2023-04-22T21:34:26.999Z"
   },
   {
    "duration": 25,
    "start_time": "2023-04-22T21:34:27.063Z"
   },
   {
    "duration": 63,
    "start_time": "2023-04-22T21:34:27.089Z"
   },
   {
    "duration": 47,
    "start_time": "2023-04-22T21:34:27.155Z"
   },
   {
    "duration": 117,
    "start_time": "2023-04-22T21:34:27.204Z"
   },
   {
    "duration": 101,
    "start_time": "2023-04-22T21:34:27.325Z"
   },
   {
    "duration": 68,
    "start_time": "2023-04-22T21:34:27.427Z"
   },
   {
    "duration": 81,
    "start_time": "2023-04-22T21:34:27.498Z"
   },
   {
    "duration": 34,
    "start_time": "2023-04-22T21:34:27.580Z"
   },
   {
    "duration": 93,
    "start_time": "2023-04-22T21:34:27.616Z"
   },
   {
    "duration": 60,
    "start_time": "2023-04-22T21:34:27.711Z"
   },
   {
    "duration": 43,
    "start_time": "2023-04-22T21:34:27.773Z"
   },
   {
    "duration": 72,
    "start_time": "2023-04-22T21:34:27.820Z"
   },
   {
    "duration": 4,
    "start_time": "2023-04-22T21:34:27.894Z"
   },
   {
    "duration": 72,
    "start_time": "2023-04-22T21:34:27.900Z"
   },
   {
    "duration": 92,
    "start_time": "2023-04-22T21:34:27.974Z"
   },
   {
    "duration": 35,
    "start_time": "2023-04-22T21:34:28.068Z"
   },
   {
    "duration": 405,
    "start_time": "2023-04-22T21:34:28.105Z"
   },
   {
    "duration": 495,
    "start_time": "2023-04-22T21:34:28.512Z"
   },
   {
    "duration": 363,
    "start_time": "2023-04-22T21:34:29.009Z"
   },
   {
    "duration": 424,
    "start_time": "2023-04-22T21:34:29.374Z"
   },
   {
    "duration": 339,
    "start_time": "2023-04-22T21:34:29.800Z"
   },
   {
    "duration": 310,
    "start_time": "2023-04-22T21:36:15.293Z"
   },
   {
    "duration": 360,
    "start_time": "2023-04-22T21:37:01.752Z"
   },
   {
    "duration": 380,
    "start_time": "2023-04-22T21:39:14.952Z"
   },
   {
    "duration": 412,
    "start_time": "2023-04-22T21:40:12.041Z"
   },
   {
    "duration": 444,
    "start_time": "2023-04-22T21:40:20.899Z"
   },
   {
    "duration": 465,
    "start_time": "2023-04-22T21:40:37.041Z"
   },
   {
    "duration": 80,
    "start_time": "2023-04-22T21:43:23.102Z"
   },
   {
    "duration": 110,
    "start_time": "2023-04-22T21:44:51.176Z"
   },
   {
    "duration": 14,
    "start_time": "2023-04-22T21:45:21.637Z"
   },
   {
    "duration": 15,
    "start_time": "2023-04-22T21:45:32.049Z"
   },
   {
    "duration": 422,
    "start_time": "2023-04-22T21:45:50.615Z"
   },
   {
    "duration": 372,
    "start_time": "2023-04-22T21:46:21.461Z"
   },
   {
    "duration": 363,
    "start_time": "2023-04-22T21:46:33.010Z"
   },
   {
    "duration": 381,
    "start_time": "2023-04-22T21:46:47.599Z"
   },
   {
    "duration": 384,
    "start_time": "2023-04-22T21:47:34.399Z"
   },
   {
    "duration": 454,
    "start_time": "2023-04-22T21:49:24.316Z"
   },
   {
    "duration": 486,
    "start_time": "2023-04-22T21:49:46.498Z"
   },
   {
    "duration": 444,
    "start_time": "2023-04-22T21:50:48.243Z"
   },
   {
    "duration": 499,
    "start_time": "2023-04-22T21:51:06.397Z"
   },
   {
    "duration": 470,
    "start_time": "2023-04-22T22:43:35.745Z"
   },
   {
    "duration": 503,
    "start_time": "2023-04-22T22:43:49.106Z"
   },
   {
    "duration": 2,
    "start_time": "2023-04-22T23:18:39.659Z"
   },
   {
    "duration": 9,
    "start_time": "2023-04-22T23:20:34.820Z"
   },
   {
    "duration": 9,
    "start_time": "2023-04-22T23:29:58.008Z"
   },
   {
    "duration": 8,
    "start_time": "2023-04-22T23:30:23.702Z"
   },
   {
    "duration": 254,
    "start_time": "2023-04-22T23:30:34.551Z"
   },
   {
    "duration": 166,
    "start_time": "2023-04-22T23:30:50.712Z"
   },
   {
    "duration": 4,
    "start_time": "2023-04-22T23:32:08.233Z"
   },
   {
    "duration": 169,
    "start_time": "2023-04-22T23:35:39.745Z"
   },
   {
    "duration": 235,
    "start_time": "2023-04-22T23:36:21.676Z"
   },
   {
    "duration": 2,
    "start_time": "2023-04-22T23:40:23.863Z"
   },
   {
    "duration": 4,
    "start_time": "2023-04-22T23:41:07.077Z"
   },
   {
    "duration": 3,
    "start_time": "2023-04-22T23:41:42.446Z"
   },
   {
    "duration": 13,
    "start_time": "2023-04-22T23:43:14.579Z"
   },
   {
    "duration": 10,
    "start_time": "2023-04-22T23:44:59.446Z"
   },
   {
    "duration": 10,
    "start_time": "2023-04-22T23:45:13.621Z"
   },
   {
    "duration": 142,
    "start_time": "2023-04-22T23:45:58.849Z"
   },
   {
    "duration": 141,
    "start_time": "2023-04-22T23:46:02.621Z"
   },
   {
    "duration": 173,
    "start_time": "2023-04-22T23:49:12.722Z"
   },
   {
    "duration": 210,
    "start_time": "2023-04-22T23:49:35.825Z"
   },
   {
    "duration": 4,
    "start_time": "2023-04-22T23:51:46.279Z"
   },
   {
    "duration": 5,
    "start_time": "2023-04-22T23:59:42.720Z"
   },
   {
    "duration": 71,
    "start_time": "2023-04-23T10:51:23.479Z"
   },
   {
    "duration": 1541,
    "start_time": "2023-04-23T10:51:32.971Z"
   },
   {
    "duration": 224,
    "start_time": "2023-04-23T10:51:34.514Z"
   },
   {
    "duration": 34,
    "start_time": "2023-04-23T10:51:34.740Z"
   },
   {
    "duration": 24,
    "start_time": "2023-04-23T10:51:34.776Z"
   },
   {
    "duration": 20,
    "start_time": "2023-04-23T10:51:34.805Z"
   },
   {
    "duration": 24,
    "start_time": "2023-04-23T10:51:34.827Z"
   },
   {
    "duration": 22,
    "start_time": "2023-04-23T10:51:34.853Z"
   },
   {
    "duration": 42,
    "start_time": "2023-04-23T10:51:34.876Z"
   },
   {
    "duration": 19,
    "start_time": "2023-04-23T10:51:34.920Z"
   },
   {
    "duration": 27,
    "start_time": "2023-04-23T10:51:34.942Z"
   },
   {
    "duration": 12,
    "start_time": "2023-04-23T10:51:34.971Z"
   },
   {
    "duration": 9,
    "start_time": "2023-04-23T10:51:34.985Z"
   },
   {
    "duration": 11,
    "start_time": "2023-04-23T10:51:34.996Z"
   },
   {
    "duration": 30,
    "start_time": "2023-04-23T10:51:35.009Z"
   },
   {
    "duration": 8,
    "start_time": "2023-04-23T10:51:35.042Z"
   },
   {
    "duration": 22,
    "start_time": "2023-04-23T10:51:35.053Z"
   },
   {
    "duration": 15,
    "start_time": "2023-04-23T10:51:35.078Z"
   },
   {
    "duration": 14,
    "start_time": "2023-04-23T10:51:35.095Z"
   },
   {
    "duration": 12,
    "start_time": "2023-04-23T10:51:35.111Z"
   },
   {
    "duration": 5,
    "start_time": "2023-04-23T10:51:35.125Z"
   },
   {
    "duration": 13,
    "start_time": "2023-04-23T10:51:35.131Z"
   },
   {
    "duration": 21,
    "start_time": "2023-04-23T10:51:35.145Z"
   },
   {
    "duration": 13,
    "start_time": "2023-04-23T10:51:35.167Z"
   },
   {
    "duration": 314,
    "start_time": "2023-04-23T10:51:35.200Z"
   },
   {
    "duration": 467,
    "start_time": "2023-04-23T10:51:35.515Z"
   },
   {
    "duration": 348,
    "start_time": "2023-04-23T10:51:35.985Z"
   },
   {
    "duration": 465,
    "start_time": "2023-04-23T10:51:36.335Z"
   },
   {
    "duration": 372,
    "start_time": "2023-04-23T10:51:36.814Z"
   },
   {
    "duration": 442,
    "start_time": "2023-04-23T10:51:37.190Z"
   },
   {
    "duration": 10,
    "start_time": "2023-04-23T10:51:37.634Z"
   },
   {
    "duration": 282,
    "start_time": "2023-04-23T10:51:37.646Z"
   },
   {
    "duration": 5,
    "start_time": "2023-04-23T10:51:37.930Z"
   },
   {
    "duration": 290,
    "start_time": "2023-04-23T10:51:37.937Z"
   },
   {
    "duration": 344,
    "start_time": "2023-04-23T10:51:38.229Z"
   },
   {
    "duration": 0,
    "start_time": "2023-04-23T10:51:38.574Z"
   },
   {
    "duration": 309,
    "start_time": "2023-04-23T10:51:51.432Z"
   },
   {
    "duration": 308,
    "start_time": "2023-04-23T10:57:25.106Z"
   },
   {
    "duration": 241,
    "start_time": "2023-04-23T11:10:04.750Z"
   },
   {
    "duration": 328,
    "start_time": "2023-04-23T11:10:21.688Z"
   },
   {
    "duration": 13,
    "start_time": "2023-04-23T11:10:45.116Z"
   },
   {
    "duration": 233,
    "start_time": "2023-04-23T11:17:52.427Z"
   },
   {
    "duration": 245,
    "start_time": "2023-04-23T11:20:12.516Z"
   },
   {
    "duration": 271,
    "start_time": "2023-04-23T11:20:23.628Z"
   },
   {
    "duration": 297,
    "start_time": "2023-04-23T11:20:30.133Z"
   },
   {
    "duration": 298,
    "start_time": "2023-04-23T11:20:42.716Z"
   },
   {
    "duration": 294,
    "start_time": "2023-04-23T11:20:51.966Z"
   },
   {
    "duration": 301,
    "start_time": "2023-04-23T11:21:17.145Z"
   },
   {
    "duration": 11,
    "start_time": "2023-04-23T11:21:35.921Z"
   },
   {
    "duration": 245,
    "start_time": "2023-04-23T11:24:30.953Z"
   },
   {
    "duration": 237,
    "start_time": "2023-04-23T11:24:40.741Z"
   },
   {
    "duration": 11,
    "start_time": "2023-04-23T12:04:43.973Z"
   },
   {
    "duration": 13,
    "start_time": "2023-04-23T12:25:48.963Z"
   },
   {
    "duration": 1257,
    "start_time": "2023-04-23T16:58:41.231Z"
   },
   {
    "duration": 201,
    "start_time": "2023-04-23T16:58:42.490Z"
   },
   {
    "duration": 28,
    "start_time": "2023-04-23T16:58:42.693Z"
   },
   {
    "duration": 10,
    "start_time": "2023-04-23T16:58:42.723Z"
   },
   {
    "duration": 35,
    "start_time": "2023-04-23T16:58:42.734Z"
   },
   {
    "duration": 12,
    "start_time": "2023-04-23T16:58:42.770Z"
   },
   {
    "duration": 7,
    "start_time": "2023-04-23T16:58:42.784Z"
   },
   {
    "duration": 17,
    "start_time": "2023-04-23T16:58:42.793Z"
   },
   {
    "duration": 8,
    "start_time": "2023-04-23T16:58:42.811Z"
   },
   {
    "duration": 7,
    "start_time": "2023-04-23T16:58:42.822Z"
   },
   {
    "duration": 19,
    "start_time": "2023-04-23T16:58:42.830Z"
   },
   {
    "duration": 4,
    "start_time": "2023-04-23T16:58:42.851Z"
   },
   {
    "duration": 19,
    "start_time": "2023-04-23T16:58:42.857Z"
   },
   {
    "duration": 20,
    "start_time": "2023-04-23T16:58:42.877Z"
   },
   {
    "duration": 9,
    "start_time": "2023-04-23T16:58:42.899Z"
   },
   {
    "duration": 12,
    "start_time": "2023-04-23T16:58:42.909Z"
   },
   {
    "duration": 11,
    "start_time": "2023-04-23T16:58:42.923Z"
   },
   {
    "duration": 5,
    "start_time": "2023-04-23T16:58:42.949Z"
   },
   {
    "duration": 13,
    "start_time": "2023-04-23T16:58:42.955Z"
   },
   {
    "duration": 4,
    "start_time": "2023-04-23T16:58:42.969Z"
   },
   {
    "duration": 10,
    "start_time": "2023-04-23T16:58:42.975Z"
   },
   {
    "duration": 5,
    "start_time": "2023-04-23T16:58:42.987Z"
   },
   {
    "duration": 15,
    "start_time": "2023-04-23T16:58:42.994Z"
   },
   {
    "duration": 345,
    "start_time": "2023-04-23T16:58:43.011Z"
   },
   {
    "duration": 402,
    "start_time": "2023-04-23T16:58:43.358Z"
   },
   {
    "duration": 305,
    "start_time": "2023-04-23T16:58:43.762Z"
   },
   {
    "duration": 452,
    "start_time": "2023-04-23T16:58:44.068Z"
   },
   {
    "duration": 350,
    "start_time": "2023-04-23T16:58:44.523Z"
   },
   {
    "duration": 423,
    "start_time": "2023-04-23T16:58:44.875Z"
   },
   {
    "duration": 12,
    "start_time": "2023-04-23T16:58:45.299Z"
   },
   {
    "duration": 220,
    "start_time": "2023-04-23T16:58:45.313Z"
   },
   {
    "duration": 4,
    "start_time": "2023-04-23T16:58:45.535Z"
   },
   {
    "duration": 224,
    "start_time": "2023-04-23T16:58:45.548Z"
   },
   {
    "duration": 250,
    "start_time": "2023-04-23T16:58:45.774Z"
   },
   {
    "duration": 5,
    "start_time": "2023-04-23T16:58:46.026Z"
   },
   {
    "duration": 21,
    "start_time": "2023-04-23T16:58:46.033Z"
   },
   {
    "duration": 13,
    "start_time": "2023-04-23T16:58:46.055Z"
   },
   {
    "duration": 216,
    "start_time": "2023-04-23T16:58:46.070Z"
   },
   {
    "duration": 207,
    "start_time": "2023-04-23T17:03:07.105Z"
   },
   {
    "duration": 12,
    "start_time": "2023-04-23T17:05:47.716Z"
   },
   {
    "duration": 156,
    "start_time": "2023-04-23T17:07:43.105Z"
   },
   {
    "duration": 153,
    "start_time": "2023-04-23T17:18:10.749Z"
   },
   {
    "duration": 8,
    "start_time": "2023-04-23T17:32:04.324Z"
   },
   {
    "duration": 3,
    "start_time": "2023-04-23T17:34:43.588Z"
   },
   {
    "duration": 6,
    "start_time": "2023-04-23T17:40:24.970Z"
   },
   {
    "duration": 1050,
    "start_time": "2023-04-23T18:34:14.010Z"
   },
   {
    "duration": 83,
    "start_time": "2023-04-23T18:34:15.063Z"
   },
   {
    "duration": 27,
    "start_time": "2023-04-23T18:34:15.148Z"
   },
   {
    "duration": 13,
    "start_time": "2023-04-23T18:34:15.178Z"
   },
   {
    "duration": 16,
    "start_time": "2023-04-23T18:34:15.193Z"
   },
   {
    "duration": 45,
    "start_time": "2023-04-23T18:34:15.211Z"
   },
   {
    "duration": 17,
    "start_time": "2023-04-23T18:34:15.258Z"
   },
   {
    "duration": 22,
    "start_time": "2023-04-23T18:34:15.277Z"
   },
   {
    "duration": 26,
    "start_time": "2023-04-23T18:34:15.301Z"
   },
   {
    "duration": 19,
    "start_time": "2023-04-23T18:34:15.330Z"
   },
   {
    "duration": 14,
    "start_time": "2023-04-23T18:34:15.351Z"
   },
   {
    "duration": 22,
    "start_time": "2023-04-23T18:34:15.366Z"
   },
   {
    "duration": 14,
    "start_time": "2023-04-23T18:34:15.390Z"
   },
   {
    "duration": 29,
    "start_time": "2023-04-23T18:34:15.406Z"
   },
   {
    "duration": 41,
    "start_time": "2023-04-23T18:34:15.437Z"
   },
   {
    "duration": 17,
    "start_time": "2023-04-23T18:34:15.480Z"
   },
   {
    "duration": 20,
    "start_time": "2023-04-23T18:34:15.498Z"
   },
   {
    "duration": 10,
    "start_time": "2023-04-23T18:34:15.520Z"
   },
   {
    "duration": 14,
    "start_time": "2023-04-23T18:34:15.532Z"
   },
   {
    "duration": 5,
    "start_time": "2023-04-23T18:34:15.548Z"
   },
   {
    "duration": 15,
    "start_time": "2023-04-23T18:34:15.554Z"
   },
   {
    "duration": 13,
    "start_time": "2023-04-23T18:34:15.570Z"
   },
   {
    "duration": 16,
    "start_time": "2023-04-23T18:34:15.584Z"
   },
   {
    "duration": 289,
    "start_time": "2023-04-23T18:34:15.602Z"
   },
   {
    "duration": 415,
    "start_time": "2023-04-23T18:34:15.893Z"
   },
   {
    "duration": 297,
    "start_time": "2023-04-23T18:34:16.310Z"
   },
   {
    "duration": 451,
    "start_time": "2023-04-23T18:34:16.608Z"
   },
   {
    "duration": 397,
    "start_time": "2023-04-23T18:34:17.063Z"
   },
   {
    "duration": 400,
    "start_time": "2023-04-23T18:34:17.461Z"
   },
   {
    "duration": 8,
    "start_time": "2023-04-23T18:34:17.863Z"
   },
   {
    "duration": 214,
    "start_time": "2023-04-23T18:34:17.873Z"
   },
   {
    "duration": 4,
    "start_time": "2023-04-23T18:34:18.088Z"
   },
   {
    "duration": 230,
    "start_time": "2023-04-23T18:34:18.094Z"
   },
   {
    "duration": 241,
    "start_time": "2023-04-23T18:34:18.326Z"
   },
   {
    "duration": 4,
    "start_time": "2023-04-23T18:34:18.569Z"
   },
   {
    "duration": 268,
    "start_time": "2023-04-23T18:34:18.575Z"
   },
   {
    "duration": 17,
    "start_time": "2023-04-23T18:34:18.844Z"
   },
   {
    "duration": 162,
    "start_time": "2023-04-23T18:34:18.862Z"
   },
   {
    "duration": 6,
    "start_time": "2023-04-23T18:34:19.026Z"
   },
   {
    "duration": 41,
    "start_time": "2023-04-23T18:34:19.034Z"
   },
   {
    "duration": 46,
    "start_time": "2023-04-23T18:37:36.100Z"
   },
   {
    "duration": 39,
    "start_time": "2023-04-23T18:37:49.595Z"
   },
   {
    "duration": 24,
    "start_time": "2023-04-23T18:41:05.383Z"
   },
   {
    "duration": 81,
    "start_time": "2023-04-23T18:45:34.522Z"
   },
   {
    "duration": 41,
    "start_time": "2023-04-23T18:46:15.926Z"
   },
   {
    "duration": 22,
    "start_time": "2023-04-23T18:46:21.171Z"
   },
   {
    "duration": 32,
    "start_time": "2023-04-23T18:46:26.342Z"
   },
   {
    "duration": 33,
    "start_time": "2023-04-23T18:46:34.972Z"
   },
   {
    "duration": 22,
    "start_time": "2023-04-23T18:46:39.522Z"
   },
   {
    "duration": 42,
    "start_time": "2023-04-23T18:49:06.986Z"
   },
   {
    "duration": 12,
    "start_time": "2023-04-23T18:53:19.410Z"
   },
   {
    "duration": 12,
    "start_time": "2023-04-23T18:56:22.685Z"
   },
   {
    "duration": 3,
    "start_time": "2023-04-23T19:13:00.340Z"
   },
   {
    "duration": 10,
    "start_time": "2023-04-23T19:18:18.923Z"
   },
   {
    "duration": 9,
    "start_time": "2023-04-23T19:18:41.595Z"
   },
   {
    "duration": 9,
    "start_time": "2023-04-23T19:18:46.363Z"
   },
   {
    "duration": 60,
    "start_time": "2023-04-23T19:19:13.728Z"
   },
   {
    "duration": 8,
    "start_time": "2023-04-23T19:21:04.126Z"
   },
   {
    "duration": 37,
    "start_time": "2023-04-23T19:21:32.003Z"
   },
   {
    "duration": 8,
    "start_time": "2023-04-23T19:31:26.455Z"
   },
   {
    "duration": 860,
    "start_time": "2023-04-23T19:32:03.171Z"
   },
   {
    "duration": 22,
    "start_time": "2023-04-23T19:32:23.230Z"
   },
   {
    "duration": 20,
    "start_time": "2023-04-23T19:34:34.914Z"
   },
   {
    "duration": 47,
    "start_time": "2023-04-23T19:35:25.681Z"
   },
   {
    "duration": 10,
    "start_time": "2023-04-23T19:35:36.481Z"
   },
   {
    "duration": 14,
    "start_time": "2023-04-23T19:36:05.189Z"
   },
   {
    "duration": 15,
    "start_time": "2023-04-23T19:36:37.127Z"
   },
   {
    "duration": 57,
    "start_time": "2023-04-23T23:07:11.361Z"
   },
   {
    "duration": 420,
    "start_time": "2023-04-23T23:32:57.389Z"
   },
   {
    "duration": 289,
    "start_time": "2023-04-23T23:34:32.355Z"
   },
   {
    "duration": 371,
    "start_time": "2023-04-23T23:35:38.685Z"
   },
   {
    "duration": 297,
    "start_time": "2023-04-23T23:36:06.515Z"
   },
   {
    "duration": 40,
    "start_time": "2023-04-23T23:44:55.576Z"
   },
   {
    "duration": 1135,
    "start_time": "2023-04-23T23:50:03.642Z"
   },
   {
    "duration": 76,
    "start_time": "2023-04-23T23:50:04.778Z"
   },
   {
    "duration": 29,
    "start_time": "2023-04-23T23:50:04.857Z"
   },
   {
    "duration": 10,
    "start_time": "2023-04-23T23:50:04.889Z"
   },
   {
    "duration": 21,
    "start_time": "2023-04-23T23:50:04.901Z"
   },
   {
    "duration": 35,
    "start_time": "2023-04-23T23:50:04.924Z"
   },
   {
    "duration": 17,
    "start_time": "2023-04-23T23:50:04.961Z"
   },
   {
    "duration": 19,
    "start_time": "2023-04-23T23:50:04.980Z"
   },
   {
    "duration": 18,
    "start_time": "2023-04-23T23:50:05.001Z"
   },
   {
    "duration": 30,
    "start_time": "2023-04-23T23:50:05.022Z"
   },
   {
    "duration": 13,
    "start_time": "2023-04-23T23:50:05.054Z"
   },
   {
    "duration": 10,
    "start_time": "2023-04-23T23:50:05.068Z"
   },
   {
    "duration": 24,
    "start_time": "2023-04-23T23:50:05.082Z"
   },
   {
    "duration": 20,
    "start_time": "2023-04-23T23:50:05.108Z"
   },
   {
    "duration": 38,
    "start_time": "2023-04-23T23:50:05.130Z"
   },
   {
    "duration": 34,
    "start_time": "2023-04-23T23:50:05.169Z"
   },
   {
    "duration": 15,
    "start_time": "2023-04-23T23:50:05.204Z"
   },
   {
    "duration": 35,
    "start_time": "2023-04-23T23:50:05.220Z"
   },
   {
    "duration": 11,
    "start_time": "2023-04-23T23:50:05.257Z"
   },
   {
    "duration": 19,
    "start_time": "2023-04-23T23:50:05.270Z"
   },
   {
    "duration": 13,
    "start_time": "2023-04-23T23:50:05.291Z"
   },
   {
    "duration": 18,
    "start_time": "2023-04-23T23:50:05.305Z"
   },
   {
    "duration": 279,
    "start_time": "2023-04-23T23:50:05.325Z"
   },
   {
    "duration": 385,
    "start_time": "2023-04-23T23:50:05.605Z"
   },
   {
    "duration": 281,
    "start_time": "2023-04-23T23:50:05.992Z"
   },
   {
    "duration": 388,
    "start_time": "2023-04-23T23:50:06.275Z"
   },
   {
    "duration": 318,
    "start_time": "2023-04-23T23:50:06.665Z"
   },
   {
    "duration": 378,
    "start_time": "2023-04-23T23:50:06.985Z"
   },
   {
    "duration": 10,
    "start_time": "2023-04-23T23:50:07.365Z"
   },
   {
    "duration": 209,
    "start_time": "2023-04-23T23:50:07.376Z"
   },
   {
    "duration": 5,
    "start_time": "2023-04-23T23:50:07.587Z"
   },
   {
    "duration": 225,
    "start_time": "2023-04-23T23:50:07.593Z"
   },
   {
    "duration": 229,
    "start_time": "2023-04-23T23:50:07.819Z"
   },
   {
    "duration": 4,
    "start_time": "2023-04-23T23:50:08.050Z"
   },
   {
    "duration": 214,
    "start_time": "2023-04-23T23:50:08.056Z"
   },
   {
    "duration": 11,
    "start_time": "2023-04-23T23:50:08.272Z"
   },
   {
    "duration": 138,
    "start_time": "2023-04-23T23:50:08.285Z"
   },
   {
    "duration": 6,
    "start_time": "2023-04-23T23:50:08.425Z"
   },
   {
    "duration": 35,
    "start_time": "2023-04-23T23:50:08.432Z"
   },
   {
    "duration": 9,
    "start_time": "2023-04-23T23:50:08.471Z"
   },
   {
    "duration": 30,
    "start_time": "2023-04-23T23:50:08.482Z"
   },
   {
    "duration": 13,
    "start_time": "2023-04-23T23:50:08.513Z"
   },
   {
    "duration": 22,
    "start_time": "2023-04-23T23:50:08.528Z"
   },
   {
    "duration": 14,
    "start_time": "2023-04-23T23:50:08.551Z"
   },
   {
    "duration": 56,
    "start_time": "2023-04-24T11:44:49.404Z"
   },
   {
    "duration": 1436,
    "start_time": "2023-04-24T11:44:58.483Z"
   },
   {
    "duration": 215,
    "start_time": "2023-04-24T11:44:59.921Z"
   },
   {
    "duration": 29,
    "start_time": "2023-04-24T11:45:00.137Z"
   },
   {
    "duration": 19,
    "start_time": "2023-04-24T11:45:00.168Z"
   },
   {
    "duration": 38,
    "start_time": "2023-04-24T11:45:00.189Z"
   },
   {
    "duration": 22,
    "start_time": "2023-04-24T11:45:00.228Z"
   },
   {
    "duration": 45,
    "start_time": "2023-04-24T11:45:00.252Z"
   },
   {
    "duration": 43,
    "start_time": "2023-04-24T11:45:00.299Z"
   },
   {
    "duration": 38,
    "start_time": "2023-04-24T11:45:00.344Z"
   },
   {
    "duration": 33,
    "start_time": "2023-04-24T11:45:00.386Z"
   },
   {
    "duration": 27,
    "start_time": "2023-04-24T11:45:00.422Z"
   },
   {
    "duration": 40,
    "start_time": "2023-04-24T11:45:00.451Z"
   },
   {
    "duration": 33,
    "start_time": "2023-04-24T11:45:00.493Z"
   },
   {
    "duration": 76,
    "start_time": "2023-04-24T11:45:00.528Z"
   },
   {
    "duration": 56,
    "start_time": "2023-04-24T11:45:00.607Z"
   },
   {
    "duration": 60,
    "start_time": "2023-04-24T11:45:00.665Z"
   },
   {
    "duration": 23,
    "start_time": "2023-04-24T11:45:00.726Z"
   },
   {
    "duration": 36,
    "start_time": "2023-04-24T11:45:00.751Z"
   },
   {
    "duration": 26,
    "start_time": "2023-04-24T11:45:00.788Z"
   },
   {
    "duration": 37,
    "start_time": "2023-04-24T11:45:00.815Z"
   },
   {
    "duration": 22,
    "start_time": "2023-04-24T11:45:00.854Z"
   },
   {
    "duration": 26,
    "start_time": "2023-04-24T11:45:00.878Z"
   },
   {
    "duration": 304,
    "start_time": "2023-04-24T11:45:00.906Z"
   },
   {
    "duration": 405,
    "start_time": "2023-04-24T11:45:01.212Z"
   },
   {
    "duration": 286,
    "start_time": "2023-04-24T11:45:01.619Z"
   },
   {
    "duration": 424,
    "start_time": "2023-04-24T11:45:01.906Z"
   },
   {
    "duration": 316,
    "start_time": "2023-04-24T11:45:02.332Z"
   },
   {
    "duration": 415,
    "start_time": "2023-04-24T11:45:02.652Z"
   },
   {
    "duration": 20,
    "start_time": "2023-04-24T11:45:03.069Z"
   },
   {
    "duration": 197,
    "start_time": "2023-04-24T11:45:03.091Z"
   },
   {
    "duration": 5,
    "start_time": "2023-04-24T11:45:03.290Z"
   },
   {
    "duration": 217,
    "start_time": "2023-04-24T11:45:03.297Z"
   },
   {
    "duration": 216,
    "start_time": "2023-04-24T11:45:03.516Z"
   },
   {
    "duration": 6,
    "start_time": "2023-04-24T11:45:03.734Z"
   },
   {
    "duration": 229,
    "start_time": "2023-04-24T11:45:03.741Z"
   },
   {
    "duration": 26,
    "start_time": "2023-04-24T11:45:03.972Z"
   },
   {
    "duration": 217,
    "start_time": "2023-04-24T11:45:04.000Z"
   },
   {
    "duration": 5,
    "start_time": "2023-04-24T11:45:04.219Z"
   },
   {
    "duration": 28,
    "start_time": "2023-04-24T11:45:04.225Z"
   },
   {
    "duration": 9,
    "start_time": "2023-04-24T11:45:04.255Z"
   },
   {
    "duration": 24,
    "start_time": "2023-04-24T11:45:04.265Z"
   },
   {
    "duration": 19,
    "start_time": "2023-04-24T11:45:04.290Z"
   },
   {
    "duration": 23,
    "start_time": "2023-04-24T11:45:04.310Z"
   },
   {
    "duration": 13,
    "start_time": "2023-04-24T11:45:04.335Z"
   },
   {
    "duration": 317,
    "start_time": "2023-04-24T11:46:50.172Z"
   },
   {
    "duration": 370,
    "start_time": "2023-04-24T11:47:25.815Z"
   },
   {
    "duration": 399,
    "start_time": "2023-04-24T11:48:50.753Z"
   },
   {
    "duration": 394,
    "start_time": "2023-04-24T11:48:57.497Z"
   },
   {
    "duration": 434,
    "start_time": "2023-04-24T11:49:11.451Z"
   },
   {
    "duration": 330,
    "start_time": "2023-04-24T11:51:12.431Z"
   },
   {
    "duration": 307,
    "start_time": "2023-04-24T11:51:22.011Z"
   },
   {
    "duration": 84,
    "start_time": "2023-04-24T12:01:55.835Z"
   },
   {
    "duration": 30,
    "start_time": "2023-04-24T12:03:03.388Z"
   },
   {
    "duration": 76,
    "start_time": "2023-04-24T12:03:31.984Z"
   },
   {
    "duration": 24,
    "start_time": "2023-04-24T12:05:42.519Z"
   },
   {
    "duration": 78,
    "start_time": "2023-04-24T12:06:33.038Z"
   },
   {
    "duration": 208,
    "start_time": "2023-04-24T13:14:27.348Z"
   },
   {
    "duration": 231,
    "start_time": "2023-04-24T13:14:41.879Z"
   },
   {
    "duration": 225,
    "start_time": "2023-04-24T13:15:02.193Z"
   },
   {
    "duration": 10,
    "start_time": "2023-04-24T13:17:08.354Z"
   },
   {
    "duration": 11,
    "start_time": "2023-04-24T13:17:13.190Z"
   },
   {
    "duration": 84,
    "start_time": "2023-04-24T13:17:56.523Z"
   },
   {
    "duration": 12,
    "start_time": "2023-04-24T13:18:04.646Z"
   },
   {
    "duration": 12,
    "start_time": "2023-04-24T13:20:47.848Z"
   },
   {
    "duration": 13,
    "start_time": "2023-04-24T13:21:19.480Z"
   },
   {
    "duration": 12,
    "start_time": "2023-04-24T13:21:36.520Z"
   },
   {
    "duration": 91,
    "start_time": "2023-04-24T13:21:57.109Z"
   },
   {
    "duration": 11,
    "start_time": "2023-04-24T13:22:15.179Z"
   },
   {
    "duration": 11,
    "start_time": "2023-04-24T13:22:25.316Z"
   },
   {
    "duration": 5,
    "start_time": "2023-04-24T13:27:40.584Z"
   },
   {
    "duration": 8,
    "start_time": "2023-04-24T13:36:37.911Z"
   },
   {
    "duration": 23,
    "start_time": "2023-04-24T13:36:41.956Z"
   },
   {
    "duration": 16,
    "start_time": "2023-04-24T13:36:50.587Z"
   },
   {
    "duration": 79,
    "start_time": "2023-04-24T13:40:40.645Z"
   },
   {
    "duration": 1183,
    "start_time": "2023-04-24T14:33:19.696Z"
   },
   {
    "duration": 75,
    "start_time": "2023-04-24T14:33:20.881Z"
   },
   {
    "duration": 29,
    "start_time": "2023-04-24T14:33:20.957Z"
   },
   {
    "duration": 14,
    "start_time": "2023-04-24T14:33:20.988Z"
   },
   {
    "duration": 19,
    "start_time": "2023-04-24T14:33:21.005Z"
   },
   {
    "duration": 20,
    "start_time": "2023-04-24T14:33:21.026Z"
   },
   {
    "duration": 17,
    "start_time": "2023-04-24T14:33:21.048Z"
   },
   {
    "duration": 9,
    "start_time": "2023-04-24T14:33:21.067Z"
   },
   {
    "duration": 7,
    "start_time": "2023-04-24T14:33:21.085Z"
   },
   {
    "duration": 24,
    "start_time": "2023-04-24T14:33:21.093Z"
   },
   {
    "duration": 31,
    "start_time": "2023-04-24T14:33:21.119Z"
   },
   {
    "duration": 24,
    "start_time": "2023-04-24T14:33:21.151Z"
   },
   {
    "duration": 23,
    "start_time": "2023-04-24T14:33:21.176Z"
   },
   {
    "duration": 19,
    "start_time": "2023-04-24T14:33:21.202Z"
   },
   {
    "duration": 10,
    "start_time": "2023-04-24T14:33:21.223Z"
   },
   {
    "duration": 10,
    "start_time": "2023-04-24T14:33:21.235Z"
   },
   {
    "duration": 4,
    "start_time": "2023-04-24T14:33:21.246Z"
   },
   {
    "duration": 11,
    "start_time": "2023-04-24T14:33:21.252Z"
   },
   {
    "duration": 4,
    "start_time": "2023-04-24T14:33:21.265Z"
   },
   {
    "duration": 11,
    "start_time": "2023-04-24T14:33:21.284Z"
   },
   {
    "duration": 5,
    "start_time": "2023-04-24T14:33:21.296Z"
   },
   {
    "duration": 11,
    "start_time": "2023-04-24T14:33:21.303Z"
   },
   {
    "duration": 296,
    "start_time": "2023-04-24T14:33:21.316Z"
   },
   {
    "duration": 427,
    "start_time": "2023-04-24T14:33:21.614Z"
   },
   {
    "duration": 286,
    "start_time": "2023-04-24T14:33:22.042Z"
   },
   {
    "duration": 373,
    "start_time": "2023-04-24T14:33:22.330Z"
   },
   {
    "duration": 328,
    "start_time": "2023-04-24T14:33:22.705Z"
   },
   {
    "duration": 427,
    "start_time": "2023-04-24T14:33:23.034Z"
   },
   {
    "duration": 10,
    "start_time": "2023-04-24T14:33:23.462Z"
   },
   {
    "duration": 204,
    "start_time": "2023-04-24T14:33:23.485Z"
   },
   {
    "duration": 4,
    "start_time": "2023-04-24T14:33:23.690Z"
   },
   {
    "duration": 235,
    "start_time": "2023-04-24T14:33:23.696Z"
   },
   {
    "duration": 286,
    "start_time": "2023-04-24T14:33:23.933Z"
   },
   {
    "duration": 6,
    "start_time": "2023-04-24T14:33:24.221Z"
   },
   {
    "duration": 257,
    "start_time": "2023-04-24T14:33:24.229Z"
   },
   {
    "duration": 11,
    "start_time": "2023-04-24T14:33:24.488Z"
   },
   {
    "duration": 152,
    "start_time": "2023-04-24T14:33:24.501Z"
   },
   {
    "duration": 6,
    "start_time": "2023-04-24T14:33:24.655Z"
   },
   {
    "duration": 34,
    "start_time": "2023-04-24T14:33:24.663Z"
   },
   {
    "duration": 12,
    "start_time": "2023-04-24T14:33:24.699Z"
   },
   {
    "duration": 12,
    "start_time": "2023-04-24T14:33:24.714Z"
   },
   {
    "duration": 5,
    "start_time": "2023-04-24T14:33:24.728Z"
   },
   {
    "duration": 9,
    "start_time": "2023-04-24T14:33:24.734Z"
   },
   {
    "duration": 54,
    "start_time": "2023-04-24T14:33:24.744Z"
   },
   {
    "duration": 14,
    "start_time": "2023-04-24T14:33:24.801Z"
   },
   {
    "duration": 418,
    "start_time": "2023-04-24T14:34:50.685Z"
   },
   {
    "duration": 547,
    "start_time": "2023-04-24T14:34:57.900Z"
   },
   {
    "duration": 216,
    "start_time": "2023-04-24T14:43:32.218Z"
   },
   {
    "duration": 223,
    "start_time": "2023-04-24T14:43:59.311Z"
   },
   {
    "duration": 1173,
    "start_time": "2023-04-24T14:49:44.881Z"
   },
   {
    "duration": 73,
    "start_time": "2023-04-24T14:49:46.056Z"
   },
   {
    "duration": 27,
    "start_time": "2023-04-24T14:49:46.131Z"
   },
   {
    "duration": 11,
    "start_time": "2023-04-24T14:49:46.160Z"
   },
   {
    "duration": 11,
    "start_time": "2023-04-24T14:49:46.173Z"
   },
   {
    "duration": 9,
    "start_time": "2023-04-24T14:49:46.186Z"
   },
   {
    "duration": 6,
    "start_time": "2023-04-24T14:49:46.197Z"
   },
   {
    "duration": 6,
    "start_time": "2023-04-24T14:49:46.205Z"
   },
   {
    "duration": 8,
    "start_time": "2023-04-24T14:49:46.212Z"
   },
   {
    "duration": 5,
    "start_time": "2023-04-24T14:49:46.222Z"
   },
   {
    "duration": 6,
    "start_time": "2023-04-24T14:49:46.229Z"
   },
   {
    "duration": 4,
    "start_time": "2023-04-24T14:49:46.237Z"
   },
   {
    "duration": 43,
    "start_time": "2023-04-24T14:49:46.243Z"
   },
   {
    "duration": 11,
    "start_time": "2023-04-24T14:49:46.288Z"
   },
   {
    "duration": 14,
    "start_time": "2023-04-24T14:49:46.301Z"
   },
   {
    "duration": 10,
    "start_time": "2023-04-24T14:49:46.317Z"
   },
   {
    "duration": 5,
    "start_time": "2023-04-24T14:49:46.328Z"
   },
   {
    "duration": 11,
    "start_time": "2023-04-24T14:49:46.335Z"
   },
   {
    "duration": 5,
    "start_time": "2023-04-24T14:49:46.347Z"
   },
   {
    "duration": 36,
    "start_time": "2023-04-24T14:49:46.354Z"
   },
   {
    "duration": 8,
    "start_time": "2023-04-24T14:49:46.392Z"
   },
   {
    "duration": 16,
    "start_time": "2023-04-24T14:49:46.402Z"
   },
   {
    "duration": 292,
    "start_time": "2023-04-24T14:49:46.420Z"
   },
   {
    "duration": 412,
    "start_time": "2023-04-24T14:49:46.713Z"
   },
   {
    "duration": 295,
    "start_time": "2023-04-24T14:49:47.127Z"
   },
   {
    "duration": 378,
    "start_time": "2023-04-24T14:49:47.423Z"
   },
   {
    "duration": 321,
    "start_time": "2023-04-24T14:49:47.803Z"
   },
   {
    "duration": 444,
    "start_time": "2023-04-24T14:49:48.128Z"
   },
   {
    "duration": 11,
    "start_time": "2023-04-24T14:49:48.574Z"
   },
   {
    "duration": 220,
    "start_time": "2023-04-24T14:49:48.586Z"
   },
   {
    "duration": 4,
    "start_time": "2023-04-24T14:49:48.808Z"
   },
   {
    "duration": 259,
    "start_time": "2023-04-24T14:49:48.814Z"
   },
   {
    "duration": 242,
    "start_time": "2023-04-24T14:49:49.075Z"
   },
   {
    "duration": 5,
    "start_time": "2023-04-24T14:49:49.318Z"
   },
   {
    "duration": 242,
    "start_time": "2023-04-24T14:49:49.325Z"
   },
   {
    "duration": 18,
    "start_time": "2023-04-24T14:49:49.568Z"
   },
   {
    "duration": 161,
    "start_time": "2023-04-24T14:49:49.588Z"
   },
   {
    "duration": 6,
    "start_time": "2023-04-24T14:49:49.751Z"
   },
   {
    "duration": 45,
    "start_time": "2023-04-24T14:49:49.758Z"
   },
   {
    "duration": 11,
    "start_time": "2023-04-24T14:49:49.805Z"
   },
   {
    "duration": 20,
    "start_time": "2023-04-24T14:49:49.817Z"
   },
   {
    "duration": 12,
    "start_time": "2023-04-24T14:49:49.839Z"
   },
   {
    "duration": 40,
    "start_time": "2023-04-24T14:49:49.853Z"
   },
   {
    "duration": 13,
    "start_time": "2023-04-24T14:49:49.895Z"
   },
   {
    "duration": 1101,
    "start_time": "2023-04-24T14:55:40.443Z"
   },
   {
    "duration": 72,
    "start_time": "2023-04-24T14:55:41.546Z"
   },
   {
    "duration": 33,
    "start_time": "2023-04-24T14:55:41.621Z"
   },
   {
    "duration": 10,
    "start_time": "2023-04-24T14:55:41.656Z"
   },
   {
    "duration": 10,
    "start_time": "2023-04-24T14:55:41.668Z"
   },
   {
    "duration": 12,
    "start_time": "2023-04-24T14:55:41.679Z"
   },
   {
    "duration": 12,
    "start_time": "2023-04-24T14:55:41.693Z"
   },
   {
    "duration": 11,
    "start_time": "2023-04-24T14:55:41.706Z"
   },
   {
    "duration": 6,
    "start_time": "2023-04-24T14:55:41.719Z"
   },
   {
    "duration": 6,
    "start_time": "2023-04-24T14:55:41.727Z"
   },
   {
    "duration": 8,
    "start_time": "2023-04-24T14:55:41.734Z"
   },
   {
    "duration": 4,
    "start_time": "2023-04-24T14:55:41.743Z"
   },
   {
    "duration": 36,
    "start_time": "2023-04-24T14:55:41.749Z"
   },
   {
    "duration": 9,
    "start_time": "2023-04-24T14:55:41.789Z"
   },
   {
    "duration": 15,
    "start_time": "2023-04-24T14:55:41.800Z"
   },
   {
    "duration": 14,
    "start_time": "2023-04-24T14:55:41.817Z"
   },
   {
    "duration": 4,
    "start_time": "2023-04-24T14:55:41.833Z"
   },
   {
    "duration": 13,
    "start_time": "2023-04-24T14:55:41.839Z"
   },
   {
    "duration": 5,
    "start_time": "2023-04-24T14:55:41.854Z"
   },
   {
    "duration": 32,
    "start_time": "2023-04-24T14:55:41.860Z"
   },
   {
    "duration": 12,
    "start_time": "2023-04-24T14:55:41.894Z"
   },
   {
    "duration": 11,
    "start_time": "2023-04-24T14:55:41.908Z"
   },
   {
    "duration": 293,
    "start_time": "2023-04-24T14:55:41.921Z"
   },
   {
    "duration": 417,
    "start_time": "2023-04-24T14:55:42.216Z"
   },
   {
    "duration": 296,
    "start_time": "2023-04-24T14:55:42.635Z"
   },
   {
    "duration": 374,
    "start_time": "2023-04-24T14:55:42.933Z"
   },
   {
    "duration": 301,
    "start_time": "2023-04-24T14:55:43.308Z"
   },
   {
    "duration": 438,
    "start_time": "2023-04-24T14:55:43.610Z"
   },
   {
    "duration": 14,
    "start_time": "2023-04-24T14:55:44.050Z"
   },
   {
    "duration": 263,
    "start_time": "2023-04-24T14:55:44.066Z"
   },
   {
    "duration": 4,
    "start_time": "2023-04-24T14:55:44.331Z"
   },
   {
    "duration": 232,
    "start_time": "2023-04-24T14:55:44.336Z"
   },
   {
    "duration": 238,
    "start_time": "2023-04-24T14:55:44.570Z"
   },
   {
    "duration": 5,
    "start_time": "2023-04-24T14:55:44.809Z"
   },
   {
    "duration": 235,
    "start_time": "2023-04-24T14:55:44.816Z"
   },
   {
    "duration": 12,
    "start_time": "2023-04-24T14:55:45.053Z"
   },
   {
    "duration": 166,
    "start_time": "2023-04-24T14:55:45.067Z"
   },
   {
    "duration": 6,
    "start_time": "2023-04-24T14:55:45.235Z"
   },
   {
    "duration": 38,
    "start_time": "2023-04-24T14:55:45.242Z"
   },
   {
    "duration": 12,
    "start_time": "2023-04-24T14:55:45.284Z"
   },
   {
    "duration": 36,
    "start_time": "2023-04-24T14:55:45.300Z"
   },
   {
    "duration": 9,
    "start_time": "2023-04-24T14:55:45.338Z"
   },
   {
    "duration": 41,
    "start_time": "2023-04-24T14:55:45.350Z"
   },
   {
    "duration": 15,
    "start_time": "2023-04-24T14:55:45.393Z"
   },
   {
    "duration": 1113,
    "start_time": "2023-04-24T14:58:29.829Z"
   },
   {
    "duration": 73,
    "start_time": "2023-04-24T14:58:30.944Z"
   },
   {
    "duration": 27,
    "start_time": "2023-04-24T14:58:31.020Z"
   },
   {
    "duration": 26,
    "start_time": "2023-04-24T14:58:31.050Z"
   },
   {
    "duration": 41,
    "start_time": "2023-04-24T14:58:31.078Z"
   },
   {
    "duration": 24,
    "start_time": "2023-04-24T14:58:31.121Z"
   },
   {
    "duration": 22,
    "start_time": "2023-04-24T14:58:31.147Z"
   },
   {
    "duration": 28,
    "start_time": "2023-04-24T14:58:31.171Z"
   },
   {
    "duration": 8,
    "start_time": "2023-04-24T14:58:31.201Z"
   },
   {
    "duration": 24,
    "start_time": "2023-04-24T14:58:31.212Z"
   },
   {
    "duration": 38,
    "start_time": "2023-04-24T14:58:31.238Z"
   },
   {
    "duration": 15,
    "start_time": "2023-04-24T14:58:31.278Z"
   },
   {
    "duration": 40,
    "start_time": "2023-04-24T14:58:31.295Z"
   },
   {
    "duration": 33,
    "start_time": "2023-04-24T14:58:31.337Z"
   },
   {
    "duration": 16,
    "start_time": "2023-04-24T14:58:31.371Z"
   },
   {
    "duration": 63,
    "start_time": "2023-04-24T14:58:31.389Z"
   },
   {
    "duration": 22,
    "start_time": "2023-04-24T14:58:31.454Z"
   },
   {
    "duration": 28,
    "start_time": "2023-04-24T14:58:31.478Z"
   },
   {
    "duration": 19,
    "start_time": "2023-04-24T14:58:31.507Z"
   },
   {
    "duration": 31,
    "start_time": "2023-04-24T14:58:31.528Z"
   },
   {
    "duration": 23,
    "start_time": "2023-04-24T14:58:31.561Z"
   },
   {
    "duration": 46,
    "start_time": "2023-04-24T14:58:31.586Z"
   },
   {
    "duration": 302,
    "start_time": "2023-04-24T14:58:31.633Z"
   },
   {
    "duration": 420,
    "start_time": "2023-04-24T14:58:31.937Z"
   },
   {
    "duration": 321,
    "start_time": "2023-04-24T14:58:32.359Z"
   },
   {
    "duration": 416,
    "start_time": "2023-04-24T14:58:32.682Z"
   },
   {
    "duration": 306,
    "start_time": "2023-04-24T14:58:33.101Z"
   },
   {
    "duration": 395,
    "start_time": "2023-04-24T14:58:33.411Z"
   },
   {
    "duration": 11,
    "start_time": "2023-04-24T14:58:33.808Z"
   },
   {
    "duration": 240,
    "start_time": "2023-04-24T14:58:33.821Z"
   },
   {
    "duration": 5,
    "start_time": "2023-04-24T14:58:34.063Z"
   },
   {
    "duration": 258,
    "start_time": "2023-04-24T14:58:34.069Z"
   },
   {
    "duration": 300,
    "start_time": "2023-04-24T14:58:34.329Z"
   },
   {
    "duration": 4,
    "start_time": "2023-04-24T14:58:34.631Z"
   },
   {
    "duration": 251,
    "start_time": "2023-04-24T14:58:34.637Z"
   },
   {
    "duration": 20,
    "start_time": "2023-04-24T14:58:34.890Z"
   },
   {
    "duration": 188,
    "start_time": "2023-04-24T14:58:34.912Z"
   },
   {
    "duration": 7,
    "start_time": "2023-04-24T14:58:35.102Z"
   },
   {
    "duration": 30,
    "start_time": "2023-04-24T14:58:35.110Z"
   },
   {
    "duration": 13,
    "start_time": "2023-04-24T14:58:35.142Z"
   },
   {
    "duration": 41,
    "start_time": "2023-04-24T14:58:35.157Z"
   },
   {
    "duration": 12,
    "start_time": "2023-04-24T14:58:35.200Z"
   },
   {
    "duration": 36,
    "start_time": "2023-04-24T14:58:35.213Z"
   },
   {
    "duration": 13,
    "start_time": "2023-04-24T14:58:35.251Z"
   },
   {
    "duration": 1439,
    "start_time": "2023-05-01T10:27:07.540Z"
   },
   {
    "duration": 202,
    "start_time": "2023-05-01T10:27:08.981Z"
   },
   {
    "duration": 34,
    "start_time": "2023-05-01T10:27:09.184Z"
   },
   {
    "duration": 22,
    "start_time": "2023-05-01T10:27:09.220Z"
   },
   {
    "duration": 16,
    "start_time": "2023-05-01T10:27:09.244Z"
   },
   {
    "duration": 38,
    "start_time": "2023-05-01T10:27:09.284Z"
   },
   {
    "duration": 15,
    "start_time": "2023-05-01T10:27:09.325Z"
   },
   {
    "duration": 20,
    "start_time": "2023-05-01T10:27:09.342Z"
   },
   {
    "duration": 32,
    "start_time": "2023-05-01T10:27:09.364Z"
   },
   {
    "duration": 33,
    "start_time": "2023-05-01T10:27:09.402Z"
   },
   {
    "duration": 13,
    "start_time": "2023-05-01T10:27:09.438Z"
   },
   {
    "duration": 14,
    "start_time": "2023-05-01T10:27:09.454Z"
   },
   {
    "duration": 12,
    "start_time": "2023-05-01T10:27:09.470Z"
   },
   {
    "duration": 45,
    "start_time": "2023-05-01T10:27:09.484Z"
   },
   {
    "duration": 27,
    "start_time": "2023-05-01T10:27:09.531Z"
   },
   {
    "duration": 16,
    "start_time": "2023-05-01T10:27:09.560Z"
   },
   {
    "duration": 28,
    "start_time": "2023-05-01T10:27:09.577Z"
   },
   {
    "duration": 20,
    "start_time": "2023-05-01T10:27:09.607Z"
   },
   {
    "duration": 6,
    "start_time": "2023-05-01T10:27:09.629Z"
   },
   {
    "duration": 28,
    "start_time": "2023-05-01T10:27:09.638Z"
   },
   {
    "duration": 35,
    "start_time": "2023-05-01T10:27:09.668Z"
   },
   {
    "duration": 38,
    "start_time": "2023-05-01T10:27:09.705Z"
   },
   {
    "duration": 378,
    "start_time": "2023-05-01T10:27:09.746Z"
   },
   {
    "duration": 582,
    "start_time": "2023-05-01T10:27:10.127Z"
   },
   {
    "duration": 368,
    "start_time": "2023-05-01T10:27:10.711Z"
   },
   {
    "duration": 466,
    "start_time": "2023-05-01T10:27:11.083Z"
   },
   {
    "duration": 362,
    "start_time": "2023-05-01T10:27:11.551Z"
   },
   {
    "duration": 419,
    "start_time": "2023-05-01T10:27:11.917Z"
   },
   {
    "duration": 10,
    "start_time": "2023-05-01T10:27:12.338Z"
   },
   {
    "duration": 252,
    "start_time": "2023-05-01T10:27:12.350Z"
   },
   {
    "duration": 5,
    "start_time": "2023-05-01T10:27:12.605Z"
   },
   {
    "duration": 273,
    "start_time": "2023-05-01T10:27:12.612Z"
   },
   {
    "duration": 278,
    "start_time": "2023-05-01T10:27:12.893Z"
   },
   {
    "duration": 23,
    "start_time": "2023-05-01T10:27:13.173Z"
   },
   {
    "duration": 247,
    "start_time": "2023-05-01T10:27:13.202Z"
   },
   {
    "duration": 36,
    "start_time": "2023-05-01T10:27:13.451Z"
   },
   {
    "duration": 182,
    "start_time": "2023-05-01T10:27:13.496Z"
   },
   {
    "duration": 9,
    "start_time": "2023-05-01T10:27:13.680Z"
   },
   {
    "duration": 45,
    "start_time": "2023-05-01T10:27:13.691Z"
   },
   {
    "duration": 11,
    "start_time": "2023-05-01T10:27:13.738Z"
   },
   {
    "duration": 15,
    "start_time": "2023-05-01T10:27:13.751Z"
   },
   {
    "duration": 32,
    "start_time": "2023-05-01T10:27:13.768Z"
   },
   {
    "duration": 31,
    "start_time": "2023-05-01T10:27:13.804Z"
   },
   {
    "duration": 14,
    "start_time": "2023-05-01T10:27:13.837Z"
   }
  ],
  "kernelspec": {
   "display_name": "Python 3 (ipykernel)",
   "language": "python",
   "name": "python3"
  },
  "language_info": {
   "codemirror_mode": {
    "name": "ipython",
    "version": 3
   },
   "file_extension": ".py",
   "mimetype": "text/x-python",
   "name": "python",
   "nbconvert_exporter": "python",
   "pygments_lexer": "ipython3",
   "version": "3.10.9"
  },
  "toc": {
   "base_numbering": 1,
   "nav_menu": {},
   "number_sections": true,
   "sideBar": true,
   "skip_h1_title": true,
   "title_cell": "Table of Contents",
   "title_sidebar": "Contents",
   "toc_cell": false,
   "toc_position": {},
   "toc_section_display": true,
   "toc_window_display": true
  }
 },
 "nbformat": 4,
 "nbformat_minor": 2
}
